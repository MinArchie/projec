{
  "cells": [
    {
      "cell_type": "code",
      "execution_count": 1,
      "metadata": {
        "colab": {
          "base_uri": "https://localhost:8080/"
        },
        "id": "j8ik6bnTKdaL",
        "outputId": "9b96e6b6-5235-41c4-d588-3395fa2c86f1"
      },
      "outputs": [
        {
          "name": "stdout",
          "output_type": "stream",
          "text": [
            "CUDA Available: True\n",
            "GPU: NVIDIA GeForce RTX 4050 Laptop GPU\n",
            "CUDA Version: 12.6\n",
            "Torch Version: 2.6.0+cu126\n"
          ]
        }
      ],
      "source": [
        "import torch\n",
        "print(\"CUDA Available:\", torch.cuda.is_available())\n",
        "\n",
        "if torch.cuda.is_available():\n",
        "    print(\"GPU:\", torch.cuda.get_device_name(0))\n",
        "    print(\"CUDA Version:\", torch.version.cuda)\n",
        "    print(\"Torch Version:\", torch.__version__)\n"
      ]
    },
    {
      "cell_type": "code",
      "execution_count": 2,
      "metadata": {
        "colab": {
          "base_uri": "https://localhost:8080/"
        },
        "id": "upb1ujAzpdoF",
        "outputId": "07f4fd66-e596-44f3-e278-863fd7c1ee57"
      },
      "outputs": [],
      "source": [
        "# from google.colab import drive\n",
        "# drive.mount('/content/drive')"
      ]
    },
    {
      "cell_type": "code",
      "execution_count": 3,
      "metadata": {
        "colab": {
          "base_uri": "https://localhost:8080/"
        },
        "id": "TCuL3_2D0Qtt",
        "outputId": "26acf2cf-1e00-4721-eef6-e2a2e35c7d87"
      },
      "outputs": [],
      "source": [
        "# !ls /content/drive/MyDrive/all_data"
      ]
    },
    {
      "cell_type": "code",
      "execution_count": 4,
      "metadata": {
        "id": "9IcqbTYyDLM7"
      },
      "outputs": [],
      "source": [
        "from sklearn.model_selection import StratifiedShuffleSplit\n",
        "from rdkit import Chem\n",
        "import pandas as pd\n",
        "from collections import defaultdict\n",
        "from tqdm import tqdm\n",
        "import numpy as np\n",
        "import os\n",
        "import pickle\n",
        "import torch\n",
        "from torch_geometric.data import Data\n"
      ]
    },
    {
      "cell_type": "code",
      "execution_count": 5,
      "metadata": {
        "id": "T52h1sBJpodi"
      },
      "outputs": [],
      "source": [
        "# import pandas as pd\n",
        "# df= pd.read_csv(\"/content/drive/My Drive/all_data/twosides.csv\")"
      ]
    },
    {
      "cell_type": "code",
      "execution_count": 6,
      "metadata": {
        "colab": {
          "base_uri": "https://localhost:8080/",
          "height": 423
        },
        "id": "FDIURagpp6tB",
        "outputId": "8d6f337c-992c-42e2-ea36-fa802fabb1a7"
      },
      "outputs": [],
      "source": [
        "# df"
      ]
    },
    {
      "cell_type": "code",
      "execution_count": 7,
      "metadata": {
        "colab": {
          "base_uri": "https://localhost:8080/"
        },
        "id": "lRu56our0Rra",
        "outputId": "bd84468e-5e2e-4bf8-c694-cf0652c40fce"
      },
      "outputs": [],
      "source": [
        "# !pip install PyTDC\n"
      ]
    },
    {
      "cell_type": "code",
      "execution_count": null,
      "metadata": {
        "colab": {
          "base_uri": "https://localhost:8080/"
        },
        "id": "CGAQ9ygA4Esy",
        "outputId": "f4d14767-cdae-47ea-e529-0e880a1e088c"
      },
      "outputs": [],
      "source": [
        "\n"
      ]
    },
    {
      "cell_type": "code",
      "execution_count": 8,
      "metadata": {
        "colab": {
          "base_uri": "https://localhost:8080/",
          "height": 423
        },
        "id": "UCnhr4At4v0q",
        "outputId": "1a8f63e2-2b81-48a1-de39-1298b986eae0"
      },
      "outputs": [
        {
          "data": {
            "text/html": [
              "<div>\n",
              "<style scoped>\n",
              "    .dataframe tbody tr th:only-of-type {\n",
              "        vertical-align: middle;\n",
              "    }\n",
              "\n",
              "    .dataframe tbody tr th {\n",
              "        vertical-align: top;\n",
              "    }\n",
              "\n",
              "    .dataframe thead th {\n",
              "        text-align: right;\n",
              "    }\n",
              "</style>\n",
              "<table border=\"1\" class=\"dataframe\">\n",
              "  <thead>\n",
              "    <tr style=\"text-align: right;\">\n",
              "      <th></th>\n",
              "      <th>Drug1_ID</th>\n",
              "      <th>Drug1</th>\n",
              "      <th>Drug2_ID</th>\n",
              "      <th>Drug2</th>\n",
              "      <th>Y</th>\n",
              "    </tr>\n",
              "  </thead>\n",
              "  <tbody>\n",
              "    <tr>\n",
              "      <th>0</th>\n",
              "      <td>DB04571</td>\n",
              "      <td>CC1=CC2=CC3=C(OC(=O)C=C3C)C(C)=C2O1</td>\n",
              "      <td>DB00460</td>\n",
              "      <td>COC(=O)CCC1=C2NC(\\C=C3/N=C(/C=C4\\N\\C(=C/C5=N/C...</td>\n",
              "      <td>1</td>\n",
              "    </tr>\n",
              "    <tr>\n",
              "      <th>1</th>\n",
              "      <td>DB00855</td>\n",
              "      <td>NCC(=O)CCC(O)=O</td>\n",
              "      <td>DB00460</td>\n",
              "      <td>COC(=O)CCC1=C2NC(\\C=C3/N=C(/C=C4\\N\\C(=C/C5=N/C...</td>\n",
              "      <td>1</td>\n",
              "    </tr>\n",
              "    <tr>\n",
              "      <th>2</th>\n",
              "      <td>DB09536</td>\n",
              "      <td>O=[Ti]=O</td>\n",
              "      <td>DB00460</td>\n",
              "      <td>COC(=O)CCC1=C2NC(\\C=C3/N=C(/C=C4\\N\\C(=C/C5=N/C...</td>\n",
              "      <td>1</td>\n",
              "    </tr>\n",
              "    <tr>\n",
              "      <th>3</th>\n",
              "      <td>DB01600</td>\n",
              "      <td>CC(C(O)=O)C1=CC=C(S1)C(=O)C1=CC=CC=C1</td>\n",
              "      <td>DB00460</td>\n",
              "      <td>COC(=O)CCC1=C2NC(\\C=C3/N=C(/C=C4\\N\\C(=C/C5=N/C...</td>\n",
              "      <td>1</td>\n",
              "    </tr>\n",
              "    <tr>\n",
              "      <th>4</th>\n",
              "      <td>DB09000</td>\n",
              "      <td>CC(CN(C)C)CN1C2=CC=CC=C2SC2=C1C=C(C=C2)C#N</td>\n",
              "      <td>DB00460</td>\n",
              "      <td>COC(=O)CCC1=C2NC(\\C=C3/N=C(/C=C4\\N\\C(=C/C5=N/C...</td>\n",
              "      <td>1</td>\n",
              "    </tr>\n",
              "    <tr>\n",
              "      <th>...</th>\n",
              "      <td>...</td>\n",
              "      <td>...</td>\n",
              "      <td>...</td>\n",
              "      <td>...</td>\n",
              "      <td>...</td>\n",
              "    </tr>\n",
              "    <tr>\n",
              "      <th>191803</th>\n",
              "      <td>DB00437</td>\n",
              "      <td>OC1=NC=NC2=C1C=NN2</td>\n",
              "      <td>DB00492</td>\n",
              "      <td>CCC(=O)O[C@@H](O[P@](=O)(CCCCC1=CC=CC=C1)CC(=O...</td>\n",
              "      <td>86</td>\n",
              "    </tr>\n",
              "    <tr>\n",
              "      <th>191804</th>\n",
              "      <td>DB00437</td>\n",
              "      <td>OC1=NC=NC2=C1C=NN2</td>\n",
              "      <td>DB09477</td>\n",
              "      <td>[H][C@@](C)(N[C@@]([H])(CCC1=CC=CC=C1)C(O)=O)C...</td>\n",
              "      <td>86</td>\n",
              "    </tr>\n",
              "    <tr>\n",
              "      <th>191805</th>\n",
              "      <td>DB00437</td>\n",
              "      <td>OC1=NC=NC2=C1C=NN2</td>\n",
              "      <td>DB00790</td>\n",
              "      <td>[H][C@]12C[C@H](N(C(=O)[C@H](C)N[C@@H](CCC)C(=...</td>\n",
              "      <td>86</td>\n",
              "    </tr>\n",
              "    <tr>\n",
              "      <th>191806</th>\n",
              "      <td>DB00415</td>\n",
              "      <td>[H][C@]12SC(C)(C)[C@@H](N1C(=O)[C@H]2NC(=O)[C@...</td>\n",
              "      <td>DB00437</td>\n",
              "      <td>OC1=NC=NC2=C1C=NN2</td>\n",
              "      <td>86</td>\n",
              "    </tr>\n",
              "    <tr>\n",
              "      <th>191807</th>\n",
              "      <td>DB00437</td>\n",
              "      <td>OC1=NC=NC2=C1C=NN2</td>\n",
              "      <td>DB00691</td>\n",
              "      <td>CCOC(=O)[C@H](CCC1=CC=CC=C1)N[C@@H](C)C(=O)N1C...</td>\n",
              "      <td>86</td>\n",
              "    </tr>\n",
              "  </tbody>\n",
              "</table>\n",
              "<p>191808 rows × 5 columns</p>\n",
              "</div>"
            ],
            "text/plain": [
              "       Drug1_ID                                              Drug1 Drug2_ID  \\\n",
              "0       DB04571                CC1=CC2=CC3=C(OC(=O)C=C3C)C(C)=C2O1  DB00460   \n",
              "1       DB00855                                    NCC(=O)CCC(O)=O  DB00460   \n",
              "2       DB09536                                           O=[Ti]=O  DB00460   \n",
              "3       DB01600              CC(C(O)=O)C1=CC=C(S1)C(=O)C1=CC=CC=C1  DB00460   \n",
              "4       DB09000         CC(CN(C)C)CN1C2=CC=CC=C2SC2=C1C=C(C=C2)C#N  DB00460   \n",
              "...         ...                                                ...      ...   \n",
              "191803  DB00437                                 OC1=NC=NC2=C1C=NN2  DB00492   \n",
              "191804  DB00437                                 OC1=NC=NC2=C1C=NN2  DB09477   \n",
              "191805  DB00437                                 OC1=NC=NC2=C1C=NN2  DB00790   \n",
              "191806  DB00415  [H][C@]12SC(C)(C)[C@@H](N1C(=O)[C@H]2NC(=O)[C@...  DB00437   \n",
              "191807  DB00437                                 OC1=NC=NC2=C1C=NN2  DB00691   \n",
              "\n",
              "                                                    Drug2   Y  \n",
              "0       COC(=O)CCC1=C2NC(\\C=C3/N=C(/C=C4\\N\\C(=C/C5=N/C...   1  \n",
              "1       COC(=O)CCC1=C2NC(\\C=C3/N=C(/C=C4\\N\\C(=C/C5=N/C...   1  \n",
              "2       COC(=O)CCC1=C2NC(\\C=C3/N=C(/C=C4\\N\\C(=C/C5=N/C...   1  \n",
              "3       COC(=O)CCC1=C2NC(\\C=C3/N=C(/C=C4\\N\\C(=C/C5=N/C...   1  \n",
              "4       COC(=O)CCC1=C2NC(\\C=C3/N=C(/C=C4\\N\\C(=C/C5=N/C...   1  \n",
              "...                                                   ...  ..  \n",
              "191803  CCC(=O)O[C@@H](O[P@](=O)(CCCCC1=CC=CC=C1)CC(=O...  86  \n",
              "191804  [H][C@@](C)(N[C@@]([H])(CCC1=CC=CC=C1)C(O)=O)C...  86  \n",
              "191805  [H][C@]12C[C@H](N(C(=O)[C@H](C)N[C@@H](CCC)C(=...  86  \n",
              "191806                                 OC1=NC=NC2=C1C=NN2  86  \n",
              "191807  CCOC(=O)[C@H](CCC1=CC=CC=C1)N[C@@H](C)C(=O)N1C...  86  \n",
              "\n",
              "[191808 rows x 5 columns]"
            ]
          },
          "execution_count": 8,
          "metadata": {},
          "output_type": "execute_result"
        }
      ],
      "source": [
        "import pandas as pd\n",
        "\n",
        "df_drugbank = pd.read_csv(\"./datasets/drugbank.csv\")\n",
        "df_drugbank  # Display first few rows\n"
      ]
    },
    {
      "cell_type": "code",
      "execution_count": 9,
      "metadata": {
        "colab": {
          "base_uri": "https://localhost:8080/",
          "height": 241
        },
        "id": "d3nL2-G3M-wa",
        "outputId": "f205ee27-45d1-4bf7-877f-7d7d9c698f38"
      },
      "outputs": [
        {
          "data": {
            "text/plain": [
              "Drug1_ID    0\n",
              "Drug1       0\n",
              "Drug2_ID    0\n",
              "Drug2       0\n",
              "Y           0\n",
              "dtype: int64"
            ]
          },
          "execution_count": 9,
          "metadata": {},
          "output_type": "execute_result"
        }
      ],
      "source": [
        "df_drugbank.isnull().sum()"
      ]
    },
    {
      "cell_type": "code",
      "execution_count": 10,
      "metadata": {
        "id": "eLgMXDH-da79"
      },
      "outputs": [],
      "source": [
        "from operator import index\n",
        "import torch\n",
        "from collections import defaultdict\n",
        "from sklearn.model_selection import StratifiedShuffleSplit\n",
        "from rdkit import Chem\n",
        "import pandas as pd\n",
        "import numpy as np\n",
        "from tqdm import tqdm\n",
        "import pickle\n",
        "import os"
      ]
    },
    {
      "cell_type": "code",
      "execution_count": 11,
      "metadata": {
        "id": "K6-ya_WOda-b"
      },
      "outputs": [],
      "source": [
        "def one_of_k_encoding(k, possible_values):\n",
        "    if k not in possible_values:\n",
        "        raise ValueError(f\"{k} is not a valid value in {possible_values}\")\n",
        "    return [k == e for e in possible_values]\n",
        "\n",
        "\n",
        "def one_of_k_encoding_unk(x, allowable_set):\n",
        "    if x not in allowable_set:\n",
        "        x = allowable_set[-1]\n",
        "    return list(map(lambda s: x == s, allowable_set))"
      ]
    },
    {
      "cell_type": "code",
      "execution_count": 12,
      "metadata": {
        "id": "J9dy_v5OfI4L"
      },
      "outputs": [],
      "source": [
        "def save_data(data, filename, dirname=\"data/preprocessed\", dataset=\"drugbank\"):\n",
        "    save_path = os.path.join(dirname, dataset)\n",
        "\n",
        "    if not os.path.exists(save_path):\n",
        "        os.makedirs(save_path)\n",
        "\n",
        "    filepath = os.path.join(save_path, filename)\n",
        "\n",
        "    with open(filepath, 'wb') as f:\n",
        "        pickle.dump(data, f)\n",
        "\n",
        "    print(f'\\nData saved as {filepath}!')\n"
      ]
    },
    {
      "cell_type": "code",
      "execution_count": 13,
      "metadata": {
        "id": "psa37934dbAy"
      },
      "outputs": [],
      "source": [
        "def atom_features(atom, atom_symbols, explicit_H=True, use_chirality=False):\n",
        "\n",
        "    results = one_of_k_encoding_unk(atom.GetSymbol(), atom_symbols + ['Unknown']) + \\\n",
        "            one_of_k_encoding(atom.GetDegree(),[0, 1, 2, 3, 4, 5, 6, 7, 8, 9, 10]) + \\\n",
        "            one_of_k_encoding_unk(atom.GetImplicitValence(), [0, 1, 2, 3, 4, 5, 6]) + \\\n",
        "                [atom.GetFormalCharge(), atom.GetNumRadicalElectrons()] + \\\n",
        "            one_of_k_encoding_unk(atom.GetHybridization(), [\n",
        "                Chem.rdchem.HybridizationType.SP, Chem.rdchem.HybridizationType.SP2,\n",
        "                Chem.rdchem.HybridizationType.SP3, Chem.rdchem.HybridizationType.\n",
        "                                    SP3D, Chem.rdchem.HybridizationType.SP3D2\n",
        "                ]) + [atom.GetIsAromatic()]\n",
        "    # In case of explicit hydrogen(QM8, QM9), avoid calling `GetTotalNumHs`\n",
        "    if explicit_H:\n",
        "        results = results + one_of_k_encoding_unk(atom.GetTotalNumHs(),\n",
        "                                                [0, 1, 2, 3, 4])\n",
        "    # if use_chirality:\n",
        "    #     try:\n",
        "    #         results = results + one_of_k_encoding_unk(\n",
        "    #         atom.GetProp('_CIPCode'),\n",
        "    #         ['R', 'S']) + [atom.HasProp('_ChiralityPossible')]\n",
        "    #     except:\n",
        "    #         results = results + [False, False\n",
        "    #                         ] + [atom.HasProp('_ChiralityPossible')]\n",
        "\n",
        "    results = np.array(results).astype(np.float32)\n",
        "\n",
        "    return torch.from_numpy(results)\n",
        "\n",
        "\n",
        "def edge_features(bond):\n",
        "    bond_type = bond.GetBondType()\n",
        "    return torch.tensor([\n",
        "        bond_type == Chem.rdchem.BondType.SINGLE,\n",
        "        bond_type == Chem.rdchem.BondType.DOUBLE,\n",
        "        bond_type == Chem.rdchem.BondType.TRIPLE,\n",
        "        bond_type == Chem.rdchem.BondType.AROMATIC,\n",
        "        bond.GetIsConjugated(),\n",
        "        bond.IsInRing()]).long()"
      ]
    },
    {
      "cell_type": "code",
      "execution_count": 14,
      "metadata": {
        "id": "-vSP9taBdbDK"
      },
      "outputs": [],
      "source": [
        "def generate_drug_data(mol_graph, atom_symbols):\n",
        "\n",
        "    edge_list = torch.LongTensor([(b.GetBeginAtomIdx(), b.GetEndAtomIdx(), *edge_features(b)) for b in mol_graph.GetBonds()])\n",
        "    edge_list, edge_feats = (edge_list[:, :2], edge_list[:, 2:].float()) if len(edge_list) else (torch.LongTensor([]), torch.FloatTensor([]))\n",
        "    edge_list = torch.cat([edge_list, edge_list[:, [1, 0]]], dim=0) if len(edge_list) else edge_list\n",
        "    edge_feats = torch.cat([edge_feats]*2, dim=0) if len(edge_feats) else edge_feats\n",
        "\n",
        "    features = [(atom.GetIdx(), atom_features(atom, atom_symbols)) for atom in mol_graph.GetAtoms()]\n",
        "    features.sort()\n",
        "    _, features = zip(*features)\n",
        "    features = torch.stack(features)\n",
        "\n",
        "    line_graph_edge_index = torch.LongTensor([])\n",
        "    if edge_list.nelement() != 0:\n",
        "        conn = (edge_list[:, 1].unsqueeze(1) == edge_list[:, 0].unsqueeze(0)) & (edge_list[:, 0].unsqueeze(1) != edge_list[:, 1].unsqueeze(0))\n",
        "        line_graph_edge_index = conn.nonzero(as_tuple=False).T\n",
        "\n",
        "    new_edge_index = edge_list.T\n",
        "\n",
        "    return features, new_edge_index, edge_feats, line_graph_edge_index\n",
        "\n",
        "\n",
        "def load_drug_mol_data(df_drugbank):\n",
        "\n",
        "    data = df_drugbank\n",
        "    drug_id_mol_tup = []\n",
        "    symbols = list()\n",
        "    drug_smile_dict = {}\n",
        "\n",
        "    for id1, smiles1, id2, smiles2, relation in zip(data['Drug1_ID'], data['Drug1'], data['Drug2_ID'], data['Drug2'], data['Y']):\n",
        "        drug_smile_dict[id1] = smiles1\n",
        "        drug_smile_dict[id2] = smiles2\n",
        "\n",
        "    for id, smiles in drug_smile_dict.items():\n",
        "        mol =  Chem.MolFromSmiles(smiles.strip())\n",
        "        if mol is not None:\n",
        "            drug_id_mol_tup.append((id, mol))\n",
        "            symbols.extend(atom.GetSymbol() for atom in mol.GetAtoms())\n",
        "\n",
        "    symbols = list(set(symbols))\n",
        "    drug_data = {id: generate_drug_data(mol, symbols) for id, mol in tqdm(drug_id_mol_tup, desc='Processing drugs')}\n",
        "    save_data(drug_data, 'drug_data.pkl', dirname=\"data/preprocessed\", dataset=\"drugbank\")\n",
        "    return drug_data\n"
      ]
    },
    {
      "cell_type": "code",
      "execution_count": 15,
      "metadata": {
        "id": "_olhIPP6dbFj"
      },
      "outputs": [],
      "source": [
        "def generate_pair_triplets(df_drugbank, neg_ent =1, seed=42, dirname=\"data/preprocessed\", dataset=\"drugbank\"):\n",
        "    pos_triplets = []\n",
        "    drug_ids = []\n",
        "\n",
        "    with open(f'{dirname}/{dataset.lower()}/drug_data.pkl', 'rb') as f:\n",
        "        drug_ids = list(pickle.load(f).keys())\n",
        "        data = df_drugbank\n",
        "    for id1, id2, relation in zip(data['Drug1_ID'], data['Drug2_ID'],  data['Y']):\n",
        "        if ((id1 not in drug_ids) or (id2 not in drug_ids)): continue\n",
        "        # Drugbank dataset is 1-based index, need to substract by 1\n",
        "        if dataset in ('drugbank', ):\n",
        "            relation -= 1\n",
        "        pos_triplets.append([id1, id2, relation])\n",
        "\n",
        "    if len(pos_triplets) == 0:\n",
        "        raise ValueError('All tuples are invalid.')\n",
        "\n",
        "    pos_triplets = np.array(pos_triplets)\n",
        "    data_statistics = load_data_statistics(pos_triplets)\n",
        "    drug_ids = np.array(drug_ids)\n",
        "\n",
        "    random_state = np.random.RandomState(seed)\n",
        "\n",
        "    neg_samples = []\n",
        "    for pos_item in tqdm(pos_triplets, desc='Generating Negative sample'):\n",
        "        temp_neg = []\n",
        "        h, t, r = pos_item[:3]\n",
        "\n",
        "        if dataset == 'drugbank':\n",
        "            neg_heads, neg_tails = _normal_batch(h, t, r, neg_ent, data_statistics, drug_ids, random_state)\n",
        "            temp_neg = [str(neg_h) + '$h' for neg_h in neg_heads] + \\\n",
        "                        [str(neg_t) + '$t' for neg_t in neg_tails]\n",
        "        else:\n",
        "            existing_drug_ids = np.asarray(list(set(\n",
        "                np.concatenate([data_statistics[\"ALL_TRUE_T_WITH_HR\"][(h, r)], data_statistics[\"ALL_TRUE_H_WITH_TR\"][(h, r)]], axis=0)\n",
        "                )))\n",
        "            temp_neg = _corrupt_ent(existing_drug_ids, neg_ent, drug_ids, random_state)\n",
        "\n",
        "        neg_samples.append('_'.join(map(str, temp_neg[:neg_ent])))\n",
        "\n",
        "    df = pd.DataFrame({'Drug1_ID': pos_triplets[:, 0],\n",
        "                        'Drug2_ID': pos_triplets[:, 1],\n",
        "                        'Y': pos_triplets[:, 2],\n",
        "                        'Neg samples': neg_samples})\n",
        "    filename = f'{dirname}/{dataset}/pair_pos_neg_triplets.csv'\n",
        "    df.to_csv(filename, index=False)\n",
        "    print(f'\\nData saved as {filename}!')\n",
        "    save_data(data_statistics, 'data_statistics.pkl', dirname=\"data/preprocessed\", dataset=\"drugbank\")\n",
        "\n",
        "\n",
        "def load_data_statistics(all_tuples):\n",
        "\n",
        "    print('Loading data statistics ...')\n",
        "    statistics = dict()\n",
        "    statistics[\"ALL_TRUE_H_WITH_TR\"] = defaultdict(list)\n",
        "    statistics[\"ALL_TRUE_T_WITH_HR\"] = defaultdict(list)\n",
        "    statistics[\"FREQ_REL\"] = defaultdict(int)\n",
        "    statistics[\"ALL_H_WITH_R\"] = defaultdict(dict)\n",
        "    statistics[\"ALL_T_WITH_R\"] = defaultdict(dict)\n",
        "    statistics[\"ALL_TAIL_PER_HEAD\"] = {}\n",
        "    statistics[\"ALL_HEAD_PER_TAIL\"] = {}\n",
        "\n",
        "    for h, t, r in tqdm(all_tuples, desc='Getting data statistics'):\n",
        "        statistics[\"ALL_TRUE_H_WITH_TR\"][(t, r)].append(h)\n",
        "        statistics[\"ALL_TRUE_T_WITH_HR\"][(h, r)].append(t)\n",
        "        statistics[\"FREQ_REL\"][r] += 1.0\n",
        "        statistics[\"ALL_H_WITH_R\"][r][h] = 1\n",
        "        statistics[\"ALL_T_WITH_R\"][r][t] = 1\n",
        "\n",
        "    for t, r in statistics[\"ALL_TRUE_H_WITH_TR\"]:\n",
        "        statistics[\"ALL_TRUE_H_WITH_TR\"][(t, r)] = np.array(list(set(statistics[\"ALL_TRUE_H_WITH_TR\"][(t, r)])))\n",
        "    for h, r in statistics[\"ALL_TRUE_T_WITH_HR\"]:\n",
        "        statistics[\"ALL_TRUE_T_WITH_HR\"][(h, r)] = np.array(list(set(statistics[\"ALL_TRUE_T_WITH_HR\"][(h, r)])))\n",
        "\n",
        "    for r in statistics[\"FREQ_REL\"]:\n",
        "        statistics[\"ALL_H_WITH_R\"][r] = np.array(list(statistics[\"ALL_H_WITH_R\"][r].keys()))\n",
        "        statistics[\"ALL_T_WITH_R\"][r] = np.array(list(statistics[\"ALL_T_WITH_R\"][r].keys()))\n",
        "        statistics[\"ALL_HEAD_PER_TAIL\"][r] = statistics[\"FREQ_REL\"][r] / len(statistics[\"ALL_T_WITH_R\"][r])\n",
        "        statistics[\"ALL_TAIL_PER_HEAD\"][r] = statistics[\"FREQ_REL\"][r] / len(statistics[\"ALL_H_WITH_R\"][r])\n",
        "\n",
        "    print('getting data statistics done!')\n",
        "\n",
        "    return statistics\n",
        "\n",
        "\n",
        "def _corrupt_ent(positive_existing_ents, max_num, drug_ids, random_state):\n",
        "    corrupted_ents = []\n",
        "    while len(corrupted_ents) < max_num:\n",
        "        candidates = random_state.choice(drug_ids, (max_num - len(corrupted_ents)) * 2, replace=False)\n",
        "        invalid_drug_ids = np.concatenate([positive_existing_ents, corrupted_ents], axis=0)\n",
        "        mask = np.isin(candidates, invalid_drug_ids, assume_unique=True, invert=True)\n",
        "        corrupted_ents.extend(candidates[mask])\n",
        "\n",
        "    corrupted_ents = np.array(corrupted_ents)[:max_num]\n",
        "    return corrupted_ents\n",
        "\n",
        "\n",
        "def _normal_batch( h, t, r, neg_size, data_statistics, drug_ids, random_state):\n",
        "    neg_size_h = 0\n",
        "    neg_size_t = 0\n",
        "    prob = data_statistics[\"ALL_TAIL_PER_HEAD\"][r] / (data_statistics[\"ALL_TAIL_PER_HEAD\"][r] +\n",
        "                                                            data_statistics[\"ALL_HEAD_PER_TAIL\"][r])\n",
        "    # prob = 2\n",
        "    for i in range(neg_size):\n",
        "        if random_state.random() < prob:\n",
        "            neg_size_h += 1\n",
        "        else:\n",
        "            neg_size_t +=1\n",
        "\n",
        "    return (_corrupt_ent(data_statistics[\"ALL_TRUE_H_WITH_TR\"][t, r], neg_size_h, drug_ids, random_state),\n",
        "            _corrupt_ent(data_statistics[\"ALL_TRUE_T_WITH_HR\"][h, r], neg_size_t, drug_ids, random_state))\n"
      ]
    },
    {
      "cell_type": "code",
      "execution_count": 16,
      "metadata": {
        "id": "PTAVZkFsdbIK"
      },
      "outputs": [],
      "source": [
        "def split_data(class_name, seed, test_ratio, n_folds, dirname=\"data/preprocessed\", dataset=\"drugbank\"):\n",
        "    filename = f'{dirname}/{dataset}/pair_pos_neg_triplets.csv'\n",
        "    df = pd.read_csv(filename)\n",
        "    seed = seed\n",
        "    class_name = class_name\n",
        "    test_size_ratio = test_ratio\n",
        "    n_folds = n_folds\n",
        "    save_to_filename = os.path.splitext(filename)[0]\n",
        "    cv_split = StratifiedShuffleSplit(n_splits=n_folds, test_size=test_size_ratio, random_state=seed)\n",
        "    for fold_i, (train_index, test_index) in enumerate(cv_split.split(X=df, y=df[class_name])):\n",
        "        print(f'Fold {fold_i} generated!')\n",
        "        train_df = df.iloc[train_index]\n",
        "        test_df = df.iloc[test_index]\n",
        "        train_df.to_csv(f'{save_to_filename}_train_fold{fold_i}.csv', index=False)\n",
        "        print(f'{save_to_filename}_train_fold{fold_i}.csv', 'saved!')\n",
        "        test_df.to_csv(f'{save_to_filename}_test_fold{fold_i}.csv', index=False)\n",
        "        print(f'{save_to_filename}_test_fold{fold_i}.csv', 'saved!')"
      ]
    },
    {
      "cell_type": "code",
      "execution_count": 17,
      "metadata": {
        "colab": {
          "base_uri": "https://localhost:8080/"
        },
        "id": "BIycpkW0dbKi",
        "outputId": "fa31fc18-1dda-4ef4-d51d-a39d73c71a77"
      },
      "outputs": [
        {
          "name": "stderr",
          "output_type": "stream",
          "text": [
            "[17:45:33] SMILES Parse Error: syntax error while parsing: OC1=CC=CC(=C1)C-1=C2\\CCC(=N2)\\C(=C2/N\\C(\\C=C2)=C(/C2=N/C(/C=C2)=C(\\C2=CC=C\\-1N2)C1=CC(O)=CC=C1)C1=CC(O)=CC=C1)\\C1=CC(O)=CC=C1\n",
            "[17:45:33] SMILES Parse Error: check for mistakes around position 76:\n",
            "[17:45:33] C(/C=C2)=C(\\C2=CC=C\\-1N2)C1=CC(O)=CC=C1)C\n",
            "[17:45:33] ~~~~~~~~~~~~~~~~~~~~^\n",
            "[17:45:33] SMILES Parse Error: Failed parsing SMILES 'OC1=CC=CC(=C1)C-1=C2\\CCC(=N2)\\C(=C2/N\\C(\\C=C2)=C(/C2=N/C(/C=C2)=C(\\C2=CC=C\\-1N2)C1=CC(O)=CC=C1)C1=CC(O)=CC=C1)\\C1=CC(O)=CC=C1' for input: 'OC1=CC=CC(=C1)C-1=C2\\CCC(=N2)\\C(=C2/N\\C(\\C=C2)=C(/C2=N/C(/C=C2)=C(\\C2=CC=C\\-1N2)C1=CC(O)=CC=C1)C1=CC(O)=CC=C1)\\C1=CC(O)=CC=C1'\n",
            "Processing drugs:   4%|▍         | 67/1705 [00:00<00:02, 663.52it/s]C:\\Users\\swath\\AppData\\Local\\Temp\\ipykernel_34520\\287951120.py:18: UserWarning: The use of `x.T` on tensors of dimension other than 2 to reverse their shape is deprecated and it will throw an error in a future release. Consider `x.mT` to transpose batches of matrices or `x.permute(*torch.arange(x.ndim - 1, -1, -1))` to reverse the dimensions of a tensor. (Triggered internally at C:\\actions-runner\\_work\\pytorch\\pytorch\\pytorch\\aten\\src\\ATen\\native\\TensorShape.cpp:3729.)\n",
            "  new_edge_index = edge_list.T\n",
            "Processing drugs: 100%|██████████| 1705/1705 [00:02<00:00, 604.84it/s]\n"
          ]
        },
        {
          "name": "stdout",
          "output_type": "stream",
          "text": [
            "\n",
            "Data saved as data/preprocessed\\drugbank\\drug_data.pkl!\n"
          ]
        }
      ],
      "source": [
        "drug_data = load_drug_mol_data(df_drugbank)"
      ]
    },
    {
      "cell_type": "code",
      "execution_count": 18,
      "metadata": {
        "colab": {
          "base_uri": "https://localhost:8080/"
        },
        "id": "yl1cnRfFjL9b",
        "outputId": "293319f2-7841-4301-e9ac-886219cf49e3"
      },
      "outputs": [
        {
          "name": "stdout",
          "output_type": "stream",
          "text": [
            "Loading data statistics ...\n"
          ]
        },
        {
          "name": "stderr",
          "output_type": "stream",
          "text": [
            "Getting data statistics: 100%|██████████| 191798/191798 [00:00<00:00, 433913.25it/s]\n"
          ]
        },
        {
          "name": "stdout",
          "output_type": "stream",
          "text": [
            "getting data statistics done!\n"
          ]
        },
        {
          "name": "stderr",
          "output_type": "stream",
          "text": [
            "Generating Negative sample: 100%|██████████| 191798/191798 [00:23<00:00, 8296.69it/s] \n"
          ]
        },
        {
          "name": "stdout",
          "output_type": "stream",
          "text": [
            "\n",
            "Data saved as data/preprocessed/drugbank/pair_pos_neg_triplets.csv!\n",
            "\n",
            "Data saved as data/preprocessed\\drugbank\\data_statistics.pkl!\n"
          ]
        }
      ],
      "source": [
        "generate_pair_triplets(df_drugbank, neg_ent=1, seed=42)"
      ]
    },
    {
      "cell_type": "code",
      "execution_count": 19,
      "metadata": {
        "colab": {
          "base_uri": "https://localhost:8080/"
        },
        "id": "opVZN-_JdbMy",
        "outputId": "cc414afd-204e-4279-c878-e9ada0126b6c"
      },
      "outputs": [
        {
          "name": "stdout",
          "output_type": "stream",
          "text": [
            "Fold 0 generated!\n",
            "data/preprocessed/drugbank/pair_pos_neg_triplets_train_fold0.csv saved!\n",
            "data/preprocessed/drugbank/pair_pos_neg_triplets_test_fold0.csv saved!\n",
            "Fold 1 generated!\n",
            "data/preprocessed/drugbank/pair_pos_neg_triplets_train_fold1.csv saved!\n",
            "data/preprocessed/drugbank/pair_pos_neg_triplets_test_fold1.csv saved!\n",
            "Fold 2 generated!\n",
            "data/preprocessed/drugbank/pair_pos_neg_triplets_train_fold2.csv saved!\n",
            "data/preprocessed/drugbank/pair_pos_neg_triplets_test_fold2.csv saved!\n"
          ]
        }
      ],
      "source": [
        "split_data('Y', seed=42, test_ratio=0.2, n_folds=3)"
      ]
    },
    {
      "cell_type": "markdown",
      "metadata": {
        "id": "MLlAhIkWmv_L"
      },
      "source": [
        "# getting datasets"
      ]
    },
    {
      "cell_type": "code",
      "execution_count": 20,
      "metadata": {
        "id": "qOplVp9TdbPU"
      },
      "outputs": [],
      "source": [
        "import math\n",
        "import torch\n",
        "from torch.utils.data import Dataset, DataLoader\n",
        "from torch_geometric.data import Batch, Data\n",
        "import pandas as pd\n",
        "import numpy as np\n",
        "from sklearn.model_selection import StratifiedShuffleSplit\n",
        "import pickle"
      ]
    },
    {
      "cell_type": "code",
      "execution_count": 21,
      "metadata": {
        "id": "zf9ggSdBl4Kr"
      },
      "outputs": [],
      "source": [
        "NUM_FEATURES = None\n",
        "NUM_EDGE_FEATURES = None\n",
        "bipartite_edge_dict = dict()\n",
        "drug_num_node_indices = dict()"
      ]
    },
    {
      "cell_type": "code",
      "execution_count": 22,
      "metadata": {
        "id": "o-aibDxUl4NN"
      },
      "outputs": [],
      "source": [
        "import pickle\n",
        "def total_num_rel():\n",
        "    \"\"\"Returns the total number of relations for DrugBank dataset.\"\"\"\n",
        "    return 86\n",
        "\n",
        "def split_train_valid(data, fold, val_ratio=0.2):\n",
        "    \"\"\"Splits the dataset into training and validation sets.\"\"\"\n",
        "    cv_split = StratifiedShuffleSplit(n_splits=2, test_size=val_ratio, random_state=fold)\n",
        "    pos_triplets, neg_samples = data\n",
        "    train_index, val_index = next(iter(cv_split.split(X=pos_triplets, y=pos_triplets[:, 2])))\n",
        "\n",
        "    train_tup = (pos_triplets[train_index], neg_samples[train_index])\n",
        "    val_tup = (pos_triplets[val_index], neg_samples[val_index])\n",
        "\n",
        "    return train_tup, val_tup\n",
        "\n",
        "def load_ddi_data_fold(fold, batch_size=32, data_size_ratio=1.0, valid_ratio=0.2, dirname=\"data/preprocessed\"):\n",
        "    \"\"\"Loads DrugBank dataset and prepares PyTorch DataLoaders.\"\"\"\n",
        "    global NUM_FEATURES, NUM_EDGE_FEATURES, drug_num_node_indices\n",
        "\n",
        "    dataset_name = \"drugbank\"\n",
        "    print(f'Loading {dataset_name}...')\n",
        "\n",
        "    # Load processed drug data\n",
        "    drug_data_file = f'{dirname}/{dataset_name}/drug_data.pkl'\n",
        "    print('\\nLoading processed drug data...')\n",
        "    with open(drug_data_file, 'rb') as f:\n",
        "        all_drug_data = pickle.load(f)\n",
        "\n",
        "    # Extract feature dimensions\n",
        "    NUM_FEATURES, _, NUM_EDGE_FEATURES = next(iter(all_drug_data.values()))[:3]\n",
        "    NUM_FEATURES, NUM_EDGE_FEATURES = NUM_FEATURES.shape[1], NUM_EDGE_FEATURES.shape[1]\n",
        "\n",
        "    # Convert data to CustomData format\n",
        "    all_drug_data = {\n",
        "        drug_id: CustomData(x=data[0], edge_index=data[1], edge_feats=data[2], line_graph_edge_index=data[3])\n",
        "        for drug_id, data in all_drug_data.items()\n",
        "    }\n",
        "\n",
        "    # Speed up training with precomputed indices\n",
        "    drug_num_node_indices = {\n",
        "        drug_id: torch.zeros(data.x.size(0)).long() for drug_id, data in all_drug_data.items()\n",
        "    }\n",
        "\n",
        "    # Load train/validation/test splits\n",
        "    train_tup = load_split(f'train_fold{fold}', dirname)\n",
        "    train_tup, val_tup = split_train_valid(train_tup, fold)\n",
        "    test_tup = load_split(f'test_fold{fold}', dirname)\n",
        "\n",
        "    print(f'{train_tup[1].shape[1]} negative samples on fold {fold}')\n",
        "\n",
        "    # Create dataset objects\n",
        "    train_data = DrugDataset(train_tup, all_drug_data, seed=fold)\n",
        "    val_data = DrugDataset(val_tup, all_drug_data, seed=fold)\n",
        "    test_data = DrugDataset(test_tup, all_drug_data, seed=fold)\n",
        "\n",
        "    print(f\"\\nTraining on {len(train_data)} samples, validating on {len(val_data)}, and testing on {len(test_data)} samples.\")\n",
        "\n",
        "    # Create DataLoaders\n",
        "    train_loader = DrugDataLoader(train_data, batch_size=batch_size, shuffle=True)\n",
        "    val_loader = DrugDataLoader(val_data, batch_size=batch_size)\n",
        "    test_loader = DrugDataLoader(test_data, batch_size=batch_size)\n",
        "\n",
        "    return train_loader, val_loader, test_loader, NUM_FEATURES, NUM_EDGE_FEATURES\n",
        "\n",
        "def load_split(split_name, dirname=\"data/preprocessed\"):\n",
        "    \"\"\"Loads dataset splits for DrugBank.\"\"\"\n",
        "    filename = f'{dirname}/drugbank/pair_pos_neg_triplets_{split_name}.csv'\n",
        "    print(f'\\nLoading {filename}...')\n",
        "\n",
        "    df = pd.read_csv(filename)\n",
        "    pos_triplets = [(d1, d2, r) for d1, d2, r in zip(df['Drug1_ID'], df['Drug2_ID'], df['Y'])]\n",
        "    neg_samples = [[str(e) for e in neg_s.split('_')] for neg_s in df['Neg samples']]\n",
        "\n",
        "    return np.array(pos_triplets), np.array(neg_samples)\n",
        "\n",
        "# ===========================\n",
        "# Dataset Classes\n",
        "# ===========================\n",
        "\n",
        "class DrugDataset(Dataset):\n",
        "    \"\"\"Custom PyTorch Dataset for DrugBank.\"\"\"\n",
        "\n",
        "    def __init__(self, pos_neg_tuples, all_drug_data, ratio=1.0, seed=0):\n",
        "        self.pair_triplets = []\n",
        "        self.ratio = ratio\n",
        "        self.drug_ids = list(all_drug_data.keys())\n",
        "        self.all_drug_data = all_drug_data\n",
        "        self.rng = np.random.RandomState(seed)\n",
        "\n",
        "        for pos_item, neg_list in zip(*pos_neg_tuples):\n",
        "            if (pos_item[0] in self.drug_ids) and (pos_item[1] in self.drug_ids):\n",
        "                self.pair_triplets.append((pos_item, neg_list))\n",
        "\n",
        "        if ratio != 1.0:\n",
        "            self.rng.shuffle(self.pair_triplets)\n",
        "            limit = math.ceil(len(self.pair_triplets) * ratio)\n",
        "            self.pair_triplets = self.pair_triplets[:limit]\n",
        "\n",
        "    def collate_fn(self, batch):\n",
        "        old_id_to_new_batch_id = {}\n",
        "        batch_drug_feats = []\n",
        "        self.node_ind_seqs = []\n",
        "        self.node_i_ind_seqs_for_pair = []\n",
        "        self.node_j_ind_seqs_for_pair = []\n",
        "\n",
        "        combo_indices_pos = []\n",
        "        combo_indices_neg = []\n",
        "        already_in_combo = {}\n",
        "        rels = []\n",
        "        batch_unique_pairs= []\n",
        "\n",
        "        for ind, (pos_item, neg_list) in enumerate(batch):\n",
        "            h, t, r = pos_item[:3]\n",
        "            idx_h, h_num_nodes = self._get_new_batch_id_and_num_nodes(h, old_id_to_new_batch_id, batch_drug_feats)\n",
        "            idx_t, t_num_nodes = self._get_new_batch_id_and_num_nodes(t, old_id_to_new_batch_id, batch_drug_feats)\n",
        "            combo_idx = self._get_combo_index((idx_h, idx_t), (h, t), already_in_combo, batch_unique_pairs, (h_num_nodes, t_num_nodes))\n",
        "            combo_indices_pos.append(combo_idx)\n",
        "\n",
        "            rels.append(int(r))\n",
        "\n",
        "            for neg_s in neg_list:\n",
        "                s = neg_s.split('$')\n",
        "                neg_idx, neg_num_nodes = self._get_new_batch_id_and_num_nodes(s[0], old_id_to_new_batch_id, batch_drug_feats)\n",
        "                if ('h' == s[1].lower()):\n",
        "                        combo_idx = self._get_combo_index((neg_idx, idx_t), (s[0], t), already_in_combo, batch_unique_pairs, (neg_num_nodes, t_num_nodes))\n",
        "                else:\n",
        "                    combo_idx = self._get_combo_index((idx_h, neg_idx), (h, s[0]), already_in_combo, batch_unique_pairs, (h_num_nodes, neg_num_nodes))\n",
        "\n",
        "                combo_indices_neg.append(combo_idx)\n",
        "\n",
        "        batch_drug_data = Batch.from_data_list(batch_drug_feats, follow_batch=['edge_index'])\n",
        "        batch_drug_pair_indices = torch.LongTensor(combo_indices_pos + combo_indices_neg)\n",
        "        batch_unique_drug_pair = Batch.from_data_list(batch_unique_pairs, follow_batch=['edge_index'])\n",
        "        node_j_for_pairs = torch.cat(self.node_j_ind_seqs_for_pair)\n",
        "        node_i_for_pairs = torch.cat(self.node_i_ind_seqs_for_pair)\n",
        "        rels = torch.LongTensor(rels)\n",
        "\n",
        "        return batch_drug_data, batch_unique_drug_pair, rels, batch_drug_pair_indices, node_j_for_pairs, node_i_for_pairs\n",
        "\n",
        "    def _get_new_batch_id_and_num_nodes(self, old_id, old_id_to_new_batch_id, batch_drug_feats):\n",
        "        new_id = old_id_to_new_batch_id.get(old_id, -1)\n",
        "        num_nodes = self.all_drug_data[old_id].x.size(0)\n",
        "        if new_id == - 1:\n",
        "            new_id = len(old_id_to_new_batch_id)\n",
        "            old_id_to_new_batch_id[old_id] = new_id\n",
        "            batch_drug_feats.append(self.all_drug_data[old_id])\n",
        "            start = (self.node_ind_seqs[-1][-1] + 1) if len(self.node_ind_seqs) else 0\n",
        "            self.node_ind_seqs.append(torch.arange(num_nodes) + start)\n",
        "\n",
        "        return new_id, num_nodes\n",
        "\n",
        "    def _get_combo_index(self, combo, old_combo, already_in_combo, unique_pairs, num_nodes):\n",
        "        idx = already_in_combo.get(combo, -1)\n",
        "        if idx == -1:\n",
        "            idx = len(already_in_combo)\n",
        "            already_in_combo[combo] = idx\n",
        "            pair_edge_index = bipartite_edge_dict.get(old_combo)\n",
        "            if pair_edge_index is None:\n",
        "                index_j = torch.arange(num_nodes[0]).repeat_interleave(num_nodes[1])\n",
        "                index_i = torch.arange(num_nodes[1]).repeat(num_nodes[0])\n",
        "                pair_edge_index = torch.stack([index_j, index_i])\n",
        "                bipartite_edge_dict[old_combo] = pair_edge_index\n",
        "\n",
        "            j_num_indices, i_num_indices = drug_num_node_indices[old_combo[0]], drug_num_node_indices[old_combo[1]]\n",
        "            unique_pairs.append(PairData(j_num_indices, i_num_indices, pair_edge_index))\n",
        "            self.node_j_ind_seqs_for_pair.append(self.node_ind_seqs[combo[0]])\n",
        "            self.node_i_ind_seqs_for_pair.append(self.node_ind_seqs[combo[1]])\n",
        "\n",
        "        return idx\n",
        "\n",
        "    def __len__(self):\n",
        "        return len(self.pair_triplets)\n",
        "\n",
        "    def __getitem__(self, index):\n",
        "        return self.pair_triplets[index]\n",
        "\n",
        "class DrugDataLoader(DataLoader):\n",
        "    \"\"\"Custom DataLoader for DrugBank.\"\"\"\n",
        "    def __init__(self, data, **kwargs):\n",
        "        super().__init__(data, collate_fn=data.collate_fn, **kwargs)\n",
        "\n",
        "class PairData(Data):\n",
        "\n",
        "    def __init__(self, j_indices, i_indices, pair_edge_index):\n",
        "        super().__init__()\n",
        "        self.i_indices = i_indices\n",
        "        self.j_indices = j_indices\n",
        "        self.edge_index = pair_edge_index\n",
        "        self.num_nodes = None\n",
        "\n",
        "    def __inc__(self, key, value, *args, **kwargs):\n",
        "    # In case of \"TypeError: __inc__() takes 3 positional arguments but 4 were given\"\n",
        "    # Replace with \"def __inc__(self, key, value, *args, **kwargs)\"\n",
        "        if key == 'edge_index':\n",
        "            return torch.tensor([[self.j_indices.shape[0]], [self.i_indices.shape[0]]])\n",
        "        if key in ('i_indices', 'j_indices'):\n",
        "            return 1\n",
        "        return super().__inc__(self, key, value, args, kwargs)\n",
        "            # In case of \"TypeError: __inc__() takes 3 positional arguments but 4 were given\"\n",
        "            # Replace with \"return super().__inc__(self, key, value, args, kwargs)\"\n",
        "\n",
        "\n",
        "\n",
        "class CustomData(Data):\n",
        "    def __inc__(self, key, value, *args, **kwargs):  # Accepts additional arguments\n",
        "        if key == 'line_graph_edge_index':\n",
        "            return self.edge_index.size(1) if self.edge_index.nelement() != 0 else 0\n",
        "        return super().__inc__(key, value, *args, **kwargs)  # Pass extra args\n",
        "\n"
      ]
    },
    {
      "cell_type": "code",
      "execution_count": 23,
      "metadata": {
        "colab": {
          "base_uri": "https://localhost:8080/"
        },
        "id": "S27eWxSrl4Rz",
        "outputId": "e2c1b9d8-915e-415c-9d2d-61035d311bcd"
      },
      "outputs": [
        {
          "name": "stdout",
          "output_type": "stream",
          "text": [
            "Loading drugbank...\n",
            "\n",
            "Loading processed drug data...\n",
            "\n",
            "Loading data/preprocessed/drugbank/pair_pos_neg_triplets_train_fold0.csv...\n",
            "\n",
            "Loading data/preprocessed/drugbank/pair_pos_neg_triplets_test_fold0.csv...\n",
            "1 negative samples on fold 0\n",
            "\n",
            "Training on 122750 samples, validating on 30688, and testing on 38360 samples.\n"
          ]
        }
      ],
      "source": [
        "train_loader, val_loader, test_loader, num_features, num_edge_features = load_ddi_data_fold(\n",
        "    fold=0, batch_size=32, data_size_ratio=1.0\n",
        ")\n"
      ]
    },
    {
      "cell_type": "markdown",
      "metadata": {
        "id": "DZyNu5g4qM7T"
      },
      "source": [
        "# Model"
      ]
    },
    {
      "cell_type": "code",
      "execution_count": 24,
      "metadata": {
        "colab": {
          "base_uri": "https://localhost:8080/",
          "height": 1000
        },
        "id": "B2s2GmAMqnLF",
        "outputId": "c7b2abee-646c-4620-f735-a5bb8364dab1"
      },
      "outputs": [],
      "source": [
        "# import torch\n",
        "# !pip install torch-scatter -f https://data.pyg.org/whl/torch-{torch.__version__}.html\n",
        "# !pip install git+https://github.com/pyg-team/pytorch_geometric.git"
      ]
    },
    {
      "cell_type": "code",
      "execution_count": 42,
      "metadata": {
        "id": "0EWh7ANuqOwC"
      },
      "outputs": [],
      "source": [
        "# Import necessary libraries\n",
        "import torch\n",
        "from torch import nn\n",
        "from torch_geometric.nn.inits import glorot\n",
        "from torch_geometric.utils import degree\n",
        "from torch_scatter import scatter\n",
        "\n",
        "# Define CustomDropout\n",
        "class CustomDropout(nn.Module):\n",
        "    def __init__(self, p):\n",
        "        super().__init__()\n",
        "        self.dropout = (lambda x: x) if p == 0 else nn.Dropout(p)\n",
        "\n",
        "    def forward(self, input):\n",
        "        return self.dropout(input)\n",
        "\n",
        "# Define GmpnnBlock\n",
        "class GmpnnBlock(nn.Module):\n",
        "    def __init__(self, edge_feats, n_feats, n_iter, dropout):\n",
        "        super().__init__()\n",
        "        self.n_feats = n_feats\n",
        "        self.n_iter = n_iter\n",
        "        self.dropout = dropout\n",
        "        self.snd_n_feats = n_feats * 2\n",
        "\n",
        "        self.w_i = nn.Parameter(torch.Tensor(self.n_feats, self.n_feats))\n",
        "        self.w_j = nn.Parameter(torch.Tensor(self.n_feats, self.n_feats))\n",
        "        self.a = nn.Parameter(torch.Tensor(1, self.n_feats))\n",
        "        self.bias = nn.Parameter(torch.zeros(self.n_feats))\n",
        "\n",
        "        self.edge_emb = nn.Sequential(nn.Linear(edge_feats, self.n_feats))\n",
        "\n",
        "        self.lin1 = nn.Sequential(nn.BatchNorm1d(n_feats), nn.Linear(n_feats, self.snd_n_feats))\n",
        "        self.lin2 = nn.Sequential(nn.BatchNorm1d(self.snd_n_feats), CustomDropout(self.dropout), nn.PReLU(), nn.Linear(self.snd_n_feats, self.snd_n_feats))\n",
        "        self.lin3 = nn.Sequential(nn.BatchNorm1d(self.snd_n_feats), CustomDropout(self.dropout), nn.PReLU(), nn.Linear(self.snd_n_feats, self.snd_n_feats))\n",
        "        self.lin4 = nn.Sequential(nn.BatchNorm1d(self.snd_n_feats), CustomDropout(self.dropout), nn.PReLU(), nn.Linear(self.snd_n_feats, self.snd_n_feats))\n",
        "\n",
        "        glorot(self.w_i)\n",
        "        glorot(self.w_j)\n",
        "        glorot(self.a)\n",
        "\n",
        "        self.sml_mlp = nn.Sequential(nn.PReLU(), nn.Linear(self.n_feats, self.n_feats))\n",
        "\n",
        "    def forward(self, data):\n",
        "        edge_index = data.edge_index\n",
        "        edge_feats = data.edge_feats\n",
        "        edge_feats = self.edge_emb(edge_feats)\n",
        "        deg = degree(edge_index[1], data.x.size(0), dtype=data.x.dtype)\n",
        "\n",
        "        alpha_i = (data.x @ self.w_i)\n",
        "        alpha_j = (data.x @ self.w_j)\n",
        "        alpha = alpha_i[edge_index[1]] + alpha_j[edge_index[0]] + self.bias\n",
        "        alpha = self.sml_mlp(alpha)\n",
        "\n",
        "        alpha = (alpha * edge_feats).sum(-1)\n",
        "        alpha = alpha / (deg[edge_index[0]])\n",
        "        edge_weights = torch.sigmoid(alpha)\n",
        "\n",
        "        edge_attr = data.x[edge_index[0]] * edge_weights.unsqueeze(-1)\n",
        "\n",
        "        out = edge_attr\n",
        "        for _ in range(self.n_iter):\n",
        "            out = scatter(out[data.line_graph_edge_index[0]], data.line_graph_edge_index[1], dim_size=edge_attr.size(0), dim=0, reduce='add')\n",
        "            out = edge_attr + (out * edge_weights.unsqueeze(-1))\n",
        "\n",
        "        x = data.x + scatter(out, edge_index[1], dim_size=data.x.size(0), dim=0, reduce='add')\n",
        "        x = self.mlp(x)\n",
        "\n",
        "        return x\n",
        "\n",
        "    def mlp(self, x):\n",
        "        x = self.lin1(x)\n",
        "        x = (self.lin3(self.lin2(x)) + x) / 2\n",
        "        x = (self.lin4(x) + x) / 2\n",
        "        return x\n",
        "\n",
        "# Define GmpnnCSNetDrugBank\n",
        "class GmpnnCSNetDrugBank(nn.Module):\n",
        "    def __init__(self, in_feats, edge_feats, hid_feats, rel_total, n_iter, dropout=0):\n",
        "        super().__init__()\n",
        "        self.in_feats = in_feats\n",
        "        self.hid_feats = hid_feats\n",
        "        self.rel_total = rel_total\n",
        "        self.n_iter = n_iter\n",
        "        self.dropout = dropout\n",
        "        self.snd_hid_feats = hid_feats * 2\n",
        "\n",
        "        self.mlp = nn.Sequential(\n",
        "            nn.Linear(in_feats, hid_feats),\n",
        "            CustomDropout(self.dropout),\n",
        "            nn.PReLU(),\n",
        "            nn.Linear(hid_feats, hid_feats),\n",
        "            nn.BatchNorm1d(hid_feats),\n",
        "            CustomDropout(self.dropout),\n",
        "            nn.PReLU(),\n",
        "            nn.Linear(hid_feats, hid_feats),\n",
        "            nn.BatchNorm1d(hid_feats),\n",
        "            CustomDropout(self.dropout),\n",
        "        )\n",
        "\n",
        "        self.propagation_layer = GmpnnBlock(edge_feats, self.hid_feats, self.n_iter, dropout)\n",
        "\n",
        "        self.i_pro = nn.Parameter(torch.zeros(self.snd_hid_feats, self.hid_feats))\n",
        "        self.j_pro = nn.Parameter(torch.zeros(self.snd_hid_feats, self.hid_feats))\n",
        "        self.bias = nn.Parameter(torch.zeros(self.hid_feats))\n",
        "\n",
        "        self.rel_embs = nn.Embedding(self.rel_total, self.hid_feats)\n",
        "\n",
        "        glorot(self.i_pro)\n",
        "        glorot(self.j_pro)\n",
        "\n",
        "    def forward(self, batch):\n",
        "        drug_data, unique_drug_pair, rels, drug_pair_indices, node_j_for_pairs, node_i_for_pairs = batch\n",
        "        drug_data.x = self.mlp(drug_data.x)\n",
        "\n",
        "        new_feats = self.propagation_layer(drug_data)\n",
        "        drug_data.x = new_feats\n",
        "        x_j = drug_data.x[node_j_for_pairs]\n",
        "        x_i = drug_data.x[node_i_for_pairs]\n",
        "\n",
        "        pair_repr = ((x_i[unique_drug_pair.edge_index[1]] @ self.i_pro) * (x_j[unique_drug_pair.edge_index[0]] @ self.j_pro))\n",
        "        pair_repr = scatter(pair_repr, unique_drug_pair.edge_index_batch, reduce='add', dim=0)[drug_pair_indices]\n",
        "\n",
        "        p_scores, n_scores = self.compute_score(pair_repr, rels)\n",
        "        return p_scores, n_scores\n",
        "\n",
        "    def compute_score(self, pair_repr, rels):\n",
        "        batch_size = len(rels)\n",
        "        neg_n = (len(pair_repr) - batch_size) // batch_size\n",
        "        rels = torch.cat([rels, torch.repeat_interleave(rels, neg_n, dim=0)], dim=0)\n",
        "        rels = self.rel_embs(rels)\n",
        "        scores = (pair_repr * rels).sum(-1)\n",
        "        p_scores, n_scores = scores[:batch_size].unsqueeze(-1), scores[batch_size:].view(batch_size, -1, 1)\n",
        "        return p_scores, n_scores\n"
      ]
    },
    {
      "cell_type": "code",
      "execution_count": 43,
      "metadata": {
        "colab": {
          "base_uri": "https://localhost:8080/"
        },
        "id": "I-5ovqLkr0Jz",
        "outputId": "28c1816c-e1e8-439b-eae5-2e72a7da7ce5"
      },
      "outputs": [
        {
          "name": "stdout",
          "output_type": "stream",
          "text": [
            "Total trainable parameters: 112134\n"
          ]
        }
      ],
      "source": [
        "model = GmpnnCSNetDrugBank(in_feats=128, edge_feats=32, hid_feats=64, rel_total=86, n_iter=2)\n",
        "\n",
        "total_params = sum(p.numel() for p in model.parameters() if p.requires_grad)\n",
        "print(f\"Total trainable parameters: {total_params}\")\n"
      ]
    },
    {
      "cell_type": "markdown",
      "metadata": {
        "id": "zOWLwTCUoiSD"
      },
      "source": [
        "# Train on Fold"
      ]
    },
    {
      "cell_type": "code",
      "execution_count": 36,
      "metadata": {
        "id": "dhi2GOopumy7"
      },
      "outputs": [],
      "source": [
        "import torch\n",
        "from torch import nn\n",
        "import torch.nn.functional as F\n",
        "\n",
        "\n",
        "\n",
        "class SigmoidLoss(nn.Module):\n",
        "\n",
        "    def forward(self, p_scores, n_scores):\n",
        "        p_loss = - F.logsigmoid(p_scores).mean()\n",
        "        n_loss = - F.logsigmoid(-n_scores).mean()\n",
        "\n",
        "        return (p_loss + n_loss) / 2, p_loss, n_loss"
      ]
    },
    {
      "cell_type": "code",
      "execution_count": 37,
      "metadata": {
        "id": "xeW-3yQQurIb"
      },
      "outputs": [],
      "source": [
        "from operator import le\n",
        "from sklearn import metrics\n",
        "from collections import defaultdict\n",
        "import json\n",
        "import numpy as np\n",
        "\n",
        "\n",
        "def do_compute_metrics(probas_pred, target):\n",
        "    pred = (probas_pred >= 0.5).astype(int)\n",
        "    acc = metrics.accuracy_score(target, pred)\n",
        "    auroc = metrics.roc_auc_score(target, probas_pred)\n",
        "    f1_score = metrics.f1_score(target, pred)\n",
        "    precision = metrics.precision_score(target, pred)\n",
        "    recall = metrics.recall_score(target, pred)\n",
        "    p, r, t = metrics.precision_recall_curve(target, probas_pred)\n",
        "    int_ap = metrics.auc(r, p)\n",
        "    ap= metrics.average_precision_score(target, probas_pred)\n",
        "\n",
        "    return acc, auroc, f1_score, precision, recall, int_ap, ap"
      ]
    },
    {
      "cell_type": "code",
      "execution_count": null,
      "metadata": {},
      "outputs": [
        {
          "ename": "AttributeError",
          "evalue": "'GmpnnCSNetDrugBank' object has no attribute 'summary'",
          "output_type": "error",
          "traceback": [
            "\u001b[1;31m---------------------------------------------------------------------------\u001b[0m",
            "\u001b[1;31mAttributeError\u001b[0m                            Traceback (most recent call last)",
            "Cell \u001b[1;32mIn[40], line 1\u001b[0m\n\u001b[1;32m----> 1\u001b[0m \u001b[43mmodel\u001b[49m\u001b[38;5;241;43m.\u001b[39;49m\u001b[43msummary\u001b[49m\n",
            "File \u001b[1;32mc:\\Users\\swath\\anaconda3\\envs\\ml_env\\Lib\\site-packages\\torch\\nn\\modules\\module.py:1928\u001b[0m, in \u001b[0;36mModule.__getattr__\u001b[1;34m(self, name)\u001b[0m\n\u001b[0;32m   1926\u001b[0m     \u001b[38;5;28;01mif\u001b[39;00m name \u001b[38;5;129;01min\u001b[39;00m modules:\n\u001b[0;32m   1927\u001b[0m         \u001b[38;5;28;01mreturn\u001b[39;00m modules[name]\n\u001b[1;32m-> 1928\u001b[0m \u001b[38;5;28;01mraise\u001b[39;00m \u001b[38;5;167;01mAttributeError\u001b[39;00m(\n\u001b[0;32m   1929\u001b[0m     \u001b[38;5;124mf\u001b[39m\u001b[38;5;124m\"\u001b[39m\u001b[38;5;124m'\u001b[39m\u001b[38;5;132;01m{\u001b[39;00m\u001b[38;5;28mtype\u001b[39m(\u001b[38;5;28mself\u001b[39m)\u001b[38;5;241m.\u001b[39m\u001b[38;5;18m__name__\u001b[39m\u001b[38;5;132;01m}\u001b[39;00m\u001b[38;5;124m'\u001b[39m\u001b[38;5;124m object has no attribute \u001b[39m\u001b[38;5;124m'\u001b[39m\u001b[38;5;132;01m{\u001b[39;00mname\u001b[38;5;132;01m}\u001b[39;00m\u001b[38;5;124m'\u001b[39m\u001b[38;5;124m\"\u001b[39m\n\u001b[0;32m   1930\u001b[0m )\n",
            "\u001b[1;31mAttributeError\u001b[0m: 'GmpnnCSNetDrugBank' object has no attribute 'summary'"
          ]
        }
      ],
      "source": []
    },
    {
      "cell_type": "code",
      "execution_count": 38,
      "metadata": {
        "colab": {
          "base_uri": "https://localhost:8080/",
          "height": 578
        },
        "id": "v2fu72YEl4Uc",
        "outputId": "42548010-e0c9-4ba5-f9ed-1a16645c66a7"
      },
      "outputs": [
        {
          "name": "stdout",
          "output_type": "stream",
          "text": [
            "Loading drugbank...\n",
            "\n",
            "Loading processed drug data...\n",
            "\n",
            "Loading data/preprocessed/drugbank/pair_pos_neg_triplets_train_fold0.csv...\n",
            "\n",
            "Loading data/preprocessed/drugbank/pair_pos_neg_triplets_test_fold0.csv...\n",
            "1 negative samples on fold 0\n",
            "\n",
            "Training on 122750 samples, validating on 30688, and testing on 38360 samples.\n",
            "Training on cuda.\n",
            "Starting fold_0 at 2025-04-13 22:23:04.954416\n"
          ]
        },
        {
          "name": "stderr",
          "output_type": "stream",
          "text": [
            "train Epoch 1:   0%|          | 0/3836 [00:00<?, ?it/s]c:\\Users\\swath\\anaconda3\\envs\\ml_env\\Lib\\site-packages\\torch_geometric\\data\\storage.py:452: UserWarning: Unable to accurately infer 'num_nodes' from the attribute set '{'i_indices', 'j_indices', 'edge_index'}'. Please explicitly set 'num_nodes' as an attribute of 'data' to suppress this warning\n",
            "  warnings.warn(\n",
            "train Epoch 1: 100%|██████████| 3836/3836 [02:38<00:00, 24.20it/s]\n",
            "val Epoch 1:   0%|          | 0/959 [00:00<?, ?it/s]c:\\Users\\swath\\anaconda3\\envs\\ml_env\\Lib\\site-packages\\torch_geometric\\data\\storage.py:452: UserWarning: Unable to accurately infer 'num_nodes' from the attribute set '{'i_indices', 'j_indices', 'edge_index'}'. Please explicitly set 'num_nodes' as an attribute of 'data' to suppress this warning\n",
            "  warnings.warn(\n",
            "val Epoch 1: 100%|██████████| 959/959 [00:30<00:00, 31.56it/s]\n",
            "test Epoch 1:   0%|          | 0/1199 [00:00<?, ?it/s]c:\\Users\\swath\\anaconda3\\envs\\ml_env\\Lib\\site-packages\\torch_geometric\\data\\storage.py:452: UserWarning: Unable to accurately infer 'num_nodes' from the attribute set '{'i_indices', 'j_indices', 'edge_index'}'. Please explicitly set 'num_nodes' as an attribute of 'data' to suppress this warning\n",
            "  warnings.warn(\n",
            "test Epoch 1: 100%|██████████| 1199/1199 [00:34<00:00, 34.49it/s]\n"
          ]
        },
        {
          "name": "stdout",
          "output_type": "stream",
          "text": [
            "\n",
            "#### Epoch time 224.0356s\n",
            "loss: 0.6853, acc: 0.5915, roc: 0.6286, f1: 0.6018, p: 0.5871, r: 0.6172, int-ap: 0.6098, ap: 0.6097\n",
            "#### Validation\n",
            "loss: 0.6297, acc: 0.6485, roc: 0.7027, f1: 0.6584, p: 0.6404, r: 0.6775, int-ap: 0.6833, ap: 0.6833\n",
            "#### Test\n",
            "loss: 0.6287, acc: 0.6498, roc: 0.7047, f1: 0.6597, p: 0.6415, r: 0.6790, int-ap: 0.6859, ap: 0.6859\n"
          ]
        },
        {
          "name": "stderr",
          "output_type": "stream",
          "text": [
            "train Epoch 2:   0%|          | 0/3836 [00:00<?, ?it/s]c:\\Users\\swath\\anaconda3\\envs\\ml_env\\Lib\\site-packages\\torch_geometric\\data\\storage.py:452: UserWarning: Unable to accurately infer 'num_nodes' from the attribute set '{'i_indices', 'j_indices', 'edge_index'}'. Please explicitly set 'num_nodes' as an attribute of 'data' to suppress this warning\n",
            "  warnings.warn(\n",
            "train Epoch 2: 100%|██████████| 3836/3836 [02:20<00:00, 27.31it/s]\n",
            "val Epoch 2:   0%|          | 0/959 [00:00<?, ?it/s]c:\\Users\\swath\\anaconda3\\envs\\ml_env\\Lib\\site-packages\\torch_geometric\\data\\storage.py:452: UserWarning: Unable to accurately infer 'num_nodes' from the attribute set '{'i_indices', 'j_indices', 'edge_index'}'. Please explicitly set 'num_nodes' as an attribute of 'data' to suppress this warning\n",
            "  warnings.warn(\n",
            "val Epoch 2: 100%|██████████| 959/959 [00:26<00:00, 36.15it/s]\n",
            "test Epoch 2:   0%|          | 0/1199 [00:00<?, ?it/s]c:\\Users\\swath\\anaconda3\\envs\\ml_env\\Lib\\site-packages\\torch_geometric\\data\\storage.py:452: UserWarning: Unable to accurately infer 'num_nodes' from the attribute set '{'i_indices', 'j_indices', 'edge_index'}'. Please explicitly set 'num_nodes' as an attribute of 'data' to suppress this warning\n",
            "  warnings.warn(\n",
            "test Epoch 2: 100%|██████████| 1199/1199 [00:33<00:00, 36.15it/s]\n"
          ]
        },
        {
          "name": "stdout",
          "output_type": "stream",
          "text": [
            "\n",
            "#### Epoch time 200.5513s\n",
            "loss: 0.6154, acc: 0.6636, roc: 0.7230, f1: 0.6712, p: 0.6563, r: 0.6867, int-ap: 0.7023, ap: 0.7023\n",
            "#### Validation\n",
            "loss: 0.5822, acc: 0.6995, roc: 0.7662, f1: 0.7140, p: 0.6812, r: 0.7501, int-ap: 0.7413, ap: 0.7413\n",
            "#### Test\n",
            "loss: 0.5795, acc: 0.7017, roc: 0.7684, f1: 0.7154, p: 0.6839, r: 0.7501, int-ap: 0.7453, ap: 0.7453\n"
          ]
        },
        {
          "name": "stderr",
          "output_type": "stream",
          "text": [
            "train Epoch 3:   0%|          | 0/3836 [00:00<?, ?it/s]c:\\Users\\swath\\anaconda3\\envs\\ml_env\\Lib\\site-packages\\torch_geometric\\data\\storage.py:452: UserWarning: Unable to accurately infer 'num_nodes' from the attribute set '{'i_indices', 'j_indices', 'edge_index'}'. Please explicitly set 'num_nodes' as an attribute of 'data' to suppress this warning\n",
            "  warnings.warn(\n",
            "train Epoch 3: 100%|██████████| 3836/3836 [02:26<00:00, 26.16it/s]\n",
            "val Epoch 3:   0%|          | 0/959 [00:00<?, ?it/s]c:\\Users\\swath\\anaconda3\\envs\\ml_env\\Lib\\site-packages\\torch_geometric\\data\\storage.py:452: UserWarning: Unable to accurately infer 'num_nodes' from the attribute set '{'i_indices', 'j_indices', 'edge_index'}'. Please explicitly set 'num_nodes' as an attribute of 'data' to suppress this warning\n",
            "  warnings.warn(\n",
            "val Epoch 3: 100%|██████████| 959/959 [00:26<00:00, 35.71it/s]\n",
            "test Epoch 3:   0%|          | 0/1199 [00:00<?, ?it/s]c:\\Users\\swath\\anaconda3\\envs\\ml_env\\Lib\\site-packages\\torch_geometric\\data\\storage.py:452: UserWarning: Unable to accurately infer 'num_nodes' from the attribute set '{'i_indices', 'j_indices', 'edge_index'}'. Please explicitly set 'num_nodes' as an attribute of 'data' to suppress this warning\n",
            "  warnings.warn(\n",
            "test Epoch 3: 100%|██████████| 1199/1199 [00:33<00:00, 35.89it/s]\n"
          ]
        },
        {
          "name": "stdout",
          "output_type": "stream",
          "text": [
            "\n",
            "#### Epoch time 207.2397s\n",
            "loss: 0.5768, acc: 0.6975, roc: 0.7677, f1: 0.7058, p: 0.6869, r: 0.7259, int-ap: 0.7465, ap: 0.7465\n",
            "#### Validation\n",
            "loss: 0.5630, acc: 0.7112, roc: 0.7904, f1: 0.7399, p: 0.6730, r: 0.8216, int-ap: 0.7674, ap: 0.7674\n",
            "#### Test\n",
            "loss: 0.5600, acc: 0.7139, roc: 0.7914, f1: 0.7417, p: 0.6760, r: 0.8216, int-ap: 0.7699, ap: 0.7699\n"
          ]
        },
        {
          "name": "stderr",
          "output_type": "stream",
          "text": [
            "train Epoch 4:   0%|          | 0/3836 [00:00<?, ?it/s]c:\\Users\\swath\\anaconda3\\envs\\ml_env\\Lib\\site-packages\\torch_geometric\\data\\storage.py:452: UserWarning: Unable to accurately infer 'num_nodes' from the attribute set '{'i_indices', 'j_indices', 'edge_index'}'. Please explicitly set 'num_nodes' as an attribute of 'data' to suppress this warning\n",
            "  warnings.warn(\n",
            "train Epoch 4: 100%|██████████| 3836/3836 [02:21<00:00, 27.10it/s]\n",
            "val Epoch 4:   0%|          | 0/959 [00:00<?, ?it/s]c:\\Users\\swath\\anaconda3\\envs\\ml_env\\Lib\\site-packages\\torch_geometric\\data\\storage.py:452: UserWarning: Unable to accurately infer 'num_nodes' from the attribute set '{'i_indices', 'j_indices', 'edge_index'}'. Please explicitly set 'num_nodes' as an attribute of 'data' to suppress this warning\n",
            "  warnings.warn(\n",
            "val Epoch 4: 100%|██████████| 959/959 [00:27<00:00, 34.56it/s]\n",
            "test Epoch 4:   0%|          | 0/1199 [00:00<?, ?it/s]c:\\Users\\swath\\anaconda3\\envs\\ml_env\\Lib\\site-packages\\torch_geometric\\data\\storage.py:452: UserWarning: Unable to accurately infer 'num_nodes' from the attribute set '{'i_indices', 'j_indices', 'edge_index'}'. Please explicitly set 'num_nodes' as an attribute of 'data' to suppress this warning\n",
            "  warnings.warn(\n",
            "test Epoch 4: 100%|██████████| 1199/1199 [00:35<00:00, 34.19it/s]\n"
          ]
        },
        {
          "name": "stdout",
          "output_type": "stream",
          "text": [
            "\n",
            "#### Epoch time 204.7584s\n",
            "loss: 0.5536, acc: 0.7170, roc: 0.7910, f1: 0.7247, p: 0.7054, r: 0.7452, int-ap: 0.7712, ap: 0.7712\n",
            "#### Validation\n",
            "loss: 0.5269, acc: 0.7390, roc: 0.8160, f1: 0.7431, p: 0.7315, r: 0.7551, int-ap: 0.7967, ap: 0.7967\n",
            "#### Test\n",
            "loss: 0.5246, acc: 0.7399, roc: 0.8181, f1: 0.7435, p: 0.7334, r: 0.7539, int-ap: 0.7999, ap: 0.7999\n"
          ]
        },
        {
          "name": "stderr",
          "output_type": "stream",
          "text": [
            "train Epoch 5:   0%|          | 0/3836 [00:00<?, ?it/s]c:\\Users\\swath\\anaconda3\\envs\\ml_env\\Lib\\site-packages\\torch_geometric\\data\\storage.py:452: UserWarning: Unable to accurately infer 'num_nodes' from the attribute set '{'i_indices', 'j_indices', 'edge_index'}'. Please explicitly set 'num_nodes' as an attribute of 'data' to suppress this warning\n",
            "  warnings.warn(\n",
            "train Epoch 5: 100%|██████████| 3836/3836 [02:23<00:00, 26.69it/s]\n",
            "val Epoch 5:   0%|          | 0/959 [00:00<?, ?it/s]c:\\Users\\swath\\anaconda3\\envs\\ml_env\\Lib\\site-packages\\torch_geometric\\data\\storage.py:452: UserWarning: Unable to accurately infer 'num_nodes' from the attribute set '{'i_indices', 'j_indices', 'edge_index'}'. Please explicitly set 'num_nodes' as an attribute of 'data' to suppress this warning\n",
            "  warnings.warn(\n",
            "val Epoch 5: 100%|██████████| 959/959 [00:26<00:00, 36.16it/s]\n",
            "test Epoch 5:   0%|          | 0/1199 [00:00<?, ?it/s]c:\\Users\\swath\\anaconda3\\envs\\ml_env\\Lib\\site-packages\\torch_geometric\\data\\storage.py:452: UserWarning: Unable to accurately infer 'num_nodes' from the attribute set '{'i_indices', 'j_indices', 'edge_index'}'. Please explicitly set 'num_nodes' as an attribute of 'data' to suppress this warning\n",
            "  warnings.warn(\n",
            "test Epoch 5: 100%|██████████| 1199/1199 [00:33<00:00, 35.71it/s]\n"
          ]
        },
        {
          "name": "stdout",
          "output_type": "stream",
          "text": [
            "\n",
            "#### Epoch time 204.2788s\n",
            "loss: 0.5334, acc: 0.7341, roc: 0.8101, f1: 0.7412, p: 0.7218, r: 0.7617, int-ap: 0.7906, ap: 0.7905\n",
            "#### Validation\n",
            "loss: 0.5036, acc: 0.7559, roc: 0.8355, f1: 0.7657, p: 0.7364, r: 0.7974, int-ap: 0.8156, ap: 0.8156\n",
            "#### Test\n",
            "loss: 0.4998, acc: 0.7587, roc: 0.8384, f1: 0.7680, p: 0.7396, r: 0.7986, int-ap: 0.8196, ap: 0.8196\n"
          ]
        },
        {
          "name": "stderr",
          "output_type": "stream",
          "text": [
            "train Epoch 6:   0%|          | 0/3836 [00:00<?, ?it/s]c:\\Users\\swath\\anaconda3\\envs\\ml_env\\Lib\\site-packages\\torch_geometric\\data\\storage.py:452: UserWarning: Unable to accurately infer 'num_nodes' from the attribute set '{'i_indices', 'j_indices', 'edge_index'}'. Please explicitly set 'num_nodes' as an attribute of 'data' to suppress this warning\n",
            "  warnings.warn(\n",
            "train Epoch 6: 100%|██████████| 3836/3836 [02:23<00:00, 26.82it/s]\n",
            "val Epoch 6:   0%|          | 0/959 [00:00<?, ?it/s]c:\\Users\\swath\\anaconda3\\envs\\ml_env\\Lib\\site-packages\\torch_geometric\\data\\storage.py:452: UserWarning: Unable to accurately infer 'num_nodes' from the attribute set '{'i_indices', 'j_indices', 'edge_index'}'. Please explicitly set 'num_nodes' as an attribute of 'data' to suppress this warning\n",
            "  warnings.warn(\n",
            "val Epoch 6: 100%|██████████| 959/959 [00:28<00:00, 33.80it/s]\n",
            "test Epoch 6:   0%|          | 0/1199 [00:00<?, ?it/s]c:\\Users\\swath\\anaconda3\\envs\\ml_env\\Lib\\site-packages\\torch_geometric\\data\\storage.py:452: UserWarning: Unable to accurately infer 'num_nodes' from the attribute set '{'i_indices', 'j_indices', 'edge_index'}'. Please explicitly set 'num_nodes' as an attribute of 'data' to suppress this warning\n",
            "  warnings.warn(\n",
            "test Epoch 6: 100%|██████████| 1199/1199 [00:35<00:00, 33.92it/s]\n"
          ]
        },
        {
          "name": "stdout",
          "output_type": "stream",
          "text": [
            "\n",
            "#### Epoch time 207.2335s\n",
            "loss: 0.5179, acc: 0.7466, roc: 0.8235, f1: 0.7530, p: 0.7345, r: 0.7726, int-ap: 0.8038, ap: 0.8038\n",
            "#### Validation\n",
            "loss: 0.4995, acc: 0.7635, roc: 0.8421, f1: 0.7808, p: 0.7275, r: 0.8424, int-ap: 0.8213, ap: 0.8213\n",
            "#### Test\n",
            "loss: 0.4945, acc: 0.7640, roc: 0.8451, f1: 0.7815, p: 0.7275, r: 0.8443, int-ap: 0.8267, ap: 0.8267\n"
          ]
        },
        {
          "name": "stderr",
          "output_type": "stream",
          "text": [
            "train Epoch 7:   0%|          | 0/3836 [00:00<?, ?it/s]c:\\Users\\swath\\anaconda3\\envs\\ml_env\\Lib\\site-packages\\torch_geometric\\data\\storage.py:452: UserWarning: Unable to accurately infer 'num_nodes' from the attribute set '{'i_indices', 'j_indices', 'edge_index'}'. Please explicitly set 'num_nodes' as an attribute of 'data' to suppress this warning\n",
            "  warnings.warn(\n",
            "train Epoch 7: 100%|██████████| 3836/3836 [02:21<00:00, 27.19it/s]\n",
            "val Epoch 7:   0%|          | 0/959 [00:00<?, ?it/s]c:\\Users\\swath\\anaconda3\\envs\\ml_env\\Lib\\site-packages\\torch_geometric\\data\\storage.py:452: UserWarning: Unable to accurately infer 'num_nodes' from the attribute set '{'i_indices', 'j_indices', 'edge_index'}'. Please explicitly set 'num_nodes' as an attribute of 'data' to suppress this warning\n",
            "  warnings.warn(\n",
            "val Epoch 7: 100%|██████████| 959/959 [00:27<00:00, 35.35it/s]\n",
            "test Epoch 7:   0%|          | 0/1199 [00:00<?, ?it/s]c:\\Users\\swath\\anaconda3\\envs\\ml_env\\Lib\\site-packages\\torch_geometric\\data\\storage.py:452: UserWarning: Unable to accurately infer 'num_nodes' from the attribute set '{'i_indices', 'j_indices', 'edge_index'}'. Please explicitly set 'num_nodes' as an attribute of 'data' to suppress this warning\n",
            "  warnings.warn(\n",
            "test Epoch 7: 100%|██████████| 1199/1199 [00:36<00:00, 33.06it/s]\n"
          ]
        },
        {
          "name": "stdout",
          "output_type": "stream",
          "text": [
            "\n",
            "#### Epoch time 204.9181s\n",
            "loss: 0.5044, acc: 0.7562, roc: 0.8343, f1: 0.7623, p: 0.7437, r: 0.7817, int-ap: 0.8156, ap: 0.8156\n",
            "#### Validation\n",
            "loss: 0.4829, acc: 0.7771, roc: 0.8577, f1: 0.7971, p: 0.7314, r: 0.8759, int-ap: 0.8368, ap: 0.8368\n",
            "#### Test\n",
            "loss: 0.4800, acc: 0.7784, roc: 0.8600, f1: 0.7978, p: 0.7334, r: 0.8746, int-ap: 0.8403, ap: 0.8403\n"
          ]
        },
        {
          "name": "stderr",
          "output_type": "stream",
          "text": [
            "train Epoch 8:   0%|          | 0/3836 [00:00<?, ?it/s]c:\\Users\\swath\\anaconda3\\envs\\ml_env\\Lib\\site-packages\\torch_geometric\\data\\storage.py:452: UserWarning: Unable to accurately infer 'num_nodes' from the attribute set '{'i_indices', 'j_indices', 'edge_index'}'. Please explicitly set 'num_nodes' as an attribute of 'data' to suppress this warning\n",
            "  warnings.warn(\n",
            "train Epoch 8: 100%|██████████| 3836/3836 [02:28<00:00, 25.83it/s]\n",
            "val Epoch 8:   0%|          | 0/959 [00:00<?, ?it/s]c:\\Users\\swath\\anaconda3\\envs\\ml_env\\Lib\\site-packages\\torch_geometric\\data\\storage.py:452: UserWarning: Unable to accurately infer 'num_nodes' from the attribute set '{'i_indices', 'j_indices', 'edge_index'}'. Please explicitly set 'num_nodes' as an attribute of 'data' to suppress this warning\n",
            "  warnings.warn(\n",
            "val Epoch 8: 100%|██████████| 959/959 [00:28<00:00, 33.30it/s]\n",
            "test Epoch 8:   0%|          | 0/1199 [00:00<?, ?it/s]c:\\Users\\swath\\anaconda3\\envs\\ml_env\\Lib\\site-packages\\torch_geometric\\data\\storage.py:452: UserWarning: Unable to accurately infer 'num_nodes' from the attribute set '{'i_indices', 'j_indices', 'edge_index'}'. Please explicitly set 'num_nodes' as an attribute of 'data' to suppress this warning\n",
            "  warnings.warn(\n",
            "test Epoch 8: 100%|██████████| 1199/1199 [00:37<00:00, 31.88it/s]\n"
          ]
        },
        {
          "name": "stdout",
          "output_type": "stream",
          "text": [
            "\n",
            "#### Epoch time 215.3831s\n",
            "loss: 0.4954, acc: 0.7634, roc: 0.8415, f1: 0.7690, p: 0.7513, r: 0.7875, int-ap: 0.8223, ap: 0.8223\n",
            "#### Validation\n",
            "loss: 0.4676, acc: 0.7889, roc: 0.8652, f1: 0.7987, p: 0.7631, r: 0.8379, int-ap: 0.8469, ap: 0.8469\n",
            "#### Test\n",
            "loss: 0.4631, acc: 0.7890, roc: 0.8678, f1: 0.7985, p: 0.7641, r: 0.8362, int-ap: 0.8503, ap: 0.8503\n"
          ]
        },
        {
          "name": "stderr",
          "output_type": "stream",
          "text": [
            "train Epoch 9:   0%|          | 0/3836 [00:00<?, ?it/s]c:\\Users\\swath\\anaconda3\\envs\\ml_env\\Lib\\site-packages\\torch_geometric\\data\\storage.py:452: UserWarning: Unable to accurately infer 'num_nodes' from the attribute set '{'i_indices', 'j_indices', 'edge_index'}'. Please explicitly set 'num_nodes' as an attribute of 'data' to suppress this warning\n",
            "  warnings.warn(\n",
            "train Epoch 9: 100%|██████████| 3836/3836 [02:29<00:00, 25.61it/s]\n",
            "val Epoch 9:   0%|          | 0/959 [00:00<?, ?it/s]c:\\Users\\swath\\anaconda3\\envs\\ml_env\\Lib\\site-packages\\torch_geometric\\data\\storage.py:452: UserWarning: Unable to accurately infer 'num_nodes' from the attribute set '{'i_indices', 'j_indices', 'edge_index'}'. Please explicitly set 'num_nodes' as an attribute of 'data' to suppress this warning\n",
            "  warnings.warn(\n",
            "val Epoch 9: 100%|██████████| 959/959 [00:27<00:00, 34.95it/s]\n",
            "test Epoch 9:   0%|          | 0/1199 [00:00<?, ?it/s]c:\\Users\\swath\\anaconda3\\envs\\ml_env\\Lib\\site-packages\\torch_geometric\\data\\storage.py:452: UserWarning: Unable to accurately infer 'num_nodes' from the attribute set '{'i_indices', 'j_indices', 'edge_index'}'. Please explicitly set 'num_nodes' as an attribute of 'data' to suppress this warning\n",
            "  warnings.warn(\n",
            "test Epoch 9: 100%|██████████| 1199/1199 [00:34<00:00, 34.56it/s]\n"
          ]
        },
        {
          "name": "stdout",
          "output_type": "stream",
          "text": [
            "\n",
            "#### Epoch time 212.3289s\n",
            "loss: 0.4841, acc: 0.7705, roc: 0.8495, f1: 0.7759, p: 0.7580, r: 0.7946, int-ap: 0.8313, ap: 0.8313\n",
            "#### Validation\n",
            "loss: 0.4610, acc: 0.7940, roc: 0.8722, f1: 0.8075, p: 0.7579, r: 0.8640, int-ap: 0.8538, ap: 0.8538\n",
            "#### Test\n",
            "loss: 0.4564, acc: 0.7959, roc: 0.8747, f1: 0.8090, p: 0.7603, r: 0.8642, int-ap: 0.8583, ap: 0.8583\n"
          ]
        },
        {
          "name": "stderr",
          "output_type": "stream",
          "text": [
            "train Epoch 10:   0%|          | 0/3836 [00:00<?, ?it/s]c:\\Users\\swath\\anaconda3\\envs\\ml_env\\Lib\\site-packages\\torch_geometric\\data\\storage.py:452: UserWarning: Unable to accurately infer 'num_nodes' from the attribute set '{'i_indices', 'j_indices', 'edge_index'}'. Please explicitly set 'num_nodes' as an attribute of 'data' to suppress this warning\n",
            "  warnings.warn(\n",
            "train Epoch 10: 100%|██████████| 3836/3836 [02:23<00:00, 26.65it/s]\n",
            "val Epoch 10:   0%|          | 0/959 [00:00<?, ?it/s]c:\\Users\\swath\\anaconda3\\envs\\ml_env\\Lib\\site-packages\\torch_geometric\\data\\storage.py:452: UserWarning: Unable to accurately infer 'num_nodes' from the attribute set '{'i_indices', 'j_indices', 'edge_index'}'. Please explicitly set 'num_nodes' as an attribute of 'data' to suppress this warning\n",
            "  warnings.warn(\n",
            "val Epoch 10: 100%|██████████| 959/959 [00:25<00:00, 37.52it/s]\n",
            "test Epoch 10:   0%|          | 0/1199 [00:00<?, ?it/s]c:\\Users\\swath\\anaconda3\\envs\\ml_env\\Lib\\site-packages\\torch_geometric\\data\\storage.py:452: UserWarning: Unable to accurately infer 'num_nodes' from the attribute set '{'i_indices', 'j_indices', 'edge_index'}'. Please explicitly set 'num_nodes' as an attribute of 'data' to suppress this warning\n",
            "  warnings.warn(\n",
            "test Epoch 10: 100%|██████████| 1199/1199 [00:34<00:00, 34.83it/s]\n"
          ]
        },
        {
          "name": "stdout",
          "output_type": "stream",
          "text": [
            "\n",
            "#### Epoch time 204.2997s\n",
            "loss: 0.4742, acc: 0.7775, roc: 0.8566, f1: 0.7829, p: 0.7644, r: 0.8023, int-ap: 0.8386, ap: 0.8386\n",
            "#### Validation\n",
            "loss: 0.4478, acc: 0.7995, roc: 0.8773, f1: 0.8100, p: 0.7696, r: 0.8549, int-ap: 0.8583, ap: 0.8583\n",
            "#### Test\n",
            "loss: 0.4431, acc: 0.8022, roc: 0.8802, f1: 0.8122, p: 0.7732, r: 0.8552, int-ap: 0.8627, ap: 0.8627\n"
          ]
        },
        {
          "name": "stderr",
          "output_type": "stream",
          "text": [
            "train Epoch 11:   0%|          | 0/3836 [00:00<?, ?it/s]c:\\Users\\swath\\anaconda3\\envs\\ml_env\\Lib\\site-packages\\torch_geometric\\data\\storage.py:452: UserWarning: Unable to accurately infer 'num_nodes' from the attribute set '{'i_indices', 'j_indices', 'edge_index'}'. Please explicitly set 'num_nodes' as an attribute of 'data' to suppress this warning\n",
            "  warnings.warn(\n",
            "train Epoch 11: 100%|██████████| 3836/3836 [02:29<00:00, 25.69it/s]\n",
            "val Epoch 11:   0%|          | 0/959 [00:00<?, ?it/s]c:\\Users\\swath\\anaconda3\\envs\\ml_env\\Lib\\site-packages\\torch_geometric\\data\\storage.py:452: UserWarning: Unable to accurately infer 'num_nodes' from the attribute set '{'i_indices', 'j_indices', 'edge_index'}'. Please explicitly set 'num_nodes' as an attribute of 'data' to suppress this warning\n",
            "  warnings.warn(\n",
            "val Epoch 11: 100%|██████████| 959/959 [00:29<00:00, 32.50it/s]\n",
            "test Epoch 11:   0%|          | 0/1199 [00:00<?, ?it/s]c:\\Users\\swath\\anaconda3\\envs\\ml_env\\Lib\\site-packages\\torch_geometric\\data\\storage.py:452: UserWarning: Unable to accurately infer 'num_nodes' from the attribute set '{'i_indices', 'j_indices', 'edge_index'}'. Please explicitly set 'num_nodes' as an attribute of 'data' to suppress this warning\n",
            "  warnings.warn(\n",
            "test Epoch 11: 100%|██████████| 1199/1199 [00:36<00:00, 32.64it/s]\n"
          ]
        },
        {
          "name": "stdout",
          "output_type": "stream",
          "text": [
            "\n",
            "#### Epoch time 215.9429s\n",
            "loss: 0.4674, acc: 0.7827, roc: 0.8613, f1: 0.7880, p: 0.7693, r: 0.8076, int-ap: 0.8439, ap: 0.8439\n",
            "#### Validation\n",
            "loss: 0.4603, acc: 0.7971, roc: 0.8758, f1: 0.8135, p: 0.7527, r: 0.8850, int-ap: 0.8568, ap: 0.8568\n",
            "#### Test\n",
            "loss: 0.4531, acc: 0.7985, roc: 0.8790, f1: 0.8147, p: 0.7542, r: 0.8858, int-ap: 0.8615, ap: 0.8615\n"
          ]
        },
        {
          "name": "stderr",
          "output_type": "stream",
          "text": [
            "train Epoch 12:   0%|          | 0/3836 [00:00<?, ?it/s]c:\\Users\\swath\\anaconda3\\envs\\ml_env\\Lib\\site-packages\\torch_geometric\\data\\storage.py:452: UserWarning: Unable to accurately infer 'num_nodes' from the attribute set '{'i_indices', 'j_indices', 'edge_index'}'. Please explicitly set 'num_nodes' as an attribute of 'data' to suppress this warning\n",
            "  warnings.warn(\n",
            "train Epoch 12: 100%|██████████| 3836/3836 [02:26<00:00, 26.18it/s]\n",
            "val Epoch 12:   0%|          | 0/959 [00:00<?, ?it/s]c:\\Users\\swath\\anaconda3\\envs\\ml_env\\Lib\\site-packages\\torch_geometric\\data\\storage.py:452: UserWarning: Unable to accurately infer 'num_nodes' from the attribute set '{'i_indices', 'j_indices', 'edge_index'}'. Please explicitly set 'num_nodes' as an attribute of 'data' to suppress this warning\n",
            "  warnings.warn(\n",
            "val Epoch 12: 100%|██████████| 959/959 [00:26<00:00, 36.69it/s]\n",
            "test Epoch 12:   0%|          | 0/1199 [00:00<?, ?it/s]c:\\Users\\swath\\anaconda3\\envs\\ml_env\\Lib\\site-packages\\torch_geometric\\data\\storage.py:452: UserWarning: Unable to accurately infer 'num_nodes' from the attribute set '{'i_indices', 'j_indices', 'edge_index'}'. Please explicitly set 'num_nodes' as an attribute of 'data' to suppress this warning\n",
            "  warnings.warn(\n",
            "test Epoch 12: 100%|██████████| 1199/1199 [00:34<00:00, 34.89it/s]\n"
          ]
        },
        {
          "name": "stdout",
          "output_type": "stream",
          "text": [
            "\n",
            "#### Epoch time 207.4363s\n",
            "loss: 0.4600, acc: 0.7872, roc: 0.8659, f1: 0.7924, p: 0.7734, r: 0.8124, int-ap: 0.8484, ap: 0.8484\n",
            "#### Validation\n",
            "loss: 0.4470, acc: 0.8046, roc: 0.8835, f1: 0.8187, p: 0.7636, r: 0.8825, int-ap: 0.8654, ap: 0.8654\n",
            "#### Test\n",
            "loss: 0.4419, acc: 0.8033, roc: 0.8849, f1: 0.8171, p: 0.7635, r: 0.8789, int-ap: 0.8683, ap: 0.8682\n"
          ]
        },
        {
          "name": "stderr",
          "output_type": "stream",
          "text": [
            "train Epoch 13:   0%|          | 0/3836 [00:00<?, ?it/s]c:\\Users\\swath\\anaconda3\\envs\\ml_env\\Lib\\site-packages\\torch_geometric\\data\\storage.py:452: UserWarning: Unable to accurately infer 'num_nodes' from the attribute set '{'i_indices', 'j_indices', 'edge_index'}'. Please explicitly set 'num_nodes' as an attribute of 'data' to suppress this warning\n",
            "  warnings.warn(\n",
            "train Epoch 13: 100%|██████████| 3836/3836 [02:34<00:00, 24.87it/s]\n",
            "val Epoch 13:   0%|          | 0/959 [00:00<?, ?it/s]c:\\Users\\swath\\anaconda3\\envs\\ml_env\\Lib\\site-packages\\torch_geometric\\data\\storage.py:452: UserWarning: Unable to accurately infer 'num_nodes' from the attribute set '{'i_indices', 'j_indices', 'edge_index'}'. Please explicitly set 'num_nodes' as an attribute of 'data' to suppress this warning\n",
            "  warnings.warn(\n",
            "val Epoch 13: 100%|██████████| 959/959 [00:28<00:00, 34.23it/s]\n",
            "test Epoch 13:   0%|          | 0/1199 [00:00<?, ?it/s]c:\\Users\\swath\\anaconda3\\envs\\ml_env\\Lib\\site-packages\\torch_geometric\\data\\storage.py:452: UserWarning: Unable to accurately infer 'num_nodes' from the attribute set '{'i_indices', 'j_indices', 'edge_index'}'. Please explicitly set 'num_nodes' as an attribute of 'data' to suppress this warning\n",
            "  warnings.warn(\n",
            "test Epoch 13: 100%|██████████| 1199/1199 [00:35<00:00, 33.78it/s]\n"
          ]
        },
        {
          "name": "stdout",
          "output_type": "stream",
          "text": [
            "\n",
            "#### Epoch time 218.1172s\n",
            "loss: 0.4529, acc: 0.7916, roc: 0.8708, f1: 0.7968, p: 0.7777, r: 0.8168, int-ap: 0.8539, ap: 0.8539\n",
            "#### Validation\n",
            "loss: 0.4385, acc: 0.8118, roc: 0.8894, f1: 0.8261, p: 0.7679, r: 0.8937, int-ap: 0.8693, ap: 0.8693\n",
            "#### Test\n",
            "loss: 0.4319, acc: 0.8126, roc: 0.8920, f1: 0.8267, p: 0.7689, r: 0.8939, int-ap: 0.8741, ap: 0.8741\n"
          ]
        },
        {
          "name": "stderr",
          "output_type": "stream",
          "text": [
            "train Epoch 14:   0%|          | 0/3836 [00:00<?, ?it/s]c:\\Users\\swath\\anaconda3\\envs\\ml_env\\Lib\\site-packages\\torch_geometric\\data\\storage.py:452: UserWarning: Unable to accurately infer 'num_nodes' from the attribute set '{'i_indices', 'j_indices', 'edge_index'}'. Please explicitly set 'num_nodes' as an attribute of 'data' to suppress this warning\n",
            "  warnings.warn(\n",
            "train Epoch 14: 100%|██████████| 3836/3836 [02:33<00:00, 24.96it/s]\n",
            "val Epoch 14:   0%|          | 0/959 [00:00<?, ?it/s]c:\\Users\\swath\\anaconda3\\envs\\ml_env\\Lib\\site-packages\\torch_geometric\\data\\storage.py:452: UserWarning: Unable to accurately infer 'num_nodes' from the attribute set '{'i_indices', 'j_indices', 'edge_index'}'. Please explicitly set 'num_nodes' as an attribute of 'data' to suppress this warning\n",
            "  warnings.warn(\n",
            "val Epoch 14: 100%|██████████| 959/959 [00:29<00:00, 32.73it/s]\n",
            "test Epoch 14:   0%|          | 0/1199 [00:00<?, ?it/s]c:\\Users\\swath\\anaconda3\\envs\\ml_env\\Lib\\site-packages\\torch_geometric\\data\\storage.py:452: UserWarning: Unable to accurately infer 'num_nodes' from the attribute set '{'i_indices', 'j_indices', 'edge_index'}'. Please explicitly set 'num_nodes' as an attribute of 'data' to suppress this warning\n",
            "  warnings.warn(\n",
            "test Epoch 14: 100%|██████████| 1199/1199 [00:38<00:00, 31.40it/s]\n"
          ]
        },
        {
          "name": "stdout",
          "output_type": "stream",
          "text": [
            "\n",
            "#### Epoch time 221.6073s\n",
            "loss: 0.4470, acc: 0.7956, roc: 0.8742, f1: 0.8005, p: 0.7816, r: 0.8204, int-ap: 0.8580, ap: 0.8580\n",
            "#### Validation\n",
            "loss: 0.4256, acc: 0.8171, roc: 0.8961, f1: 0.8322, p: 0.7687, r: 0.9071, int-ap: 0.8776, ap: 0.8776\n",
            "#### Test\n",
            "loss: 0.4183, acc: 0.8194, roc: 0.8996, f1: 0.8342, p: 0.7708, r: 0.9090, int-ap: 0.8831, ap: 0.8831\n"
          ]
        },
        {
          "name": "stderr",
          "output_type": "stream",
          "text": [
            "train Epoch 15:   0%|          | 0/3836 [00:00<?, ?it/s]c:\\Users\\swath\\anaconda3\\envs\\ml_env\\Lib\\site-packages\\torch_geometric\\data\\storage.py:452: UserWarning: Unable to accurately infer 'num_nodes' from the attribute set '{'i_indices', 'j_indices', 'edge_index'}'. Please explicitly set 'num_nodes' as an attribute of 'data' to suppress this warning\n",
            "  warnings.warn(\n",
            "train Epoch 15: 100%|██████████| 3836/3836 [02:27<00:00, 26.00it/s]\n",
            "val Epoch 15:   0%|          | 0/959 [00:00<?, ?it/s]c:\\Users\\swath\\anaconda3\\envs\\ml_env\\Lib\\site-packages\\torch_geometric\\data\\storage.py:452: UserWarning: Unable to accurately infer 'num_nodes' from the attribute set '{'i_indices', 'j_indices', 'edge_index'}'. Please explicitly set 'num_nodes' as an attribute of 'data' to suppress this warning\n",
            "  warnings.warn(\n",
            "val Epoch 15: 100%|██████████| 959/959 [00:25<00:00, 37.16it/s]\n",
            "test Epoch 15:   0%|          | 0/1199 [00:00<?, ?it/s]c:\\Users\\swath\\anaconda3\\envs\\ml_env\\Lib\\site-packages\\torch_geometric\\data\\storage.py:452: UserWarning: Unable to accurately infer 'num_nodes' from the attribute set '{'i_indices', 'j_indices', 'edge_index'}'. Please explicitly set 'num_nodes' as an attribute of 'data' to suppress this warning\n",
            "  warnings.warn(\n",
            "test Epoch 15: 100%|██████████| 1199/1199 [00:37<00:00, 31.91it/s]\n"
          ]
        },
        {
          "name": "stdout",
          "output_type": "stream",
          "text": [
            "\n",
            "#### Epoch time 211.2918s\n",
            "loss: 0.4401, acc: 0.7996, roc: 0.8783, f1: 0.8044, p: 0.7855, r: 0.8243, int-ap: 0.8620, ap: 0.8620\n",
            "#### Validation\n",
            "loss: 0.4225, acc: 0.8205, roc: 0.8979, f1: 0.8337, p: 0.7768, r: 0.8995, int-ap: 0.8792, ap: 0.8792\n",
            "#### Test\n",
            "loss: 0.4161, acc: 0.8211, roc: 0.8997, f1: 0.8341, p: 0.7775, r: 0.8996, int-ap: 0.8828, ap: 0.8828\n"
          ]
        },
        {
          "name": "stderr",
          "output_type": "stream",
          "text": [
            "train Epoch 16:   0%|          | 0/3836 [00:00<?, ?it/s]c:\\Users\\swath\\anaconda3\\envs\\ml_env\\Lib\\site-packages\\torch_geometric\\data\\storage.py:452: UserWarning: Unable to accurately infer 'num_nodes' from the attribute set '{'i_indices', 'j_indices', 'edge_index'}'. Please explicitly set 'num_nodes' as an attribute of 'data' to suppress this warning\n",
            "  warnings.warn(\n",
            "train Epoch 16: 100%|██████████| 3836/3836 [02:27<00:00, 26.08it/s]\n",
            "val Epoch 16:   0%|          | 0/959 [00:00<?, ?it/s]c:\\Users\\swath\\anaconda3\\envs\\ml_env\\Lib\\site-packages\\torch_geometric\\data\\storage.py:452: UserWarning: Unable to accurately infer 'num_nodes' from the attribute set '{'i_indices', 'j_indices', 'edge_index'}'. Please explicitly set 'num_nodes' as an attribute of 'data' to suppress this warning\n",
            "  warnings.warn(\n",
            "val Epoch 16: 100%|██████████| 959/959 [00:28<00:00, 33.80it/s]\n",
            "test Epoch 16:   0%|          | 0/1199 [00:00<?, ?it/s]c:\\Users\\swath\\anaconda3\\envs\\ml_env\\Lib\\site-packages\\torch_geometric\\data\\storage.py:452: UserWarning: Unable to accurately infer 'num_nodes' from the attribute set '{'i_indices', 'j_indices', 'edge_index'}'. Please explicitly set 'num_nodes' as an attribute of 'data' to suppress this warning\n",
            "  warnings.warn(\n",
            "test Epoch 16: 100%|██████████| 1199/1199 [00:35<00:00, 33.90it/s]\n"
          ]
        },
        {
          "name": "stdout",
          "output_type": "stream",
          "text": [
            "\n",
            "#### Epoch time 211.2097s\n",
            "loss: 0.4346, acc: 0.8023, roc: 0.8815, f1: 0.8070, p: 0.7880, r: 0.8270, int-ap: 0.8658, ap: 0.8658\n",
            "#### Validation\n",
            "loss: 0.4138, acc: 0.8240, roc: 0.9024, f1: 0.8380, p: 0.7760, r: 0.9108, int-ap: 0.8851, ap: 0.8851\n",
            "#### Test\n",
            "loss: 0.4079, acc: 0.8263, roc: 0.9047, f1: 0.8399, p: 0.7789, r: 0.9113, int-ap: 0.8889, ap: 0.8888\n"
          ]
        },
        {
          "name": "stderr",
          "output_type": "stream",
          "text": [
            "train Epoch 17:   0%|          | 0/3836 [00:00<?, ?it/s]c:\\Users\\swath\\anaconda3\\envs\\ml_env\\Lib\\site-packages\\torch_geometric\\data\\storage.py:452: UserWarning: Unable to accurately infer 'num_nodes' from the attribute set '{'i_indices', 'j_indices', 'edge_index'}'. Please explicitly set 'num_nodes' as an attribute of 'data' to suppress this warning\n",
            "  warnings.warn(\n",
            "train Epoch 17: 100%|██████████| 3836/3836 [02:36<00:00, 24.44it/s]\n",
            "val Epoch 17:   0%|          | 0/959 [00:00<?, ?it/s]c:\\Users\\swath\\anaconda3\\envs\\ml_env\\Lib\\site-packages\\torch_geometric\\data\\storage.py:452: UserWarning: Unable to accurately infer 'num_nodes' from the attribute set '{'i_indices', 'j_indices', 'edge_index'}'. Please explicitly set 'num_nodes' as an attribute of 'data' to suppress this warning\n",
            "  warnings.warn(\n",
            "val Epoch 17: 100%|██████████| 959/959 [00:26<00:00, 35.66it/s]\n",
            "test Epoch 17:   0%|          | 0/1199 [00:00<?, ?it/s]c:\\Users\\swath\\anaconda3\\envs\\ml_env\\Lib\\site-packages\\torch_geometric\\data\\storage.py:452: UserWarning: Unable to accurately infer 'num_nodes' from the attribute set '{'i_indices', 'j_indices', 'edge_index'}'. Please explicitly set 'num_nodes' as an attribute of 'data' to suppress this warning\n",
            "  warnings.warn(\n",
            "test Epoch 17: 100%|██████████| 1199/1199 [00:36<00:00, 33.11it/s]\n"
          ]
        },
        {
          "name": "stdout",
          "output_type": "stream",
          "text": [
            "\n",
            "#### Epoch time 220.4860s\n",
            "loss: 0.4303, acc: 0.8059, roc: 0.8840, f1: 0.8106, p: 0.7915, r: 0.8307, int-ap: 0.8681, ap: 0.8681\n",
            "#### Validation\n",
            "loss: 0.4117, acc: 0.8250, roc: 0.9023, f1: 0.8381, p: 0.7799, r: 0.9056, int-ap: 0.8843, ap: 0.8842\n",
            "#### Test\n",
            "loss: 0.4059, acc: 0.8285, roc: 0.9051, f1: 0.8409, p: 0.7841, r: 0.9067, int-ap: 0.8889, ap: 0.8889\n"
          ]
        },
        {
          "name": "stderr",
          "output_type": "stream",
          "text": [
            "train Epoch 18:   0%|          | 0/3836 [00:00<?, ?it/s]c:\\Users\\swath\\anaconda3\\envs\\ml_env\\Lib\\site-packages\\torch_geometric\\data\\storage.py:452: UserWarning: Unable to accurately infer 'num_nodes' from the attribute set '{'i_indices', 'j_indices', 'edge_index'}'. Please explicitly set 'num_nodes' as an attribute of 'data' to suppress this warning\n",
            "  warnings.warn(\n",
            "train Epoch 18: 100%|██████████| 3836/3836 [02:37<00:00, 24.29it/s]\n",
            "val Epoch 18:   0%|          | 0/959 [00:00<?, ?it/s]c:\\Users\\swath\\anaconda3\\envs\\ml_env\\Lib\\site-packages\\torch_geometric\\data\\storage.py:452: UserWarning: Unable to accurately infer 'num_nodes' from the attribute set '{'i_indices', 'j_indices', 'edge_index'}'. Please explicitly set 'num_nodes' as an attribute of 'data' to suppress this warning\n",
            "  warnings.warn(\n",
            "val Epoch 18: 100%|██████████| 959/959 [00:27<00:00, 34.86it/s]\n",
            "test Epoch 18:   0%|          | 0/1199 [00:00<?, ?it/s]c:\\Users\\swath\\anaconda3\\envs\\ml_env\\Lib\\site-packages\\torch_geometric\\data\\storage.py:452: UserWarning: Unable to accurately infer 'num_nodes' from the attribute set '{'i_indices', 'j_indices', 'edge_index'}'. Please explicitly set 'num_nodes' as an attribute of 'data' to suppress this warning\n",
            "  warnings.warn(\n",
            "test Epoch 18: 100%|██████████| 1199/1199 [00:33<00:00, 35.71it/s]\n"
          ]
        },
        {
          "name": "stdout",
          "output_type": "stream",
          "text": [
            "\n",
            "#### Epoch time 219.3953s\n",
            "loss: 0.4257, acc: 0.8079, roc: 0.8866, f1: 0.8124, p: 0.7940, r: 0.8316, int-ap: 0.8713, ap: 0.8713\n",
            "#### Validation\n",
            "loss: 0.4037, acc: 0.8328, roc: 0.9068, f1: 0.8450, p: 0.7873, r: 0.9120, int-ap: 0.8879, ap: 0.8879\n",
            "#### Test\n",
            "loss: 0.3979, acc: 0.8332, roc: 0.9086, f1: 0.8451, p: 0.7887, r: 0.9103, int-ap: 0.8923, ap: 0.8923\n"
          ]
        },
        {
          "name": "stderr",
          "output_type": "stream",
          "text": [
            "train Epoch 19:   0%|          | 0/3836 [00:00<?, ?it/s]c:\\Users\\swath\\anaconda3\\envs\\ml_env\\Lib\\site-packages\\torch_geometric\\data\\storage.py:452: UserWarning: Unable to accurately infer 'num_nodes' from the attribute set '{'i_indices', 'j_indices', 'edge_index'}'. Please explicitly set 'num_nodes' as an attribute of 'data' to suppress this warning\n",
            "  warnings.warn(\n",
            "train Epoch 19: 100%|██████████| 3836/3836 [02:18<00:00, 27.76it/s]\n",
            "val Epoch 19:   0%|          | 0/959 [00:00<?, ?it/s]c:\\Users\\swath\\anaconda3\\envs\\ml_env\\Lib\\site-packages\\torch_geometric\\data\\storage.py:452: UserWarning: Unable to accurately infer 'num_nodes' from the attribute set '{'i_indices', 'j_indices', 'edge_index'}'. Please explicitly set 'num_nodes' as an attribute of 'data' to suppress this warning\n",
            "  warnings.warn(\n",
            "val Epoch 19: 100%|██████████| 959/959 [00:26<00:00, 36.77it/s]\n",
            "test Epoch 19:   0%|          | 0/1199 [00:00<?, ?it/s]c:\\Users\\swath\\anaconda3\\envs\\ml_env\\Lib\\site-packages\\torch_geometric\\data\\storage.py:452: UserWarning: Unable to accurately infer 'num_nodes' from the attribute set '{'i_indices', 'j_indices', 'edge_index'}'. Please explicitly set 'num_nodes' as an attribute of 'data' to suppress this warning\n",
            "  warnings.warn(\n",
            "test Epoch 19: 100%|██████████| 1199/1199 [00:33<00:00, 35.69it/s]\n"
          ]
        },
        {
          "name": "stdout",
          "output_type": "stream",
          "text": [
            "\n",
            "#### Epoch time 198.2388s\n",
            "loss: 0.4213, acc: 0.8119, roc: 0.8892, f1: 0.8164, p: 0.7974, r: 0.8364, int-ap: 0.8735, ap: 0.8735\n",
            "#### Validation\n",
            "loss: 0.3990, acc: 0.8317, roc: 0.9103, f1: 0.8453, p: 0.7821, r: 0.9196, int-ap: 0.8929, ap: 0.8929\n",
            "#### Test\n",
            "loss: 0.3944, acc: 0.8350, roc: 0.9118, f1: 0.8480, p: 0.7862, r: 0.9204, int-ap: 0.8967, ap: 0.8967\n"
          ]
        },
        {
          "name": "stderr",
          "output_type": "stream",
          "text": [
            "train Epoch 20:   0%|          | 0/3836 [00:00<?, ?it/s]c:\\Users\\swath\\anaconda3\\envs\\ml_env\\Lib\\site-packages\\torch_geometric\\data\\storage.py:452: UserWarning: Unable to accurately infer 'num_nodes' from the attribute set '{'i_indices', 'j_indices', 'edge_index'}'. Please explicitly set 'num_nodes' as an attribute of 'data' to suppress this warning\n",
            "  warnings.warn(\n",
            "train Epoch 20: 100%|██████████| 3836/3836 [02:21<00:00, 27.13it/s]\n",
            "val Epoch 20:   0%|          | 0/959 [00:00<?, ?it/s]c:\\Users\\swath\\anaconda3\\envs\\ml_env\\Lib\\site-packages\\torch_geometric\\data\\storage.py:452: UserWarning: Unable to accurately infer 'num_nodes' from the attribute set '{'i_indices', 'j_indices', 'edge_index'}'. Please explicitly set 'num_nodes' as an attribute of 'data' to suppress this warning\n",
            "  warnings.warn(\n",
            "val Epoch 20: 100%|██████████| 959/959 [00:30<00:00, 31.56it/s]\n",
            "test Epoch 20:   0%|          | 0/1199 [00:00<?, ?it/s]c:\\Users\\swath\\anaconda3\\envs\\ml_env\\Lib\\site-packages\\torch_geometric\\data\\storage.py:452: UserWarning: Unable to accurately infer 'num_nodes' from the attribute set '{'i_indices', 'j_indices', 'edge_index'}'. Please explicitly set 'num_nodes' as an attribute of 'data' to suppress this warning\n",
            "  warnings.warn(\n",
            "test Epoch 20: 100%|██████████| 1199/1199 [00:33<00:00, 35.29it/s]\n"
          ]
        },
        {
          "name": "stdout",
          "output_type": "stream",
          "text": [
            "\n",
            "#### Epoch time 206.1550s\n",
            "loss: 0.4186, acc: 0.8135, roc: 0.8909, f1: 0.8179, p: 0.7992, r: 0.8375, int-ap: 0.8753, ap: 0.8753\n",
            "#### Validation\n",
            "loss: 0.3868, acc: 0.8364, roc: 0.9119, f1: 0.8471, p: 0.7951, r: 0.9064, int-ap: 0.8959, ap: 0.8959\n",
            "#### Test\n",
            "loss: 0.3829, acc: 0.8383, roc: 0.9134, f1: 0.8486, p: 0.7976, r: 0.9066, int-ap: 0.8986, ap: 0.8986\n"
          ]
        },
        {
          "name": "stderr",
          "output_type": "stream",
          "text": [
            "train Epoch 21:   0%|          | 0/3836 [00:00<?, ?it/s]c:\\Users\\swath\\anaconda3\\envs\\ml_env\\Lib\\site-packages\\torch_geometric\\data\\storage.py:452: UserWarning: Unable to accurately infer 'num_nodes' from the attribute set '{'i_indices', 'j_indices', 'edge_index'}'. Please explicitly set 'num_nodes' as an attribute of 'data' to suppress this warning\n",
            "  warnings.warn(\n",
            "train Epoch 21: 100%|██████████| 3836/3836 [02:29<00:00, 25.67it/s]\n",
            "val Epoch 21:   0%|          | 0/959 [00:00<?, ?it/s]c:\\Users\\swath\\anaconda3\\envs\\ml_env\\Lib\\site-packages\\torch_geometric\\data\\storage.py:452: UserWarning: Unable to accurately infer 'num_nodes' from the attribute set '{'i_indices', 'j_indices', 'edge_index'}'. Please explicitly set 'num_nodes' as an attribute of 'data' to suppress this warning\n",
            "  warnings.warn(\n",
            "val Epoch 21: 100%|██████████| 959/959 [00:27<00:00, 34.54it/s]\n",
            "test Epoch 21:   0%|          | 0/1199 [00:00<?, ?it/s]c:\\Users\\swath\\anaconda3\\envs\\ml_env\\Lib\\site-packages\\torch_geometric\\data\\storage.py:452: UserWarning: Unable to accurately infer 'num_nodes' from the attribute set '{'i_indices', 'j_indices', 'edge_index'}'. Please explicitly set 'num_nodes' as an attribute of 'data' to suppress this warning\n",
            "  warnings.warn(\n",
            "test Epoch 21: 100%|██████████| 1199/1199 [00:34<00:00, 34.62it/s]\n"
          ]
        },
        {
          "name": "stdout",
          "output_type": "stream",
          "text": [
            "\n",
            "#### Epoch time 212.2090s\n",
            "loss: 0.4151, acc: 0.8159, roc: 0.8930, f1: 0.8203, p: 0.8011, r: 0.8405, int-ap: 0.8772, ap: 0.8772\n",
            "#### Validation\n",
            "loss: 0.3976, acc: 0.8350, roc: 0.9124, f1: 0.8485, p: 0.7843, r: 0.9242, int-ap: 0.8948, ap: 0.8948\n",
            "#### Test\n",
            "loss: 0.3933, acc: 0.8389, roc: 0.9143, f1: 0.8516, p: 0.7892, r: 0.9248, int-ap: 0.8978, ap: 0.8978\n"
          ]
        },
        {
          "name": "stderr",
          "output_type": "stream",
          "text": [
            "train Epoch 22:   0%|          | 0/3836 [00:00<?, ?it/s]c:\\Users\\swath\\anaconda3\\envs\\ml_env\\Lib\\site-packages\\torch_geometric\\data\\storage.py:452: UserWarning: Unable to accurately infer 'num_nodes' from the attribute set '{'i_indices', 'j_indices', 'edge_index'}'. Please explicitly set 'num_nodes' as an attribute of 'data' to suppress this warning\n",
            "  warnings.warn(\n",
            "train Epoch 22: 100%|██████████| 3836/3836 [02:30<00:00, 25.47it/s]\n",
            "val Epoch 22:   0%|          | 0/959 [00:00<?, ?it/s]c:\\Users\\swath\\anaconda3\\envs\\ml_env\\Lib\\site-packages\\torch_geometric\\data\\storage.py:452: UserWarning: Unable to accurately infer 'num_nodes' from the attribute set '{'i_indices', 'j_indices', 'edge_index'}'. Please explicitly set 'num_nodes' as an attribute of 'data' to suppress this warning\n",
            "  warnings.warn(\n",
            "val Epoch 22: 100%|██████████| 959/959 [00:30<00:00, 31.80it/s]\n",
            "test Epoch 22:   0%|          | 0/1199 [00:00<?, ?it/s]c:\\Users\\swath\\anaconda3\\envs\\ml_env\\Lib\\site-packages\\torch_geometric\\data\\storage.py:452: UserWarning: Unable to accurately infer 'num_nodes' from the attribute set '{'i_indices', 'j_indices', 'edge_index'}'. Please explicitly set 'num_nodes' as an attribute of 'data' to suppress this warning\n",
            "  warnings.warn(\n",
            "test Epoch 22: 100%|██████████| 1199/1199 [00:35<00:00, 33.46it/s]\n"
          ]
        },
        {
          "name": "stdout",
          "output_type": "stream",
          "text": [
            "\n",
            "#### Epoch time 216.9997s\n",
            "loss: 0.4111, acc: 0.8172, roc: 0.8948, f1: 0.8216, p: 0.8024, r: 0.8417, int-ap: 0.8797, ap: 0.8797\n",
            "#### Validation\n",
            "loss: 0.3840, acc: 0.8427, roc: 0.9155, f1: 0.8543, p: 0.7959, r: 0.9219, int-ap: 0.8977, ap: 0.8977\n",
            "#### Test\n",
            "loss: 0.3768, acc: 0.8446, roc: 0.9185, f1: 0.8557, p: 0.7986, r: 0.9215, int-ap: 0.9028, ap: 0.9028\n"
          ]
        },
        {
          "name": "stderr",
          "output_type": "stream",
          "text": [
            "train Epoch 23:   0%|          | 0/3836 [00:00<?, ?it/s]c:\\Users\\swath\\anaconda3\\envs\\ml_env\\Lib\\site-packages\\torch_geometric\\data\\storage.py:452: UserWarning: Unable to accurately infer 'num_nodes' from the attribute set '{'i_indices', 'j_indices', 'edge_index'}'. Please explicitly set 'num_nodes' as an attribute of 'data' to suppress this warning\n",
            "  warnings.warn(\n",
            "train Epoch 23: 100%|██████████| 3836/3836 [02:36<00:00, 24.51it/s]\n",
            "val Epoch 23:   0%|          | 0/959 [00:00<?, ?it/s]c:\\Users\\swath\\anaconda3\\envs\\ml_env\\Lib\\site-packages\\torch_geometric\\data\\storage.py:452: UserWarning: Unable to accurately infer 'num_nodes' from the attribute set '{'i_indices', 'j_indices', 'edge_index'}'. Please explicitly set 'num_nodes' as an attribute of 'data' to suppress this warning\n",
            "  warnings.warn(\n",
            "val Epoch 23: 100%|██████████| 959/959 [00:31<00:00, 30.67it/s]\n",
            "test Epoch 23:   0%|          | 0/1199 [00:00<?, ?it/s]c:\\Users\\swath\\anaconda3\\envs\\ml_env\\Lib\\site-packages\\torch_geometric\\data\\storage.py:452: UserWarning: Unable to accurately infer 'num_nodes' from the attribute set '{'i_indices', 'j_indices', 'edge_index'}'. Please explicitly set 'num_nodes' as an attribute of 'data' to suppress this warning\n",
            "  warnings.warn(\n",
            "test Epoch 23: 100%|██████████| 1199/1199 [00:36<00:00, 32.62it/s]\n"
          ]
        },
        {
          "name": "stdout",
          "output_type": "stream",
          "text": [
            "\n",
            "#### Epoch time 224.9896s\n",
            "loss: 0.4080, acc: 0.8198, roc: 0.8966, f1: 0.8242, p: 0.8044, r: 0.8449, int-ap: 0.8818, ap: 0.8818\n",
            "#### Validation\n",
            "loss: 0.3773, acc: 0.8418, roc: 0.9176, f1: 0.8531, p: 0.7959, r: 0.9192, int-ap: 0.9026, ap: 0.9026\n",
            "#### Test\n",
            "loss: 0.3745, acc: 0.8445, roc: 0.9190, f1: 0.8551, p: 0.8004, r: 0.9179, int-ap: 0.9047, ap: 0.9046\n"
          ]
        },
        {
          "name": "stderr",
          "output_type": "stream",
          "text": [
            "train Epoch 24:   0%|          | 0/3836 [00:00<?, ?it/s]c:\\Users\\swath\\anaconda3\\envs\\ml_env\\Lib\\site-packages\\torch_geometric\\data\\storage.py:452: UserWarning: Unable to accurately infer 'num_nodes' from the attribute set '{'i_indices', 'j_indices', 'edge_index'}'. Please explicitly set 'num_nodes' as an attribute of 'data' to suppress this warning\n",
            "  warnings.warn(\n",
            "train Epoch 24: 100%|██████████| 3836/3836 [02:30<00:00, 25.49it/s]\n",
            "val Epoch 24:   0%|          | 0/959 [00:00<?, ?it/s]c:\\Users\\swath\\anaconda3\\envs\\ml_env\\Lib\\site-packages\\torch_geometric\\data\\storage.py:452: UserWarning: Unable to accurately infer 'num_nodes' from the attribute set '{'i_indices', 'j_indices', 'edge_index'}'. Please explicitly set 'num_nodes' as an attribute of 'data' to suppress this warning\n",
            "  warnings.warn(\n",
            "val Epoch 24: 100%|██████████| 959/959 [00:25<00:00, 37.04it/s]\n",
            "test Epoch 24:   0%|          | 0/1199 [00:00<?, ?it/s]c:\\Users\\swath\\anaconda3\\envs\\ml_env\\Lib\\site-packages\\torch_geometric\\data\\storage.py:452: UserWarning: Unable to accurately infer 'num_nodes' from the attribute set '{'i_indices', 'j_indices', 'edge_index'}'. Please explicitly set 'num_nodes' as an attribute of 'data' to suppress this warning\n",
            "  warnings.warn(\n",
            "test Epoch 24: 100%|██████████| 1199/1199 [00:33<00:00, 36.13it/s]\n"
          ]
        },
        {
          "name": "stdout",
          "output_type": "stream",
          "text": [
            "\n",
            "#### Epoch time 210.0152s\n",
            "loss: 0.4043, acc: 0.8210, roc: 0.8983, f1: 0.8253, p: 0.8058, r: 0.8458, int-ap: 0.8837, ap: 0.8837\n",
            "#### Validation\n",
            "loss: 0.3781, acc: 0.8426, roc: 0.9174, f1: 0.8539, p: 0.7971, r: 0.9193, int-ap: 0.9003, ap: 0.9003\n",
            "#### Test\n",
            "loss: 0.3724, acc: 0.8456, roc: 0.9200, f1: 0.8561, p: 0.8017, r: 0.9183, int-ap: 0.9046, ap: 0.9045\n"
          ]
        },
        {
          "name": "stderr",
          "output_type": "stream",
          "text": [
            "train Epoch 25:   0%|          | 0/3836 [00:00<?, ?it/s]c:\\Users\\swath\\anaconda3\\envs\\ml_env\\Lib\\site-packages\\torch_geometric\\data\\storage.py:452: UserWarning: Unable to accurately infer 'num_nodes' from the attribute set '{'i_indices', 'j_indices', 'edge_index'}'. Please explicitly set 'num_nodes' as an attribute of 'data' to suppress this warning\n",
            "  warnings.warn(\n",
            "train Epoch 25: 100%|██████████| 3836/3836 [02:23<00:00, 26.71it/s]\n",
            "val Epoch 25:   0%|          | 0/959 [00:00<?, ?it/s]c:\\Users\\swath\\anaconda3\\envs\\ml_env\\Lib\\site-packages\\torch_geometric\\data\\storage.py:452: UserWarning: Unable to accurately infer 'num_nodes' from the attribute set '{'i_indices', 'j_indices', 'edge_index'}'. Please explicitly set 'num_nodes' as an attribute of 'data' to suppress this warning\n",
            "  warnings.warn(\n",
            "val Epoch 25: 100%|██████████| 959/959 [00:28<00:00, 33.69it/s]\n",
            "test Epoch 25:   0%|          | 0/1199 [00:00<?, ?it/s]c:\\Users\\swath\\anaconda3\\envs\\ml_env\\Lib\\site-packages\\torch_geometric\\data\\storage.py:452: UserWarning: Unable to accurately infer 'num_nodes' from the attribute set '{'i_indices', 'j_indices', 'edge_index'}'. Please explicitly set 'num_nodes' as an attribute of 'data' to suppress this warning\n",
            "  warnings.warn(\n",
            "test Epoch 25: 100%|██████████| 1199/1199 [00:35<00:00, 33.89it/s]\n"
          ]
        },
        {
          "name": "stdout",
          "output_type": "stream",
          "text": [
            "\n",
            "#### Epoch time 207.9393s\n",
            "loss: 0.4011, acc: 0.8231, roc: 0.9002, f1: 0.8272, p: 0.8084, r: 0.8469, int-ap: 0.8856, ap: 0.8856\n",
            "#### Validation\n",
            "loss: 0.3822, acc: 0.8423, roc: 0.9199, f1: 0.8551, p: 0.7908, r: 0.9308, int-ap: 0.9050, ap: 0.9050\n",
            "#### Test\n",
            "loss: 0.3761, acc: 0.8458, roc: 0.9225, f1: 0.8579, p: 0.7955, r: 0.9308, int-ap: 0.9086, ap: 0.9085\n"
          ]
        },
        {
          "name": "stderr",
          "output_type": "stream",
          "text": [
            "train Epoch 26:   0%|          | 0/3836 [00:00<?, ?it/s]c:\\Users\\swath\\anaconda3\\envs\\ml_env\\Lib\\site-packages\\torch_geometric\\data\\storage.py:452: UserWarning: Unable to accurately infer 'num_nodes' from the attribute set '{'i_indices', 'j_indices', 'edge_index'}'. Please explicitly set 'num_nodes' as an attribute of 'data' to suppress this warning\n",
            "  warnings.warn(\n",
            "train Epoch 26: 100%|██████████| 3836/3836 [02:37<00:00, 24.32it/s]\n",
            "val Epoch 26:   0%|          | 0/959 [00:00<?, ?it/s]c:\\Users\\swath\\anaconda3\\envs\\ml_env\\Lib\\site-packages\\torch_geometric\\data\\storage.py:452: UserWarning: Unable to accurately infer 'num_nodes' from the attribute set '{'i_indices', 'j_indices', 'edge_index'}'. Please explicitly set 'num_nodes' as an attribute of 'data' to suppress this warning\n",
            "  warnings.warn(\n",
            "val Epoch 26: 100%|██████████| 959/959 [00:28<00:00, 34.17it/s]\n",
            "test Epoch 26:   0%|          | 0/1199 [00:00<?, ?it/s]c:\\Users\\swath\\anaconda3\\envs\\ml_env\\Lib\\site-packages\\torch_geometric\\data\\storage.py:452: UserWarning: Unable to accurately infer 'num_nodes' from the attribute set '{'i_indices', 'j_indices', 'edge_index'}'. Please explicitly set 'num_nodes' as an attribute of 'data' to suppress this warning\n",
            "  warnings.warn(\n",
            "test Epoch 26: 100%|██████████| 1199/1199 [00:35<00:00, 34.12it/s]\n"
          ]
        },
        {
          "name": "stdout",
          "output_type": "stream",
          "text": [
            "\n",
            "#### Epoch time 221.3518s\n",
            "loss: 0.3993, acc: 0.8242, roc: 0.9012, f1: 0.8285, p: 0.8088, r: 0.8493, int-ap: 0.8867, ap: 0.8867\n",
            "#### Validation\n",
            "loss: 0.3686, acc: 0.8486, roc: 0.9226, f1: 0.8592, p: 0.8031, r: 0.9238, int-ap: 0.9078, ap: 0.9078\n",
            "#### Test\n",
            "loss: 0.3644, acc: 0.8496, roc: 0.9244, f1: 0.8598, p: 0.8052, r: 0.9223, int-ap: 0.9114, ap: 0.9114\n"
          ]
        },
        {
          "name": "stderr",
          "output_type": "stream",
          "text": [
            "train Epoch 27:   0%|          | 0/3836 [00:00<?, ?it/s]c:\\Users\\swath\\anaconda3\\envs\\ml_env\\Lib\\site-packages\\torch_geometric\\data\\storage.py:452: UserWarning: Unable to accurately infer 'num_nodes' from the attribute set '{'i_indices', 'j_indices', 'edge_index'}'. Please explicitly set 'num_nodes' as an attribute of 'data' to suppress this warning\n",
            "  warnings.warn(\n",
            "train Epoch 27: 100%|██████████| 3836/3836 [02:25<00:00, 26.38it/s]\n",
            "val Epoch 27:   0%|          | 0/959 [00:00<?, ?it/s]c:\\Users\\swath\\anaconda3\\envs\\ml_env\\Lib\\site-packages\\torch_geometric\\data\\storage.py:452: UserWarning: Unable to accurately infer 'num_nodes' from the attribute set '{'i_indices', 'j_indices', 'edge_index'}'. Please explicitly set 'num_nodes' as an attribute of 'data' to suppress this warning\n",
            "  warnings.warn(\n",
            "val Epoch 27: 100%|██████████| 959/959 [00:26<00:00, 35.66it/s]\n",
            "test Epoch 27:   0%|          | 0/1199 [00:00<?, ?it/s]c:\\Users\\swath\\anaconda3\\envs\\ml_env\\Lib\\site-packages\\torch_geometric\\data\\storage.py:452: UserWarning: Unable to accurately infer 'num_nodes' from the attribute set '{'i_indices', 'j_indices', 'edge_index'}'. Please explicitly set 'num_nodes' as an attribute of 'data' to suppress this warning\n",
            "  warnings.warn(\n",
            "test Epoch 27: 100%|██████████| 1199/1199 [00:35<00:00, 34.04it/s]\n"
          ]
        },
        {
          "name": "stdout",
          "output_type": "stream",
          "text": [
            "\n",
            "#### Epoch time 207.8829s\n",
            "loss: 0.3950, acc: 0.8260, roc: 0.9033, f1: 0.8302, p: 0.8106, r: 0.8507, int-ap: 0.8894, ap: 0.8894\n",
            "#### Validation\n",
            "loss: 0.3834, acc: 0.8427, roc: 0.9210, f1: 0.8561, p: 0.7888, r: 0.9358, int-ap: 0.9053, ap: 0.9053\n",
            "#### Test\n",
            "loss: 0.3749, acc: 0.8442, roc: 0.9237, f1: 0.8569, p: 0.7921, r: 0.9332, int-ap: 0.9102, ap: 0.9102\n"
          ]
        },
        {
          "name": "stderr",
          "output_type": "stream",
          "text": [
            "train Epoch 28:   0%|          | 0/3836 [00:00<?, ?it/s]c:\\Users\\swath\\anaconda3\\envs\\ml_env\\Lib\\site-packages\\torch_geometric\\data\\storage.py:452: UserWarning: Unable to accurately infer 'num_nodes' from the attribute set '{'i_indices', 'j_indices', 'edge_index'}'. Please explicitly set 'num_nodes' as an attribute of 'data' to suppress this warning\n",
            "  warnings.warn(\n",
            "train Epoch 28: 100%|██████████| 3836/3836 [02:26<00:00, 26.11it/s]\n",
            "val Epoch 28:   0%|          | 0/959 [00:00<?, ?it/s]c:\\Users\\swath\\anaconda3\\envs\\ml_env\\Lib\\site-packages\\torch_geometric\\data\\storage.py:452: UserWarning: Unable to accurately infer 'num_nodes' from the attribute set '{'i_indices', 'j_indices', 'edge_index'}'. Please explicitly set 'num_nodes' as an attribute of 'data' to suppress this warning\n",
            "  warnings.warn(\n",
            "val Epoch 28: 100%|██████████| 959/959 [00:27<00:00, 35.51it/s]\n",
            "test Epoch 28:   0%|          | 0/1199 [00:00<?, ?it/s]c:\\Users\\swath\\anaconda3\\envs\\ml_env\\Lib\\site-packages\\torch_geometric\\data\\storage.py:452: UserWarning: Unable to accurately infer 'num_nodes' from the attribute set '{'i_indices', 'j_indices', 'edge_index'}'. Please explicitly set 'num_nodes' as an attribute of 'data' to suppress this warning\n",
            "  warnings.warn(\n",
            "test Epoch 28: 100%|██████████| 1199/1199 [00:33<00:00, 35.30it/s]\n"
          ]
        },
        {
          "name": "stdout",
          "output_type": "stream",
          "text": [
            "\n",
            "#### Epoch time 208.2356s\n",
            "loss: 0.3938, acc: 0.8266, roc: 0.9039, f1: 0.8308, p: 0.8113, r: 0.8513, int-ap: 0.8897, ap: 0.8897\n",
            "#### Validation\n",
            "loss: 0.3669, acc: 0.8495, roc: 0.9223, f1: 0.8591, p: 0.8077, r: 0.9175, int-ap: 0.9075, ap: 0.9075\n",
            "#### Test\n",
            "loss: 0.3624, acc: 0.8509, roc: 0.9241, f1: 0.8601, p: 0.8101, r: 0.9165, int-ap: 0.9107, ap: 0.9107\n"
          ]
        },
        {
          "name": "stderr",
          "output_type": "stream",
          "text": [
            "train Epoch 29:   0%|          | 0/3836 [00:00<?, ?it/s]c:\\Users\\swath\\anaconda3\\envs\\ml_env\\Lib\\site-packages\\torch_geometric\\data\\storage.py:452: UserWarning: Unable to accurately infer 'num_nodes' from the attribute set '{'i_indices', 'j_indices', 'edge_index'}'. Please explicitly set 'num_nodes' as an attribute of 'data' to suppress this warning\n",
            "  warnings.warn(\n",
            "train Epoch 29: 100%|██████████| 3836/3836 [02:21<00:00, 27.08it/s]\n",
            "val Epoch 29:   0%|          | 0/959 [00:00<?, ?it/s]c:\\Users\\swath\\anaconda3\\envs\\ml_env\\Lib\\site-packages\\torch_geometric\\data\\storage.py:452: UserWarning: Unable to accurately infer 'num_nodes' from the attribute set '{'i_indices', 'j_indices', 'edge_index'}'. Please explicitly set 'num_nodes' as an attribute of 'data' to suppress this warning\n",
            "  warnings.warn(\n",
            "val Epoch 29: 100%|██████████| 959/959 [00:28<00:00, 34.13it/s]\n",
            "test Epoch 29:   0%|          | 0/1199 [00:00<?, ?it/s]c:\\Users\\swath\\anaconda3\\envs\\ml_env\\Lib\\site-packages\\torch_geometric\\data\\storage.py:452: UserWarning: Unable to accurately infer 'num_nodes' from the attribute set '{'i_indices', 'j_indices', 'edge_index'}'. Please explicitly set 'num_nodes' as an attribute of 'data' to suppress this warning\n",
            "  warnings.warn(\n",
            "test Epoch 29: 100%|██████████| 1199/1199 [00:37<00:00, 31.93it/s]\n"
          ]
        },
        {
          "name": "stdout",
          "output_type": "stream",
          "text": [
            "\n",
            "#### Epoch time 207.7520s\n",
            "loss: 0.3901, acc: 0.8292, roc: 0.9056, f1: 0.8333, p: 0.8139, r: 0.8536, int-ap: 0.8913, ap: 0.8913\n",
            "#### Validation\n",
            "loss: 0.3695, acc: 0.8499, roc: 0.9242, f1: 0.8610, p: 0.8014, r: 0.9302, int-ap: 0.9095, ap: 0.9095\n",
            "#### Test\n",
            "loss: 0.3616, acc: 0.8538, roc: 0.9269, f1: 0.8642, p: 0.8071, r: 0.9298, int-ap: 0.9140, ap: 0.9140\n"
          ]
        },
        {
          "name": "stderr",
          "output_type": "stream",
          "text": [
            "train Epoch 30:   0%|          | 0/3836 [00:00<?, ?it/s]c:\\Users\\swath\\anaconda3\\envs\\ml_env\\Lib\\site-packages\\torch_geometric\\data\\storage.py:452: UserWarning: Unable to accurately infer 'num_nodes' from the attribute set '{'i_indices', 'j_indices', 'edge_index'}'. Please explicitly set 'num_nodes' as an attribute of 'data' to suppress this warning\n",
            "  warnings.warn(\n",
            "train Epoch 30: 100%|██████████| 3836/3836 [02:41<00:00, 23.79it/s]\n",
            "val Epoch 30:   0%|          | 0/959 [00:00<?, ?it/s]c:\\Users\\swath\\anaconda3\\envs\\ml_env\\Lib\\site-packages\\torch_geometric\\data\\storage.py:452: UserWarning: Unable to accurately infer 'num_nodes' from the attribute set '{'i_indices', 'j_indices', 'edge_index'}'. Please explicitly set 'num_nodes' as an attribute of 'data' to suppress this warning\n",
            "  warnings.warn(\n",
            "val Epoch 30: 100%|██████████| 959/959 [00:28<00:00, 33.69it/s]\n",
            "test Epoch 30:   0%|          | 0/1199 [00:00<?, ?it/s]c:\\Users\\swath\\anaconda3\\envs\\ml_env\\Lib\\site-packages\\torch_geometric\\data\\storage.py:452: UserWarning: Unable to accurately infer 'num_nodes' from the attribute set '{'i_indices', 'j_indices', 'edge_index'}'. Please explicitly set 'num_nodes' as an attribute of 'data' to suppress this warning\n",
            "  warnings.warn(\n",
            "test Epoch 30: 100%|██████████| 1199/1199 [00:36<00:00, 33.12it/s]\n"
          ]
        },
        {
          "name": "stdout",
          "output_type": "stream",
          "text": [
            "\n",
            "#### Epoch time 226.2612s\n",
            "loss: 0.3872, acc: 0.8312, roc: 0.9071, f1: 0.8352, p: 0.8159, r: 0.8554, int-ap: 0.8932, ap: 0.8932\n",
            "#### Validation\n",
            "loss: 0.3607, acc: 0.8535, roc: 0.9248, f1: 0.8629, p: 0.8110, r: 0.9219, int-ap: 0.9091, ap: 0.9091\n",
            "#### Test\n",
            "loss: 0.3555, acc: 0.8563, roc: 0.9271, f1: 0.8651, p: 0.8151, r: 0.9217, int-ap: 0.9126, ap: 0.9125\n"
          ]
        },
        {
          "name": "stderr",
          "output_type": "stream",
          "text": [
            "train Epoch 31:   0%|          | 0/3836 [00:00<?, ?it/s]c:\\Users\\swath\\anaconda3\\envs\\ml_env\\Lib\\site-packages\\torch_geometric\\data\\storage.py:452: UserWarning: Unable to accurately infer 'num_nodes' from the attribute set '{'i_indices', 'j_indices', 'edge_index'}'. Please explicitly set 'num_nodes' as an attribute of 'data' to suppress this warning\n",
            "  warnings.warn(\n",
            "train Epoch 31: 100%|██████████| 3836/3836 [02:43<00:00, 23.43it/s]\n",
            "val Epoch 31:   0%|          | 0/959 [00:00<?, ?it/s]c:\\Users\\swath\\anaconda3\\envs\\ml_env\\Lib\\site-packages\\torch_geometric\\data\\storage.py:452: UserWarning: Unable to accurately infer 'num_nodes' from the attribute set '{'i_indices', 'j_indices', 'edge_index'}'. Please explicitly set 'num_nodes' as an attribute of 'data' to suppress this warning\n",
            "  warnings.warn(\n",
            "val Epoch 31: 100%|██████████| 959/959 [00:29<00:00, 32.66it/s]\n",
            "test Epoch 31:   0%|          | 0/1199 [00:00<?, ?it/s]c:\\Users\\swath\\anaconda3\\envs\\ml_env\\Lib\\site-packages\\torch_geometric\\data\\storage.py:452: UserWarning: Unable to accurately infer 'num_nodes' from the attribute set '{'i_indices', 'j_indices', 'edge_index'}'. Please explicitly set 'num_nodes' as an attribute of 'data' to suppress this warning\n",
            "  warnings.warn(\n",
            "test Epoch 31: 100%|██████████| 1199/1199 [00:37<00:00, 32.40it/s]\n"
          ]
        },
        {
          "name": "stdout",
          "output_type": "stream",
          "text": [
            "\n",
            "#### Epoch time 230.5704s\n",
            "loss: 0.3859, acc: 0.8315, roc: 0.9080, f1: 0.8356, p: 0.8157, r: 0.8565, int-ap: 0.8941, ap: 0.8941\n",
            "#### Validation\n",
            "loss: 0.3573, acc: 0.8554, roc: 0.9265, f1: 0.8648, p: 0.8119, r: 0.9250, int-ap: 0.9119, ap: 0.9119\n",
            "#### Test\n",
            "loss: 0.3520, acc: 0.8559, roc: 0.9288, f1: 0.8649, p: 0.8142, r: 0.9223, int-ap: 0.9158, ap: 0.9157\n"
          ]
        },
        {
          "name": "stderr",
          "output_type": "stream",
          "text": [
            "train Epoch 32:   0%|          | 0/3836 [00:00<?, ?it/s]c:\\Users\\swath\\anaconda3\\envs\\ml_env\\Lib\\site-packages\\torch_geometric\\data\\storage.py:452: UserWarning: Unable to accurately infer 'num_nodes' from the attribute set '{'i_indices', 'j_indices', 'edge_index'}'. Please explicitly set 'num_nodes' as an attribute of 'data' to suppress this warning\n",
            "  warnings.warn(\n",
            "train Epoch 32: 100%|██████████| 3836/3836 [02:38<00:00, 24.25it/s]\n",
            "val Epoch 32:   0%|          | 0/959 [00:00<?, ?it/s]c:\\Users\\swath\\anaconda3\\envs\\ml_env\\Lib\\site-packages\\torch_geometric\\data\\storage.py:452: UserWarning: Unable to accurately infer 'num_nodes' from the attribute set '{'i_indices', 'j_indices', 'edge_index'}'. Please explicitly set 'num_nodes' as an attribute of 'data' to suppress this warning\n",
            "  warnings.warn(\n",
            "val Epoch 32: 100%|██████████| 959/959 [00:28<00:00, 33.20it/s]\n",
            "test Epoch 32:   0%|          | 0/1199 [00:00<?, ?it/s]c:\\Users\\swath\\anaconda3\\envs\\ml_env\\Lib\\site-packages\\torch_geometric\\data\\storage.py:452: UserWarning: Unable to accurately infer 'num_nodes' from the attribute set '{'i_indices', 'j_indices', 'edge_index'}'. Please explicitly set 'num_nodes' as an attribute of 'data' to suppress this warning\n",
            "  warnings.warn(\n",
            "test Epoch 32: 100%|██████████| 1199/1199 [00:38<00:00, 31.13it/s]\n"
          ]
        },
        {
          "name": "stdout",
          "output_type": "stream",
          "text": [
            "\n",
            "#### Epoch time 225.9904s\n",
            "loss: 0.3834, acc: 0.8328, roc: 0.9089, f1: 0.8367, p: 0.8176, r: 0.8567, int-ap: 0.8952, ap: 0.8952\n",
            "#### Validation\n",
            "loss: 0.3605, acc: 0.8536, roc: 0.9254, f1: 0.8630, p: 0.8109, r: 0.9224, int-ap: 0.9112, ap: 0.9111\n",
            "#### Test\n",
            "loss: 0.3518, acc: 0.8574, roc: 0.9290, f1: 0.8662, p: 0.8159, r: 0.9230, int-ap: 0.9164, ap: 0.9164\n"
          ]
        },
        {
          "name": "stderr",
          "output_type": "stream",
          "text": [
            "train Epoch 33:   0%|          | 0/3836 [00:00<?, ?it/s]c:\\Users\\swath\\anaconda3\\envs\\ml_env\\Lib\\site-packages\\torch_geometric\\data\\storage.py:452: UserWarning: Unable to accurately infer 'num_nodes' from the attribute set '{'i_indices', 'j_indices', 'edge_index'}'. Please explicitly set 'num_nodes' as an attribute of 'data' to suppress this warning\n",
            "  warnings.warn(\n",
            "train Epoch 33: 100%|██████████| 3836/3836 [02:40<00:00, 23.97it/s]\n",
            "val Epoch 33:   0%|          | 0/959 [00:00<?, ?it/s]c:\\Users\\swath\\anaconda3\\envs\\ml_env\\Lib\\site-packages\\torch_geometric\\data\\storage.py:452: UserWarning: Unable to accurately infer 'num_nodes' from the attribute set '{'i_indices', 'j_indices', 'edge_index'}'. Please explicitly set 'num_nodes' as an attribute of 'data' to suppress this warning\n",
            "  warnings.warn(\n",
            "val Epoch 33: 100%|██████████| 959/959 [00:29<00:00, 33.07it/s]\n",
            "test Epoch 33:   0%|          | 0/1199 [00:00<?, ?it/s]c:\\Users\\swath\\anaconda3\\envs\\ml_env\\Lib\\site-packages\\torch_geometric\\data\\storage.py:452: UserWarning: Unable to accurately infer 'num_nodes' from the attribute set '{'i_indices', 'j_indices', 'edge_index'}'. Please explicitly set 'num_nodes' as an attribute of 'data' to suppress this warning\n",
            "  warnings.warn(\n",
            "test Epoch 33: 100%|██████████| 1199/1199 [00:35<00:00, 33.43it/s]\n"
          ]
        },
        {
          "name": "stdout",
          "output_type": "stream",
          "text": [
            "\n",
            "#### Epoch time 225.2697s\n",
            "loss: 0.3821, acc: 0.8338, roc: 0.9098, f1: 0.8378, p: 0.8184, r: 0.8581, int-ap: 0.8966, ap: 0.8966\n",
            "#### Validation\n",
            "loss: 0.3664, acc: 0.8527, roc: 0.9267, f1: 0.8639, p: 0.8030, r: 0.9348, int-ap: 0.9115, ap: 0.9115\n",
            "#### Test\n",
            "loss: 0.3583, acc: 0.8548, roc: 0.9296, f1: 0.8655, p: 0.8062, r: 0.9343, int-ap: 0.9164, ap: 0.9164\n"
          ]
        },
        {
          "name": "stderr",
          "output_type": "stream",
          "text": [
            "train Epoch 34:   0%|          | 0/3836 [00:00<?, ?it/s]c:\\Users\\swath\\anaconda3\\envs\\ml_env\\Lib\\site-packages\\torch_geometric\\data\\storage.py:452: UserWarning: Unable to accurately infer 'num_nodes' from the attribute set '{'i_indices', 'j_indices', 'edge_index'}'. Please explicitly set 'num_nodes' as an attribute of 'data' to suppress this warning\n",
            "  warnings.warn(\n",
            "train Epoch 34: 100%|██████████| 3836/3836 [02:44<00:00, 23.38it/s]\n",
            "val Epoch 34:   0%|          | 0/959 [00:00<?, ?it/s]c:\\Users\\swath\\anaconda3\\envs\\ml_env\\Lib\\site-packages\\torch_geometric\\data\\storage.py:452: UserWarning: Unable to accurately infer 'num_nodes' from the attribute set '{'i_indices', 'j_indices', 'edge_index'}'. Please explicitly set 'num_nodes' as an attribute of 'data' to suppress this warning\n",
            "  warnings.warn(\n",
            "val Epoch 34: 100%|██████████| 959/959 [00:28<00:00, 33.24it/s]\n",
            "test Epoch 34:   0%|          | 0/1199 [00:00<?, ?it/s]c:\\Users\\swath\\anaconda3\\envs\\ml_env\\Lib\\site-packages\\torch_geometric\\data\\storage.py:452: UserWarning: Unable to accurately infer 'num_nodes' from the attribute set '{'i_indices', 'j_indices', 'edge_index'}'. Please explicitly set 'num_nodes' as an attribute of 'data' to suppress this warning\n",
            "  warnings.warn(\n",
            "test Epoch 34: 100%|██████████| 1199/1199 [00:36<00:00, 32.51it/s]\n"
          ]
        },
        {
          "name": "stdout",
          "output_type": "stream",
          "text": [
            "\n",
            "#### Epoch time 230.2298s\n",
            "loss: 0.3791, acc: 0.8349, roc: 0.9111, f1: 0.8387, p: 0.8197, r: 0.8587, int-ap: 0.8979, ap: 0.8979\n",
            "#### Validation\n",
            "loss: 0.3528, acc: 0.8579, roc: 0.9285, f1: 0.8666, p: 0.8165, r: 0.9234, int-ap: 0.9140, ap: 0.9140\n",
            "#### Test\n",
            "loss: 0.3457, acc: 0.8599, roc: 0.9311, f1: 0.8682, p: 0.8196, r: 0.9230, int-ap: 0.9186, ap: 0.9185\n"
          ]
        },
        {
          "name": "stderr",
          "output_type": "stream",
          "text": [
            "train Epoch 35:   0%|          | 0/3836 [00:00<?, ?it/s]c:\\Users\\swath\\anaconda3\\envs\\ml_env\\Lib\\site-packages\\torch_geometric\\data\\storage.py:452: UserWarning: Unable to accurately infer 'num_nodes' from the attribute set '{'i_indices', 'j_indices', 'edge_index'}'. Please explicitly set 'num_nodes' as an attribute of 'data' to suppress this warning\n",
            "  warnings.warn(\n",
            "train Epoch 35: 100%|██████████| 3836/3836 [02:43<00:00, 23.53it/s]\n",
            "val Epoch 35:   0%|          | 0/959 [00:00<?, ?it/s]c:\\Users\\swath\\anaconda3\\envs\\ml_env\\Lib\\site-packages\\torch_geometric\\data\\storage.py:452: UserWarning: Unable to accurately infer 'num_nodes' from the attribute set '{'i_indices', 'j_indices', 'edge_index'}'. Please explicitly set 'num_nodes' as an attribute of 'data' to suppress this warning\n",
            "  warnings.warn(\n",
            "val Epoch 35: 100%|██████████| 959/959 [00:27<00:00, 35.19it/s]\n",
            "test Epoch 35:   0%|          | 0/1199 [00:00<?, ?it/s]c:\\Users\\swath\\anaconda3\\envs\\ml_env\\Lib\\site-packages\\torch_geometric\\data\\storage.py:452: UserWarning: Unable to accurately infer 'num_nodes' from the attribute set '{'i_indices', 'j_indices', 'edge_index'}'. Please explicitly set 'num_nodes' as an attribute of 'data' to suppress this warning\n",
            "  warnings.warn(\n",
            "test Epoch 35: 100%|██████████| 1199/1199 [00:31<00:00, 37.94it/s]\n"
          ]
        },
        {
          "name": "stdout",
          "output_type": "stream",
          "text": [
            "\n",
            "#### Epoch time 222.2998s\n",
            "loss: 0.3778, acc: 0.8358, roc: 0.9117, f1: 0.8398, p: 0.8200, r: 0.8606, int-ap: 0.8987, ap: 0.8987\n",
            "#### Validation\n",
            "loss: 0.3482, acc: 0.8605, roc: 0.9315, f1: 0.8698, p: 0.8155, r: 0.9319, int-ap: 0.9176, ap: 0.9176\n",
            "#### Test\n",
            "loss: 0.3436, acc: 0.8629, roc: 0.9334, f1: 0.8717, p: 0.8190, r: 0.9315, int-ap: 0.9207, ap: 0.9207\n"
          ]
        },
        {
          "name": "stderr",
          "output_type": "stream",
          "text": [
            "train Epoch 36:   0%|          | 0/3836 [00:00<?, ?it/s]c:\\Users\\swath\\anaconda3\\envs\\ml_env\\Lib\\site-packages\\torch_geometric\\data\\storage.py:452: UserWarning: Unable to accurately infer 'num_nodes' from the attribute set '{'i_indices', 'j_indices', 'edge_index'}'. Please explicitly set 'num_nodes' as an attribute of 'data' to suppress this warning\n",
            "  warnings.warn(\n",
            "train Epoch 36: 100%|██████████| 3836/3836 [02:17<00:00, 27.81it/s]\n",
            "val Epoch 36:   0%|          | 0/959 [00:00<?, ?it/s]c:\\Users\\swath\\anaconda3\\envs\\ml_env\\Lib\\site-packages\\torch_geometric\\data\\storage.py:452: UserWarning: Unable to accurately infer 'num_nodes' from the attribute set '{'i_indices', 'j_indices', 'edge_index'}'. Please explicitly set 'num_nodes' as an attribute of 'data' to suppress this warning\n",
            "  warnings.warn(\n",
            "val Epoch 36: 100%|██████████| 959/959 [00:27<00:00, 35.12it/s]\n",
            "test Epoch 36:   0%|          | 0/1199 [00:00<?, ?it/s]c:\\Users\\swath\\anaconda3\\envs\\ml_env\\Lib\\site-packages\\torch_geometric\\data\\storage.py:452: UserWarning: Unable to accurately infer 'num_nodes' from the attribute set '{'i_indices', 'j_indices', 'edge_index'}'. Please explicitly set 'num_nodes' as an attribute of 'data' to suppress this warning\n",
            "  warnings.warn(\n",
            "test Epoch 36: 100%|██████████| 1199/1199 [00:34<00:00, 35.20it/s]\n"
          ]
        },
        {
          "name": "stdout",
          "output_type": "stream",
          "text": [
            "\n",
            "#### Epoch time 199.6618s\n",
            "loss: 0.3749, acc: 0.8381, roc: 0.9130, f1: 0.8420, p: 0.8218, r: 0.8633, int-ap: 0.8995, ap: 0.8995\n",
            "#### Validation\n",
            "loss: 0.3599, acc: 0.8558, roc: 0.9295, f1: 0.8672, p: 0.8039, r: 0.9413, int-ap: 0.9133, ap: 0.9133\n",
            "#### Test\n",
            "loss: 0.3525, acc: 0.8592, roc: 0.9321, f1: 0.8699, p: 0.8084, r: 0.9416, int-ap: 0.9181, ap: 0.9181\n"
          ]
        },
        {
          "name": "stderr",
          "output_type": "stream",
          "text": [
            "train Epoch 37:   0%|          | 0/3836 [00:00<?, ?it/s]c:\\Users\\swath\\anaconda3\\envs\\ml_env\\Lib\\site-packages\\torch_geometric\\data\\storage.py:452: UserWarning: Unable to accurately infer 'num_nodes' from the attribute set '{'i_indices', 'j_indices', 'edge_index'}'. Please explicitly set 'num_nodes' as an attribute of 'data' to suppress this warning\n",
            "  warnings.warn(\n",
            "train Epoch 37: 100%|██████████| 3836/3836 [02:26<00:00, 26.27it/s]\n",
            "val Epoch 37:   0%|          | 0/959 [00:00<?, ?it/s]c:\\Users\\swath\\anaconda3\\envs\\ml_env\\Lib\\site-packages\\torch_geometric\\data\\storage.py:452: UserWarning: Unable to accurately infer 'num_nodes' from the attribute set '{'i_indices', 'j_indices', 'edge_index'}'. Please explicitly set 'num_nodes' as an attribute of 'data' to suppress this warning\n",
            "  warnings.warn(\n",
            "val Epoch 37: 100%|██████████| 959/959 [00:26<00:00, 36.78it/s]\n",
            "test Epoch 37:   0%|          | 0/1199 [00:00<?, ?it/s]c:\\Users\\swath\\anaconda3\\envs\\ml_env\\Lib\\site-packages\\torch_geometric\\data\\storage.py:452: UserWarning: Unable to accurately infer 'num_nodes' from the attribute set '{'i_indices', 'j_indices', 'edge_index'}'. Please explicitly set 'num_nodes' as an attribute of 'data' to suppress this warning\n",
            "  warnings.warn(\n",
            "test Epoch 37: 100%|██████████| 1199/1199 [00:32<00:00, 36.98it/s]\n"
          ]
        },
        {
          "name": "stdout",
          "output_type": "stream",
          "text": [
            "\n",
            "#### Epoch time 204.9285s\n",
            "loss: 0.3734, acc: 0.8390, roc: 0.9138, f1: 0.8429, p: 0.8231, r: 0.8637, int-ap: 0.9008, ap: 0.9008\n",
            "#### Validation\n",
            "loss: 0.3557, acc: 0.8565, roc: 0.9307, f1: 0.8675, p: 0.8056, r: 0.9396, int-ap: 0.9164, ap: 0.9163\n",
            "#### Test\n",
            "loss: 0.3495, acc: 0.8585, roc: 0.9329, f1: 0.8688, p: 0.8095, r: 0.9375, int-ap: 0.9201, ap: 0.9201\n"
          ]
        },
        {
          "name": "stderr",
          "output_type": "stream",
          "text": [
            "train Epoch 38:   0%|          | 0/3836 [00:00<?, ?it/s]c:\\Users\\swath\\anaconda3\\envs\\ml_env\\Lib\\site-packages\\torch_geometric\\data\\storage.py:452: UserWarning: Unable to accurately infer 'num_nodes' from the attribute set '{'i_indices', 'j_indices', 'edge_index'}'. Please explicitly set 'num_nodes' as an attribute of 'data' to suppress this warning\n",
            "  warnings.warn(\n",
            "train Epoch 38: 100%|██████████| 3836/3836 [02:22<00:00, 27.01it/s]\n",
            "val Epoch 38:   0%|          | 0/959 [00:00<?, ?it/s]c:\\Users\\swath\\anaconda3\\envs\\ml_env\\Lib\\site-packages\\torch_geometric\\data\\storage.py:452: UserWarning: Unable to accurately infer 'num_nodes' from the attribute set '{'i_indices', 'j_indices', 'edge_index'}'. Please explicitly set 'num_nodes' as an attribute of 'data' to suppress this warning\n",
            "  warnings.warn(\n",
            "val Epoch 38: 100%|██████████| 959/959 [00:27<00:00, 35.01it/s]\n",
            "test Epoch 38:   0%|          | 0/1199 [00:00<?, ?it/s]c:\\Users\\swath\\anaconda3\\envs\\ml_env\\Lib\\site-packages\\torch_geometric\\data\\storage.py:452: UserWarning: Unable to accurately infer 'num_nodes' from the attribute set '{'i_indices', 'j_indices', 'edge_index'}'. Please explicitly set 'num_nodes' as an attribute of 'data' to suppress this warning\n",
            "  warnings.warn(\n",
            "test Epoch 38: 100%|██████████| 1199/1199 [00:36<00:00, 32.49it/s]\n"
          ]
        },
        {
          "name": "stdout",
          "output_type": "stream",
          "text": [
            "\n",
            "#### Epoch time 206.6884s\n",
            "loss: 0.3734, acc: 0.8394, roc: 0.9140, f1: 0.8433, p: 0.8235, r: 0.8640, int-ap: 0.9005, ap: 0.9005\n",
            "#### Validation\n",
            "loss: 0.3601, acc: 0.8567, roc: 0.9306, f1: 0.8679, p: 0.8050, r: 0.9414, int-ap: 0.9157, ap: 0.9157\n",
            "#### Test\n",
            "loss: 0.3534, acc: 0.8581, roc: 0.9327, f1: 0.8687, p: 0.8083, r: 0.9389, int-ap: 0.9194, ap: 0.9193\n"
          ]
        },
        {
          "name": "stderr",
          "output_type": "stream",
          "text": [
            "train Epoch 39:   0%|          | 0/3836 [00:00<?, ?it/s]c:\\Users\\swath\\anaconda3\\envs\\ml_env\\Lib\\site-packages\\torch_geometric\\data\\storage.py:452: UserWarning: Unable to accurately infer 'num_nodes' from the attribute set '{'i_indices', 'j_indices', 'edge_index'}'. Please explicitly set 'num_nodes' as an attribute of 'data' to suppress this warning\n",
            "  warnings.warn(\n",
            "train Epoch 39: 100%|██████████| 3836/3836 [02:22<00:00, 26.91it/s]\n",
            "val Epoch 39:   0%|          | 0/959 [00:00<?, ?it/s]c:\\Users\\swath\\anaconda3\\envs\\ml_env\\Lib\\site-packages\\torch_geometric\\data\\storage.py:452: UserWarning: Unable to accurately infer 'num_nodes' from the attribute set '{'i_indices', 'j_indices', 'edge_index'}'. Please explicitly set 'num_nodes' as an attribute of 'data' to suppress this warning\n",
            "  warnings.warn(\n",
            "val Epoch 39: 100%|██████████| 959/959 [00:25<00:00, 37.48it/s]\n",
            "test Epoch 39:   0%|          | 0/1199 [00:00<?, ?it/s]c:\\Users\\swath\\anaconda3\\envs\\ml_env\\Lib\\site-packages\\torch_geometric\\data\\storage.py:452: UserWarning: Unable to accurately infer 'num_nodes' from the attribute set '{'i_indices', 'j_indices', 'edge_index'}'. Please explicitly set 'num_nodes' as an attribute of 'data' to suppress this warning\n",
            "  warnings.warn(\n",
            "test Epoch 39: 100%|██████████| 1199/1199 [00:32<00:00, 36.82it/s]\n"
          ]
        },
        {
          "name": "stdout",
          "output_type": "stream",
          "text": [
            "\n",
            "#### Epoch time 201.0562s\n",
            "loss: 0.3693, acc: 0.8420, roc: 0.9157, f1: 0.8457, p: 0.8261, r: 0.8663, int-ap: 0.9031, ap: 0.9031\n",
            "#### Validation\n",
            "loss: 0.3552, acc: 0.8573, roc: 0.9319, f1: 0.8685, p: 0.8054, r: 0.9423, int-ap: 0.9181, ap: 0.9181\n",
            "#### Test\n",
            "loss: 0.3498, acc: 0.8593, roc: 0.9341, f1: 0.8700, p: 0.8084, r: 0.9417, int-ap: 0.9210, ap: 0.9209\n"
          ]
        },
        {
          "name": "stderr",
          "output_type": "stream",
          "text": [
            "train Epoch 40:   0%|          | 0/3836 [00:00<?, ?it/s]c:\\Users\\swath\\anaconda3\\envs\\ml_env\\Lib\\site-packages\\torch_geometric\\data\\storage.py:452: UserWarning: Unable to accurately infer 'num_nodes' from the attribute set '{'i_indices', 'j_indices', 'edge_index'}'. Please explicitly set 'num_nodes' as an attribute of 'data' to suppress this warning\n",
            "  warnings.warn(\n",
            "train Epoch 40: 100%|██████████| 3836/3836 [02:25<00:00, 26.45it/s]\n",
            "val Epoch 40:   0%|          | 0/959 [00:00<?, ?it/s]c:\\Users\\swath\\anaconda3\\envs\\ml_env\\Lib\\site-packages\\torch_geometric\\data\\storage.py:452: UserWarning: Unable to accurately infer 'num_nodes' from the attribute set '{'i_indices', 'j_indices', 'edge_index'}'. Please explicitly set 'num_nodes' as an attribute of 'data' to suppress this warning\n",
            "  warnings.warn(\n",
            "val Epoch 40: 100%|██████████| 959/959 [00:27<00:00, 35.48it/s]\n",
            "test Epoch 40:   0%|          | 0/1199 [00:00<?, ?it/s]c:\\Users\\swath\\anaconda3\\envs\\ml_env\\Lib\\site-packages\\torch_geometric\\data\\storage.py:452: UserWarning: Unable to accurately infer 'num_nodes' from the attribute set '{'i_indices', 'j_indices', 'edge_index'}'. Please explicitly set 'num_nodes' as an attribute of 'data' to suppress this warning\n",
            "  warnings.warn(\n",
            "test Epoch 40: 100%|██████████| 1199/1199 [00:34<00:00, 34.76it/s]\n"
          ]
        },
        {
          "name": "stdout",
          "output_type": "stream",
          "text": [
            "\n",
            "#### Epoch time 206.9392s\n",
            "loss: 0.3683, acc: 0.8416, roc: 0.9161, f1: 0.8453, p: 0.8262, r: 0.8652, int-ap: 0.9034, ap: 0.9034\n",
            "#### Validation\n",
            "loss: 0.3517, acc: 0.8608, roc: 0.9324, f1: 0.8705, p: 0.8141, r: 0.9353, int-ap: 0.9170, ap: 0.9169\n",
            "#### Test\n",
            "loss: 0.3445, acc: 0.8629, roc: 0.9345, f1: 0.8720, p: 0.8177, r: 0.9340, int-ap: 0.9206, ap: 0.9205\n"
          ]
        },
        {
          "name": "stderr",
          "output_type": "stream",
          "text": [
            "train Epoch 41:   0%|          | 0/3836 [00:00<?, ?it/s]c:\\Users\\swath\\anaconda3\\envs\\ml_env\\Lib\\site-packages\\torch_geometric\\data\\storage.py:452: UserWarning: Unable to accurately infer 'num_nodes' from the attribute set '{'i_indices', 'j_indices', 'edge_index'}'. Please explicitly set 'num_nodes' as an attribute of 'data' to suppress this warning\n",
            "  warnings.warn(\n",
            "train Epoch 41: 100%|██████████| 3836/3836 [02:26<00:00, 26.18it/s]\n",
            "val Epoch 41:   0%|          | 0/959 [00:00<?, ?it/s]c:\\Users\\swath\\anaconda3\\envs\\ml_env\\Lib\\site-packages\\torch_geometric\\data\\storage.py:452: UserWarning: Unable to accurately infer 'num_nodes' from the attribute set '{'i_indices', 'j_indices', 'edge_index'}'. Please explicitly set 'num_nodes' as an attribute of 'data' to suppress this warning\n",
            "  warnings.warn(\n",
            "val Epoch 41: 100%|██████████| 959/959 [00:28<00:00, 33.61it/s]\n",
            "test Epoch 41:   0%|          | 0/1199 [00:00<?, ?it/s]c:\\Users\\swath\\anaconda3\\envs\\ml_env\\Lib\\site-packages\\torch_geometric\\data\\storage.py:452: UserWarning: Unable to accurately infer 'num_nodes' from the attribute set '{'i_indices', 'j_indices', 'edge_index'}'. Please explicitly set 'num_nodes' as an attribute of 'data' to suppress this warning\n",
            "  warnings.warn(\n",
            "test Epoch 41: 100%|██████████| 1199/1199 [00:35<00:00, 33.42it/s]\n"
          ]
        },
        {
          "name": "stdout",
          "output_type": "stream",
          "text": [
            "\n",
            "#### Epoch time 211.2829s\n",
            "loss: 0.3665, acc: 0.8422, roc: 0.9170, f1: 0.8459, p: 0.8262, r: 0.8666, int-ap: 0.9043, ap: 0.9043\n",
            "#### Validation\n",
            "loss: 0.3530, acc: 0.8586, roc: 0.9333, f1: 0.8694, p: 0.8078, r: 0.9412, int-ap: 0.9191, ap: 0.9190\n",
            "#### Test\n",
            "loss: 0.3456, acc: 0.8607, roc: 0.9357, f1: 0.8710, p: 0.8113, r: 0.9401, int-ap: 0.9227, ap: 0.9227\n"
          ]
        },
        {
          "name": "stderr",
          "output_type": "stream",
          "text": [
            "train Epoch 42:   0%|          | 0/3836 [00:00<?, ?it/s]c:\\Users\\swath\\anaconda3\\envs\\ml_env\\Lib\\site-packages\\torch_geometric\\data\\storage.py:452: UserWarning: Unable to accurately infer 'num_nodes' from the attribute set '{'i_indices', 'j_indices', 'edge_index'}'. Please explicitly set 'num_nodes' as an attribute of 'data' to suppress this warning\n",
            "  warnings.warn(\n",
            "train Epoch 42: 100%|██████████| 3836/3836 [02:37<00:00, 24.31it/s]\n",
            "val Epoch 42:   0%|          | 0/959 [00:00<?, ?it/s]c:\\Users\\swath\\anaconda3\\envs\\ml_env\\Lib\\site-packages\\torch_geometric\\data\\storage.py:452: UserWarning: Unable to accurately infer 'num_nodes' from the attribute set '{'i_indices', 'j_indices', 'edge_index'}'. Please explicitly set 'num_nodes' as an attribute of 'data' to suppress this warning\n",
            "  warnings.warn(\n",
            "val Epoch 42: 100%|██████████| 959/959 [00:26<00:00, 36.13it/s]\n",
            "test Epoch 42:   0%|          | 0/1199 [00:00<?, ?it/s]c:\\Users\\swath\\anaconda3\\envs\\ml_env\\Lib\\site-packages\\torch_geometric\\data\\storage.py:452: UserWarning: Unable to accurately infer 'num_nodes' from the attribute set '{'i_indices', 'j_indices', 'edge_index'}'. Please explicitly set 'num_nodes' as an attribute of 'data' to suppress this warning\n",
            "  warnings.warn(\n",
            "test Epoch 42: 100%|██████████| 1199/1199 [00:34<00:00, 34.94it/s]\n"
          ]
        },
        {
          "name": "stdout",
          "output_type": "stream",
          "text": [
            "\n",
            "#### Epoch time 219.0324s\n",
            "loss: 0.3652, acc: 0.8435, roc: 0.9176, f1: 0.8472, p: 0.8275, r: 0.8678, int-ap: 0.9051, ap: 0.9051\n",
            "#### Validation\n",
            "loss: 0.3516, acc: 0.8612, roc: 0.9326, f1: 0.8710, p: 0.8134, r: 0.9374, int-ap: 0.9184, ap: 0.9183\n",
            "#### Test\n",
            "loss: 0.3447, acc: 0.8626, roc: 0.9348, f1: 0.8721, p: 0.8158, r: 0.9367, int-ap: 0.9222, ap: 0.9222\n"
          ]
        },
        {
          "name": "stderr",
          "output_type": "stream",
          "text": [
            "train Epoch 43:   0%|          | 0/3836 [00:00<?, ?it/s]c:\\Users\\swath\\anaconda3\\envs\\ml_env\\Lib\\site-packages\\torch_geometric\\data\\storage.py:452: UserWarning: Unable to accurately infer 'num_nodes' from the attribute set '{'i_indices', 'j_indices', 'edge_index'}'. Please explicitly set 'num_nodes' as an attribute of 'data' to suppress this warning\n",
            "  warnings.warn(\n",
            "train Epoch 43: 100%|██████████| 3836/3836 [02:29<00:00, 25.74it/s]\n",
            "val Epoch 43:   0%|          | 0/959 [00:00<?, ?it/s]c:\\Users\\swath\\anaconda3\\envs\\ml_env\\Lib\\site-packages\\torch_geometric\\data\\storage.py:452: UserWarning: Unable to accurately infer 'num_nodes' from the attribute set '{'i_indices', 'j_indices', 'edge_index'}'. Please explicitly set 'num_nodes' as an attribute of 'data' to suppress this warning\n",
            "  warnings.warn(\n",
            "val Epoch 43: 100%|██████████| 959/959 [00:26<00:00, 36.52it/s]\n",
            "test Epoch 43:   0%|          | 0/1199 [00:00<?, ?it/s]c:\\Users\\swath\\anaconda3\\envs\\ml_env\\Lib\\site-packages\\torch_geometric\\data\\storage.py:452: UserWarning: Unable to accurately infer 'num_nodes' from the attribute set '{'i_indices', 'j_indices', 'edge_index'}'. Please explicitly set 'num_nodes' as an attribute of 'data' to suppress this warning\n",
            "  warnings.warn(\n",
            "test Epoch 43: 100%|██████████| 1199/1199 [00:34<00:00, 35.13it/s]\n"
          ]
        },
        {
          "name": "stdout",
          "output_type": "stream",
          "text": [
            "\n",
            "#### Epoch time 209.8256s\n",
            "loss: 0.3648, acc: 0.8433, roc: 0.9178, f1: 0.8471, p: 0.8273, r: 0.8679, int-ap: 0.9052, ap: 0.9052\n",
            "#### Validation\n",
            "loss: 0.3418, acc: 0.8638, roc: 0.9351, f1: 0.8731, p: 0.8172, r: 0.9372, int-ap: 0.9216, ap: 0.9216\n",
            "#### Test\n",
            "loss: 0.3349, acc: 0.8649, roc: 0.9375, f1: 0.8740, p: 0.8187, r: 0.9373, int-ap: 0.9256, ap: 0.9256\n"
          ]
        },
        {
          "name": "stderr",
          "output_type": "stream",
          "text": [
            "train Epoch 44:   0%|          | 0/3836 [00:00<?, ?it/s]c:\\Users\\swath\\anaconda3\\envs\\ml_env\\Lib\\site-packages\\torch_geometric\\data\\storage.py:452: UserWarning: Unable to accurately infer 'num_nodes' from the attribute set '{'i_indices', 'j_indices', 'edge_index'}'. Please explicitly set 'num_nodes' as an attribute of 'data' to suppress this warning\n",
            "  warnings.warn(\n",
            "train Epoch 44: 100%|██████████| 3836/3836 [02:23<00:00, 26.80it/s]\n",
            "val Epoch 44:   0%|          | 0/959 [00:00<?, ?it/s]c:\\Users\\swath\\anaconda3\\envs\\ml_env\\Lib\\site-packages\\torch_geometric\\data\\storage.py:452: UserWarning: Unable to accurately infer 'num_nodes' from the attribute set '{'i_indices', 'j_indices', 'edge_index'}'. Please explicitly set 'num_nodes' as an attribute of 'data' to suppress this warning\n",
            "  warnings.warn(\n",
            "val Epoch 44: 100%|██████████| 959/959 [00:25<00:00, 37.16it/s]\n",
            "test Epoch 44:   0%|          | 0/1199 [00:00<?, ?it/s]c:\\Users\\swath\\anaconda3\\envs\\ml_env\\Lib\\site-packages\\torch_geometric\\data\\storage.py:452: UserWarning: Unable to accurately infer 'num_nodes' from the attribute set '{'i_indices', 'j_indices', 'edge_index'}'. Please explicitly set 'num_nodes' as an attribute of 'data' to suppress this warning\n",
            "  warnings.warn(\n",
            "test Epoch 44: 100%|██████████| 1199/1199 [00:34<00:00, 35.11it/s]\n"
          ]
        },
        {
          "name": "stdout",
          "output_type": "stream",
          "text": [
            "\n",
            "#### Epoch time 203.4334s\n",
            "loss: 0.3636, acc: 0.8439, roc: 0.9182, f1: 0.8476, p: 0.8278, r: 0.8684, int-ap: 0.9055, ap: 0.9055\n",
            "#### Validation\n",
            "loss: 0.3398, acc: 0.8644, roc: 0.9352, f1: 0.8735, p: 0.8185, r: 0.9364, int-ap: 0.9216, ap: 0.9216\n",
            "#### Test\n",
            "loss: 0.3341, acc: 0.8654, roc: 0.9374, f1: 0.8741, p: 0.8208, r: 0.9349, int-ap: 0.9247, ap: 0.9246\n"
          ]
        },
        {
          "name": "stderr",
          "output_type": "stream",
          "text": [
            "train Epoch 45:   0%|          | 0/3836 [00:00<?, ?it/s]c:\\Users\\swath\\anaconda3\\envs\\ml_env\\Lib\\site-packages\\torch_geometric\\data\\storage.py:452: UserWarning: Unable to accurately infer 'num_nodes' from the attribute set '{'i_indices', 'j_indices', 'edge_index'}'. Please explicitly set 'num_nodes' as an attribute of 'data' to suppress this warning\n",
            "  warnings.warn(\n",
            "train Epoch 45: 100%|██████████| 3836/3836 [02:32<00:00, 25.17it/s]\n",
            "val Epoch 45:   0%|          | 0/959 [00:00<?, ?it/s]c:\\Users\\swath\\anaconda3\\envs\\ml_env\\Lib\\site-packages\\torch_geometric\\data\\storage.py:452: UserWarning: Unable to accurately infer 'num_nodes' from the attribute set '{'i_indices', 'j_indices', 'edge_index'}'. Please explicitly set 'num_nodes' as an attribute of 'data' to suppress this warning\n",
            "  warnings.warn(\n",
            "val Epoch 45: 100%|██████████| 959/959 [00:26<00:00, 35.85it/s]\n",
            "test Epoch 45:   0%|          | 0/1199 [00:00<?, ?it/s]c:\\Users\\swath\\anaconda3\\envs\\ml_env\\Lib\\site-packages\\torch_geometric\\data\\storage.py:452: UserWarning: Unable to accurately infer 'num_nodes' from the attribute set '{'i_indices', 'j_indices', 'edge_index'}'. Please explicitly set 'num_nodes' as an attribute of 'data' to suppress this warning\n",
            "  warnings.warn(\n",
            "test Epoch 45: 100%|██████████| 1199/1199 [00:31<00:00, 37.54it/s]\n"
          ]
        },
        {
          "name": "stdout",
          "output_type": "stream",
          "text": [
            "\n",
            "#### Epoch time 211.4673s\n",
            "loss: 0.3633, acc: 0.8441, roc: 0.9185, f1: 0.8479, p: 0.8280, r: 0.8687, int-ap: 0.9059, ap: 0.9059\n",
            "#### Validation\n",
            "loss: 0.3529, acc: 0.8592, roc: 0.9342, f1: 0.8700, p: 0.8080, r: 0.9422, int-ap: 0.9209, ap: 0.9209\n",
            "#### Test\n",
            "loss: 0.3449, acc: 0.8622, roc: 0.9367, f1: 0.8724, p: 0.8125, r: 0.9417, int-ap: 0.9246, ap: 0.9245\n"
          ]
        },
        {
          "name": "stderr",
          "output_type": "stream",
          "text": [
            "train Epoch 46:   0%|          | 0/3836 [00:00<?, ?it/s]c:\\Users\\swath\\anaconda3\\envs\\ml_env\\Lib\\site-packages\\torch_geometric\\data\\storage.py:452: UserWarning: Unable to accurately infer 'num_nodes' from the attribute set '{'i_indices', 'j_indices', 'edge_index'}'. Please explicitly set 'num_nodes' as an attribute of 'data' to suppress this warning\n",
            "  warnings.warn(\n",
            "train Epoch 46: 100%|██████████| 3836/3836 [02:13<00:00, 28.66it/s]\n",
            "val Epoch 46:   0%|          | 0/959 [00:00<?, ?it/s]c:\\Users\\swath\\anaconda3\\envs\\ml_env\\Lib\\site-packages\\torch_geometric\\data\\storage.py:452: UserWarning: Unable to accurately infer 'num_nodes' from the attribute set '{'i_indices', 'j_indices', 'edge_index'}'. Please explicitly set 'num_nodes' as an attribute of 'data' to suppress this warning\n",
            "  warnings.warn(\n",
            "val Epoch 46: 100%|██████████| 959/959 [00:27<00:00, 34.29it/s]\n",
            "test Epoch 46:   0%|          | 0/1199 [00:00<?, ?it/s]c:\\Users\\swath\\anaconda3\\envs\\ml_env\\Lib\\site-packages\\torch_geometric\\data\\storage.py:452: UserWarning: Unable to accurately infer 'num_nodes' from the attribute set '{'i_indices', 'j_indices', 'edge_index'}'. Please explicitly set 'num_nodes' as an attribute of 'data' to suppress this warning\n",
            "  warnings.warn(\n",
            "test Epoch 46: 100%|██████████| 1199/1199 [00:31<00:00, 37.85it/s]\n"
          ]
        },
        {
          "name": "stdout",
          "output_type": "stream",
          "text": [
            "\n",
            "#### Epoch time 193.9317s\n",
            "loss: 0.3603, acc: 0.8458, roc: 0.9198, f1: 0.8494, p: 0.8297, r: 0.8702, int-ap: 0.9076, ap: 0.9076\n",
            "#### Validation\n",
            "loss: 0.3362, acc: 0.8662, roc: 0.9361, f1: 0.8749, p: 0.8214, r: 0.9359, int-ap: 0.9227, ap: 0.9227\n",
            "#### Test\n",
            "loss: 0.3288, acc: 0.8673, roc: 0.9388, f1: 0.8758, p: 0.8232, r: 0.9356, int-ap: 0.9266, ap: 0.9266\n"
          ]
        },
        {
          "name": "stderr",
          "output_type": "stream",
          "text": [
            "train Epoch 47:   0%|          | 0/3836 [00:00<?, ?it/s]c:\\Users\\swath\\anaconda3\\envs\\ml_env\\Lib\\site-packages\\torch_geometric\\data\\storage.py:452: UserWarning: Unable to accurately infer 'num_nodes' from the attribute set '{'i_indices', 'j_indices', 'edge_index'}'. Please explicitly set 'num_nodes' as an attribute of 'data' to suppress this warning\n",
            "  warnings.warn(\n",
            "train Epoch 47: 100%|██████████| 3836/3836 [02:16<00:00, 28.06it/s]\n",
            "val Epoch 47:   0%|          | 0/959 [00:00<?, ?it/s]c:\\Users\\swath\\anaconda3\\envs\\ml_env\\Lib\\site-packages\\torch_geometric\\data\\storage.py:452: UserWarning: Unable to accurately infer 'num_nodes' from the attribute set '{'i_indices', 'j_indices', 'edge_index'}'. Please explicitly set 'num_nodes' as an attribute of 'data' to suppress this warning\n",
            "  warnings.warn(\n",
            "val Epoch 47: 100%|██████████| 959/959 [00:24<00:00, 39.28it/s]\n",
            "test Epoch 47:   0%|          | 0/1199 [00:00<?, ?it/s]c:\\Users\\swath\\anaconda3\\envs\\ml_env\\Lib\\site-packages\\torch_geometric\\data\\storage.py:452: UserWarning: Unable to accurately infer 'num_nodes' from the attribute set '{'i_indices', 'j_indices', 'edge_index'}'. Please explicitly set 'num_nodes' as an attribute of 'data' to suppress this warning\n",
            "  warnings.warn(\n",
            "test Epoch 47: 100%|██████████| 1199/1199 [00:30<00:00, 39.49it/s]\n"
          ]
        },
        {
          "name": "stdout",
          "output_type": "stream",
          "text": [
            "\n",
            "#### Epoch time 191.8929s\n",
            "loss: 0.3585, acc: 0.8463, roc: 0.9207, f1: 0.8500, p: 0.8299, r: 0.8711, int-ap: 0.9087, ap: 0.9087\n",
            "#### Validation\n",
            "loss: 0.3455, acc: 0.8627, roc: 0.9362, f1: 0.8733, p: 0.8108, r: 0.9462, int-ap: 0.9227, ap: 0.9227\n",
            "#### Test\n",
            "loss: 0.3389, acc: 0.8647, roc: 0.9383, f1: 0.8748, p: 0.8142, r: 0.9451, int-ap: 0.9261, ap: 0.9260\n"
          ]
        },
        {
          "name": "stderr",
          "output_type": "stream",
          "text": [
            "train Epoch 48:   0%|          | 0/3836 [00:00<?, ?it/s]c:\\Users\\swath\\anaconda3\\envs\\ml_env\\Lib\\site-packages\\torch_geometric\\data\\storage.py:452: UserWarning: Unable to accurately infer 'num_nodes' from the attribute set '{'i_indices', 'j_indices', 'edge_index'}'. Please explicitly set 'num_nodes' as an attribute of 'data' to suppress this warning\n",
            "  warnings.warn(\n",
            "train Epoch 48: 100%|██████████| 3836/3836 [02:15<00:00, 28.34it/s]\n",
            "val Epoch 48:   0%|          | 0/959 [00:00<?, ?it/s]c:\\Users\\swath\\anaconda3\\envs\\ml_env\\Lib\\site-packages\\torch_geometric\\data\\storage.py:452: UserWarning: Unable to accurately infer 'num_nodes' from the attribute set '{'i_indices', 'j_indices', 'edge_index'}'. Please explicitly set 'num_nodes' as an attribute of 'data' to suppress this warning\n",
            "  warnings.warn(\n",
            "val Epoch 48: 100%|██████████| 959/959 [00:24<00:00, 38.81it/s]\n",
            "test Epoch 48:   0%|          | 0/1199 [00:00<?, ?it/s]c:\\Users\\swath\\anaconda3\\envs\\ml_env\\Lib\\site-packages\\torch_geometric\\data\\storage.py:452: UserWarning: Unable to accurately infer 'num_nodes' from the attribute set '{'i_indices', 'j_indices', 'edge_index'}'. Please explicitly set 'num_nodes' as an attribute of 'data' to suppress this warning\n",
            "  warnings.warn(\n",
            "test Epoch 48: 100%|██████████| 1199/1199 [00:32<00:00, 37.29it/s]\n"
          ]
        },
        {
          "name": "stdout",
          "output_type": "stream",
          "text": [
            "\n",
            "#### Epoch time 192.6001s\n",
            "loss: 0.3577, acc: 0.8464, roc: 0.9209, f1: 0.8500, p: 0.8303, r: 0.8707, int-ap: 0.9089, ap: 0.9089\n",
            "#### Validation\n",
            "loss: 0.3381, acc: 0.8655, roc: 0.9368, f1: 0.8747, p: 0.8185, r: 0.9392, int-ap: 0.9236, ap: 0.9236\n",
            "#### Test\n",
            "loss: 0.3323, acc: 0.8676, roc: 0.9391, f1: 0.8764, p: 0.8215, r: 0.9392, int-ap: 0.9268, ap: 0.9268\n"
          ]
        },
        {
          "name": "stderr",
          "output_type": "stream",
          "text": [
            "train Epoch 49:   0%|          | 0/3836 [00:00<?, ?it/s]c:\\Users\\swath\\anaconda3\\envs\\ml_env\\Lib\\site-packages\\torch_geometric\\data\\storage.py:452: UserWarning: Unable to accurately infer 'num_nodes' from the attribute set '{'i_indices', 'j_indices', 'edge_index'}'. Please explicitly set 'num_nodes' as an attribute of 'data' to suppress this warning\n",
            "  warnings.warn(\n",
            "train Epoch 49: 100%|██████████| 3836/3836 [02:18<00:00, 27.73it/s]\n",
            "val Epoch 49:   0%|          | 0/959 [00:00<?, ?it/s]c:\\Users\\swath\\anaconda3\\envs\\ml_env\\Lib\\site-packages\\torch_geometric\\data\\storage.py:452: UserWarning: Unable to accurately infer 'num_nodes' from the attribute set '{'i_indices', 'j_indices', 'edge_index'}'. Please explicitly set 'num_nodes' as an attribute of 'data' to suppress this warning\n",
            "  warnings.warn(\n",
            "val Epoch 49: 100%|██████████| 959/959 [00:25<00:00, 37.87it/s]\n",
            "test Epoch 49:   0%|          | 0/1199 [00:00<?, ?it/s]c:\\Users\\swath\\anaconda3\\envs\\ml_env\\Lib\\site-packages\\torch_geometric\\data\\storage.py:452: UserWarning: Unable to accurately infer 'num_nodes' from the attribute set '{'i_indices', 'j_indices', 'edge_index'}'. Please explicitly set 'num_nodes' as an attribute of 'data' to suppress this warning\n",
            "  warnings.warn(\n",
            "test Epoch 49: 100%|██████████| 1199/1199 [00:31<00:00, 38.19it/s]\n"
          ]
        },
        {
          "name": "stdout",
          "output_type": "stream",
          "text": [
            "\n",
            "#### Epoch time 195.4248s\n",
            "loss: 0.3558, acc: 0.8480, roc: 0.9218, f1: 0.8517, p: 0.8318, r: 0.8724, int-ap: 0.9098, ap: 0.9098\n",
            "#### Validation\n",
            "loss: 0.3292, acc: 0.8713, roc: 0.9379, f1: 0.8789, p: 0.8298, r: 0.9342, int-ap: 0.9248, ap: 0.9248\n",
            "#### Test\n",
            "loss: 0.3213, acc: 0.8718, roc: 0.9407, f1: 0.8792, p: 0.8314, r: 0.9329, int-ap: 0.9291, ap: 0.9290\n"
          ]
        },
        {
          "name": "stderr",
          "output_type": "stream",
          "text": [
            "train Epoch 50:   0%|          | 0/3836 [00:00<?, ?it/s]c:\\Users\\swath\\anaconda3\\envs\\ml_env\\Lib\\site-packages\\torch_geometric\\data\\storage.py:452: UserWarning: Unable to accurately infer 'num_nodes' from the attribute set '{'i_indices', 'j_indices', 'edge_index'}'. Please explicitly set 'num_nodes' as an attribute of 'data' to suppress this warning\n",
            "  warnings.warn(\n",
            "train Epoch 50: 100%|██████████| 3836/3836 [02:19<00:00, 27.42it/s]\n",
            "val Epoch 50:   0%|          | 0/959 [00:00<?, ?it/s]c:\\Users\\swath\\anaconda3\\envs\\ml_env\\Lib\\site-packages\\torch_geometric\\data\\storage.py:452: UserWarning: Unable to accurately infer 'num_nodes' from the attribute set '{'i_indices', 'j_indices', 'edge_index'}'. Please explicitly set 'num_nodes' as an attribute of 'data' to suppress this warning\n",
            "  warnings.warn(\n",
            "val Epoch 50: 100%|██████████| 959/959 [00:27<00:00, 35.41it/s]\n",
            "test Epoch 50:   0%|          | 0/1199 [00:00<?, ?it/s]c:\\Users\\swath\\anaconda3\\envs\\ml_env\\Lib\\site-packages\\torch_geometric\\data\\storage.py:452: UserWarning: Unable to accurately infer 'num_nodes' from the attribute set '{'i_indices', 'j_indices', 'edge_index'}'. Please explicitly set 'num_nodes' as an attribute of 'data' to suppress this warning\n",
            "  warnings.warn(\n",
            "test Epoch 50: 100%|██████████| 1199/1199 [00:33<00:00, 35.34it/s]\n"
          ]
        },
        {
          "name": "stdout",
          "output_type": "stream",
          "text": [
            "\n",
            "#### Epoch time 201.3512s\n",
            "loss: 0.3548, acc: 0.8497, roc: 0.9223, f1: 0.8532, p: 0.8336, r: 0.8738, int-ap: 0.9103, ap: 0.9103\n",
            "#### Validation\n",
            "loss: 0.3375, acc: 0.8668, roc: 0.9380, f1: 0.8764, p: 0.8176, r: 0.9443, int-ap: 0.9244, ap: 0.9244\n",
            "#### Test\n",
            "loss: 0.3300, acc: 0.8685, roc: 0.9404, f1: 0.8775, p: 0.8211, r: 0.9422, int-ap: 0.9283, ap: 0.9283\n"
          ]
        },
        {
          "name": "stderr",
          "output_type": "stream",
          "text": [
            "train Epoch 51:   0%|          | 0/3836 [00:00<?, ?it/s]c:\\Users\\swath\\anaconda3\\envs\\ml_env\\Lib\\site-packages\\torch_geometric\\data\\storage.py:452: UserWarning: Unable to accurately infer 'num_nodes' from the attribute set '{'i_indices', 'j_indices', 'edge_index'}'. Please explicitly set 'num_nodes' as an attribute of 'data' to suppress this warning\n",
            "  warnings.warn(\n",
            "train Epoch 51: 100%|██████████| 3836/3836 [02:18<00:00, 27.70it/s]\n",
            "val Epoch 51:   0%|          | 0/959 [00:00<?, ?it/s]c:\\Users\\swath\\anaconda3\\envs\\ml_env\\Lib\\site-packages\\torch_geometric\\data\\storage.py:452: UserWarning: Unable to accurately infer 'num_nodes' from the attribute set '{'i_indices', 'j_indices', 'edge_index'}'. Please explicitly set 'num_nodes' as an attribute of 'data' to suppress this warning\n",
            "  warnings.warn(\n",
            "val Epoch 51: 100%|██████████| 959/959 [00:25<00:00, 38.25it/s]\n",
            "test Epoch 51:   0%|          | 0/1199 [00:00<?, ?it/s]c:\\Users\\swath\\anaconda3\\envs\\ml_env\\Lib\\site-packages\\torch_geometric\\data\\storage.py:452: UserWarning: Unable to accurately infer 'num_nodes' from the attribute set '{'i_indices', 'j_indices', 'edge_index'}'. Please explicitly set 'num_nodes' as an attribute of 'data' to suppress this warning\n",
            "  warnings.warn(\n",
            "test Epoch 51: 100%|██████████| 1199/1199 [00:32<00:00, 36.91it/s]\n"
          ]
        },
        {
          "name": "stdout",
          "output_type": "stream",
          "text": [
            "\n",
            "#### Epoch time 196.4566s\n",
            "loss: 0.3538, acc: 0.8497, roc: 0.9227, f1: 0.8532, p: 0.8333, r: 0.8741, int-ap: 0.9109, ap: 0.9109\n",
            "#### Validation\n",
            "loss: 0.3408, acc: 0.8651, roc: 0.9377, f1: 0.8754, p: 0.8134, r: 0.9476, int-ap: 0.9241, ap: 0.9241\n",
            "#### Test\n",
            "loss: 0.3337, acc: 0.8671, roc: 0.9402, f1: 0.8768, p: 0.8171, r: 0.9458, int-ap: 0.9274, ap: 0.9274\n"
          ]
        },
        {
          "name": "stderr",
          "output_type": "stream",
          "text": [
            "train Epoch 52:   0%|          | 0/3836 [00:00<?, ?it/s]c:\\Users\\swath\\anaconda3\\envs\\ml_env\\Lib\\site-packages\\torch_geometric\\data\\storage.py:452: UserWarning: Unable to accurately infer 'num_nodes' from the attribute set '{'i_indices', 'j_indices', 'edge_index'}'. Please explicitly set 'num_nodes' as an attribute of 'data' to suppress this warning\n",
            "  warnings.warn(\n",
            "train Epoch 52: 100%|██████████| 3836/3836 [02:24<00:00, 26.58it/s]\n",
            "val Epoch 52:   0%|          | 0/959 [00:00<?, ?it/s]c:\\Users\\swath\\anaconda3\\envs\\ml_env\\Lib\\site-packages\\torch_geometric\\data\\storage.py:452: UserWarning: Unable to accurately infer 'num_nodes' from the attribute set '{'i_indices', 'j_indices', 'edge_index'}'. Please explicitly set 'num_nodes' as an attribute of 'data' to suppress this warning\n",
            "  warnings.warn(\n",
            "val Epoch 52: 100%|██████████| 959/959 [00:27<00:00, 35.27it/s]\n",
            "test Epoch 52:   0%|          | 0/1199 [00:00<?, ?it/s]c:\\Users\\swath\\anaconda3\\envs\\ml_env\\Lib\\site-packages\\torch_geometric\\data\\storage.py:452: UserWarning: Unable to accurately infer 'num_nodes' from the attribute set '{'i_indices', 'j_indices', 'edge_index'}'. Please explicitly set 'num_nodes' as an attribute of 'data' to suppress this warning\n",
            "  warnings.warn(\n",
            "test Epoch 52: 100%|██████████| 1199/1199 [00:33<00:00, 36.14it/s]\n"
          ]
        },
        {
          "name": "stdout",
          "output_type": "stream",
          "text": [
            "\n",
            "#### Epoch time 205.0659s\n",
            "loss: 0.3533, acc: 0.8496, roc: 0.9228, f1: 0.8532, p: 0.8332, r: 0.8743, int-ap: 0.9107, ap: 0.9107\n",
            "#### Validation\n",
            "loss: 0.3405, acc: 0.8652, roc: 0.9377, f1: 0.8753, p: 0.8142, r: 0.9464, int-ap: 0.9240, ap: 0.9239\n",
            "#### Test\n",
            "loss: 0.3324, acc: 0.8668, roc: 0.9406, f1: 0.8764, p: 0.8174, r: 0.9446, int-ap: 0.9283, ap: 0.9283\n"
          ]
        },
        {
          "name": "stderr",
          "output_type": "stream",
          "text": [
            "train Epoch 53:   0%|          | 0/3836 [00:00<?, ?it/s]c:\\Users\\swath\\anaconda3\\envs\\ml_env\\Lib\\site-packages\\torch_geometric\\data\\storage.py:452: UserWarning: Unable to accurately infer 'num_nodes' from the attribute set '{'i_indices', 'j_indices', 'edge_index'}'. Please explicitly set 'num_nodes' as an attribute of 'data' to suppress this warning\n",
            "  warnings.warn(\n",
            "train Epoch 53: 100%|██████████| 3836/3836 [02:20<00:00, 27.30it/s]\n",
            "val Epoch 53:   0%|          | 0/959 [00:00<?, ?it/s]c:\\Users\\swath\\anaconda3\\envs\\ml_env\\Lib\\site-packages\\torch_geometric\\data\\storage.py:452: UserWarning: Unable to accurately infer 'num_nodes' from the attribute set '{'i_indices', 'j_indices', 'edge_index'}'. Please explicitly set 'num_nodes' as an attribute of 'data' to suppress this warning\n",
            "  warnings.warn(\n",
            "val Epoch 53: 100%|██████████| 959/959 [00:27<00:00, 35.50it/s]\n",
            "test Epoch 53:   0%|          | 0/1199 [00:00<?, ?it/s]c:\\Users\\swath\\anaconda3\\envs\\ml_env\\Lib\\site-packages\\torch_geometric\\data\\storage.py:452: UserWarning: Unable to accurately infer 'num_nodes' from the attribute set '{'i_indices', 'j_indices', 'edge_index'}'. Please explicitly set 'num_nodes' as an attribute of 'data' to suppress this warning\n",
            "  warnings.warn(\n",
            "test Epoch 53: 100%|██████████| 1199/1199 [00:34<00:00, 34.81it/s]\n"
          ]
        },
        {
          "name": "stdout",
          "output_type": "stream",
          "text": [
            "\n",
            "#### Epoch time 202.3917s\n",
            "loss: 0.3517, acc: 0.8511, roc: 0.9236, f1: 0.8548, p: 0.8343, r: 0.8762, int-ap: 0.9116, ap: 0.9116\n",
            "#### Validation\n",
            "loss: 0.3312, acc: 0.8686, roc: 0.9392, f1: 0.8776, p: 0.8213, r: 0.9423, int-ap: 0.9267, ap: 0.9266\n",
            "#### Test\n",
            "loss: 0.3244, acc: 0.8695, roc: 0.9415, f1: 0.8781, p: 0.8237, r: 0.9402, int-ap: 0.9302, ap: 0.9301\n"
          ]
        },
        {
          "name": "stderr",
          "output_type": "stream",
          "text": [
            "train Epoch 54:   0%|          | 0/3836 [00:00<?, ?it/s]c:\\Users\\swath\\anaconda3\\envs\\ml_env\\Lib\\site-packages\\torch_geometric\\data\\storage.py:452: UserWarning: Unable to accurately infer 'num_nodes' from the attribute set '{'i_indices', 'j_indices', 'edge_index'}'. Please explicitly set 'num_nodes' as an attribute of 'data' to suppress this warning\n",
            "  warnings.warn(\n",
            "train Epoch 54: 100%|██████████| 3836/3836 [02:24<00:00, 26.55it/s]\n",
            "val Epoch 54:   0%|          | 0/959 [00:00<?, ?it/s]c:\\Users\\swath\\anaconda3\\envs\\ml_env\\Lib\\site-packages\\torch_geometric\\data\\storage.py:452: UserWarning: Unable to accurately infer 'num_nodes' from the attribute set '{'i_indices', 'j_indices', 'edge_index'}'. Please explicitly set 'num_nodes' as an attribute of 'data' to suppress this warning\n",
            "  warnings.warn(\n",
            "val Epoch 54: 100%|██████████| 959/959 [00:25<00:00, 37.38it/s]\n",
            "test Epoch 54:   0%|          | 0/1199 [00:00<?, ?it/s]c:\\Users\\swath\\anaconda3\\envs\\ml_env\\Lib\\site-packages\\torch_geometric\\data\\storage.py:452: UserWarning: Unable to accurately infer 'num_nodes' from the attribute set '{'i_indices', 'j_indices', 'edge_index'}'. Please explicitly set 'num_nodes' as an attribute of 'data' to suppress this warning\n",
            "  warnings.warn(\n",
            "test Epoch 54: 100%|██████████| 1199/1199 [00:31<00:00, 37.89it/s]\n"
          ]
        },
        {
          "name": "stdout",
          "output_type": "stream",
          "text": [
            "\n",
            "#### Epoch time 202.1322s\n",
            "loss: 0.3503, acc: 0.8509, roc: 0.9241, f1: 0.8544, p: 0.8347, r: 0.8750, int-ap: 0.9125, ap: 0.9125\n",
            "#### Validation\n",
            "loss: 0.3321, acc: 0.8681, roc: 0.9397, f1: 0.8778, p: 0.8178, r: 0.9474, int-ap: 0.9273, ap: 0.9273\n",
            "#### Test\n",
            "loss: 0.3259, acc: 0.8693, roc: 0.9420, f1: 0.8785, p: 0.8207, r: 0.9452, int-ap: 0.9304, ap: 0.9304\n"
          ]
        },
        {
          "name": "stderr",
          "output_type": "stream",
          "text": [
            "train Epoch 55:   0%|          | 0/3836 [00:00<?, ?it/s]c:\\Users\\swath\\anaconda3\\envs\\ml_env\\Lib\\site-packages\\torch_geometric\\data\\storage.py:452: UserWarning: Unable to accurately infer 'num_nodes' from the attribute set '{'i_indices', 'j_indices', 'edge_index'}'. Please explicitly set 'num_nodes' as an attribute of 'data' to suppress this warning\n",
            "  warnings.warn(\n",
            "train Epoch 55: 100%|██████████| 3836/3836 [02:17<00:00, 27.85it/s]\n",
            "val Epoch 55:   0%|          | 0/959 [00:00<?, ?it/s]c:\\Users\\swath\\anaconda3\\envs\\ml_env\\Lib\\site-packages\\torch_geometric\\data\\storage.py:452: UserWarning: Unable to accurately infer 'num_nodes' from the attribute set '{'i_indices', 'j_indices', 'edge_index'}'. Please explicitly set 'num_nodes' as an attribute of 'data' to suppress this warning\n",
            "  warnings.warn(\n",
            "val Epoch 55: 100%|██████████| 959/959 [00:25<00:00, 37.19it/s]\n",
            "test Epoch 55:   0%|          | 0/1199 [00:00<?, ?it/s]c:\\Users\\swath\\anaconda3\\envs\\ml_env\\Lib\\site-packages\\torch_geometric\\data\\storage.py:452: UserWarning: Unable to accurately infer 'num_nodes' from the attribute set '{'i_indices', 'j_indices', 'edge_index'}'. Please explicitly set 'num_nodes' as an attribute of 'data' to suppress this warning\n",
            "  warnings.warn(\n",
            "test Epoch 55: 100%|██████████| 1199/1199 [00:29<00:00, 40.19it/s]\n"
          ]
        },
        {
          "name": "stdout",
          "output_type": "stream",
          "text": [
            "\n",
            "#### Epoch time 193.7297s\n",
            "loss: 0.3515, acc: 0.8504, roc: 0.9237, f1: 0.8540, p: 0.8340, r: 0.8750, int-ap: 0.9113, ap: 0.9113\n",
            "#### Validation\n",
            "loss: 0.3275, acc: 0.8711, roc: 0.9393, f1: 0.8797, p: 0.8246, r: 0.9428, int-ap: 0.9262, ap: 0.9261\n",
            "#### Test\n",
            "loss: 0.3200, acc: 0.8720, roc: 0.9422, f1: 0.8804, p: 0.8266, r: 0.9416, int-ap: 0.9306, ap: 0.9306\n"
          ]
        },
        {
          "name": "stderr",
          "output_type": "stream",
          "text": [
            "train Epoch 56:   0%|          | 0/3836 [00:00<?, ?it/s]c:\\Users\\swath\\anaconda3\\envs\\ml_env\\Lib\\site-packages\\torch_geometric\\data\\storage.py:452: UserWarning: Unable to accurately infer 'num_nodes' from the attribute set '{'i_indices', 'j_indices', 'edge_index'}'. Please explicitly set 'num_nodes' as an attribute of 'data' to suppress this warning\n",
            "  warnings.warn(\n",
            "train Epoch 56: 100%|██████████| 3836/3836 [02:14<00:00, 28.62it/s]\n",
            "val Epoch 56:   0%|          | 0/959 [00:00<?, ?it/s]c:\\Users\\swath\\anaconda3\\envs\\ml_env\\Lib\\site-packages\\torch_geometric\\data\\storage.py:452: UserWarning: Unable to accurately infer 'num_nodes' from the attribute set '{'i_indices', 'j_indices', 'edge_index'}'. Please explicitly set 'num_nodes' as an attribute of 'data' to suppress this warning\n",
            "  warnings.warn(\n",
            "val Epoch 56: 100%|██████████| 959/959 [00:25<00:00, 38.10it/s]\n",
            "test Epoch 56:   0%|          | 0/1199 [00:00<?, ?it/s]c:\\Users\\swath\\anaconda3\\envs\\ml_env\\Lib\\site-packages\\torch_geometric\\data\\storage.py:452: UserWarning: Unable to accurately infer 'num_nodes' from the attribute set '{'i_indices', 'j_indices', 'edge_index'}'. Please explicitly set 'num_nodes' as an attribute of 'data' to suppress this warning\n",
            "  warnings.warn(\n",
            "test Epoch 56: 100%|██████████| 1199/1199 [00:31<00:00, 37.86it/s]\n"
          ]
        },
        {
          "name": "stdout",
          "output_type": "stream",
          "text": [
            "\n",
            "#### Epoch time 191.2228s\n",
            "loss: 0.3489, acc: 0.8514, roc: 0.9247, f1: 0.8549, p: 0.8354, r: 0.8752, int-ap: 0.9135, ap: 0.9135\n",
            "#### Validation\n",
            "loss: 0.3300, acc: 0.8702, roc: 0.9397, f1: 0.8789, p: 0.8240, r: 0.9416, int-ap: 0.9268, ap: 0.9268\n",
            "#### Test\n",
            "loss: 0.3234, acc: 0.8719, roc: 0.9421, f1: 0.8802, p: 0.8266, r: 0.9413, int-ap: 0.9305, ap: 0.9305\n"
          ]
        },
        {
          "name": "stderr",
          "output_type": "stream",
          "text": [
            "train Epoch 57:   0%|          | 0/3836 [00:00<?, ?it/s]c:\\Users\\swath\\anaconda3\\envs\\ml_env\\Lib\\site-packages\\torch_geometric\\data\\storage.py:452: UserWarning: Unable to accurately infer 'num_nodes' from the attribute set '{'i_indices', 'j_indices', 'edge_index'}'. Please explicitly set 'num_nodes' as an attribute of 'data' to suppress this warning\n",
            "  warnings.warn(\n",
            "train Epoch 57: 100%|██████████| 3836/3836 [02:13<00:00, 28.69it/s]\n",
            "val Epoch 57:   0%|          | 0/959 [00:00<?, ?it/s]c:\\Users\\swath\\anaconda3\\envs\\ml_env\\Lib\\site-packages\\torch_geometric\\data\\storage.py:452: UserWarning: Unable to accurately infer 'num_nodes' from the attribute set '{'i_indices', 'j_indices', 'edge_index'}'. Please explicitly set 'num_nodes' as an attribute of 'data' to suppress this warning\n",
            "  warnings.warn(\n",
            "val Epoch 57: 100%|██████████| 959/959 [00:24<00:00, 39.34it/s]\n",
            "test Epoch 57:   0%|          | 0/1199 [00:00<?, ?it/s]c:\\Users\\swath\\anaconda3\\envs\\ml_env\\Lib\\site-packages\\torch_geometric\\data\\storage.py:452: UserWarning: Unable to accurately infer 'num_nodes' from the attribute set '{'i_indices', 'j_indices', 'edge_index'}'. Please explicitly set 'num_nodes' as an attribute of 'data' to suppress this warning\n",
            "  warnings.warn(\n",
            "test Epoch 57: 100%|██████████| 1199/1199 [00:32<00:00, 37.25it/s]\n"
          ]
        },
        {
          "name": "stdout",
          "output_type": "stream",
          "text": [
            "\n",
            "#### Epoch time 190.5902s\n",
            "loss: 0.3491, acc: 0.8517, roc: 0.9246, f1: 0.8552, p: 0.8353, r: 0.8761, int-ap: 0.9132, ap: 0.9132\n",
            "#### Validation\n",
            "loss: 0.3342, acc: 0.8693, roc: 0.9400, f1: 0.8788, p: 0.8190, r: 0.9480, int-ap: 0.9270, ap: 0.9270\n",
            "#### Test\n",
            "loss: 0.3282, acc: 0.8698, roc: 0.9421, f1: 0.8791, p: 0.8204, r: 0.9469, int-ap: 0.9301, ap: 0.9301\n"
          ]
        },
        {
          "name": "stderr",
          "output_type": "stream",
          "text": [
            "train Epoch 58:   0%|          | 0/3836 [00:00<?, ?it/s]c:\\Users\\swath\\anaconda3\\envs\\ml_env\\Lib\\site-packages\\torch_geometric\\data\\storage.py:452: UserWarning: Unable to accurately infer 'num_nodes' from the attribute set '{'i_indices', 'j_indices', 'edge_index'}'. Please explicitly set 'num_nodes' as an attribute of 'data' to suppress this warning\n",
            "  warnings.warn(\n",
            "train Epoch 58: 100%|██████████| 3836/3836 [02:21<00:00, 27.20it/s]\n",
            "val Epoch 58:   0%|          | 0/959 [00:00<?, ?it/s]c:\\Users\\swath\\anaconda3\\envs\\ml_env\\Lib\\site-packages\\torch_geometric\\data\\storage.py:452: UserWarning: Unable to accurately infer 'num_nodes' from the attribute set '{'i_indices', 'j_indices', 'edge_index'}'. Please explicitly set 'num_nodes' as an attribute of 'data' to suppress this warning\n",
            "  warnings.warn(\n",
            "val Epoch 58: 100%|██████████| 959/959 [00:25<00:00, 38.01it/s]\n",
            "test Epoch 58:   0%|          | 0/1199 [00:00<?, ?it/s]c:\\Users\\swath\\anaconda3\\envs\\ml_env\\Lib\\site-packages\\torch_geometric\\data\\storage.py:452: UserWarning: Unable to accurately infer 'num_nodes' from the attribute set '{'i_indices', 'j_indices', 'edge_index'}'. Please explicitly set 'num_nodes' as an attribute of 'data' to suppress this warning\n",
            "  warnings.warn(\n",
            "test Epoch 58: 100%|██████████| 1199/1199 [00:32<00:00, 36.67it/s]\n"
          ]
        },
        {
          "name": "stdout",
          "output_type": "stream",
          "text": [
            "\n",
            "#### Epoch time 199.3121s\n",
            "loss: 0.3483, acc: 0.8524, roc: 0.9250, f1: 0.8558, p: 0.8366, r: 0.8758, int-ap: 0.9138, ap: 0.9138\n",
            "#### Validation\n",
            "loss: 0.3322, acc: 0.8703, roc: 0.9400, f1: 0.8792, p: 0.8224, r: 0.9446, int-ap: 0.9268, ap: 0.9268\n",
            "#### Test\n",
            "loss: 0.3253, acc: 0.8715, roc: 0.9424, f1: 0.8801, p: 0.8249, r: 0.9432, int-ap: 0.9302, ap: 0.9301\n"
          ]
        },
        {
          "name": "stderr",
          "output_type": "stream",
          "text": [
            "train Epoch 59:   0%|          | 0/3836 [00:00<?, ?it/s]c:\\Users\\swath\\anaconda3\\envs\\ml_env\\Lib\\site-packages\\torch_geometric\\data\\storage.py:452: UserWarning: Unable to accurately infer 'num_nodes' from the attribute set '{'i_indices', 'j_indices', 'edge_index'}'. Please explicitly set 'num_nodes' as an attribute of 'data' to suppress this warning\n",
            "  warnings.warn(\n",
            "train Epoch 59: 100%|██████████| 3836/3836 [02:14<00:00, 28.54it/s]\n",
            "val Epoch 59:   0%|          | 0/959 [00:00<?, ?it/s]c:\\Users\\swath\\anaconda3\\envs\\ml_env\\Lib\\site-packages\\torch_geometric\\data\\storage.py:452: UserWarning: Unable to accurately infer 'num_nodes' from the attribute set '{'i_indices', 'j_indices', 'edge_index'}'. Please explicitly set 'num_nodes' as an attribute of 'data' to suppress this warning\n",
            "  warnings.warn(\n",
            "val Epoch 59: 100%|██████████| 959/959 [00:25<00:00, 37.21it/s]\n",
            "test Epoch 59:   0%|          | 0/1199 [00:00<?, ?it/s]c:\\Users\\swath\\anaconda3\\envs\\ml_env\\Lib\\site-packages\\torch_geometric\\data\\storage.py:452: UserWarning: Unable to accurately infer 'num_nodes' from the attribute set '{'i_indices', 'j_indices', 'edge_index'}'. Please explicitly set 'num_nodes' as an attribute of 'data' to suppress this warning\n",
            "  warnings.warn(\n",
            "test Epoch 59: 100%|██████████| 1199/1199 [00:30<00:00, 39.43it/s]\n"
          ]
        },
        {
          "name": "stdout",
          "output_type": "stream",
          "text": [
            "\n",
            "#### Epoch time 190.9354s\n",
            "loss: 0.3473, acc: 0.8525, roc: 0.9255, f1: 0.8560, p: 0.8366, r: 0.8763, int-ap: 0.9141, ap: 0.9141\n",
            "#### Validation\n",
            "loss: 0.3330, acc: 0.8706, roc: 0.9404, f1: 0.8799, p: 0.8208, r: 0.9480, int-ap: 0.9273, ap: 0.9273\n",
            "#### Test\n",
            "loss: 0.3258, acc: 0.8712, roc: 0.9427, f1: 0.8802, p: 0.8228, r: 0.9461, int-ap: 0.9311, ap: 0.9311\n"
          ]
        },
        {
          "name": "stderr",
          "output_type": "stream",
          "text": [
            "train Epoch 60:   0%|          | 0/3836 [00:00<?, ?it/s]c:\\Users\\swath\\anaconda3\\envs\\ml_env\\Lib\\site-packages\\torch_geometric\\data\\storage.py:452: UserWarning: Unable to accurately infer 'num_nodes' from the attribute set '{'i_indices', 'j_indices', 'edge_index'}'. Please explicitly set 'num_nodes' as an attribute of 'data' to suppress this warning\n",
            "  warnings.warn(\n",
            "train Epoch 60: 100%|██████████| 3836/3836 [02:12<00:00, 29.02it/s]\n",
            "val Epoch 60:   0%|          | 0/959 [00:00<?, ?it/s]c:\\Users\\swath\\anaconda3\\envs\\ml_env\\Lib\\site-packages\\torch_geometric\\data\\storage.py:452: UserWarning: Unable to accurately infer 'num_nodes' from the attribute set '{'i_indices', 'j_indices', 'edge_index'}'. Please explicitly set 'num_nodes' as an attribute of 'data' to suppress this warning\n",
            "  warnings.warn(\n",
            "val Epoch 60: 100%|██████████| 959/959 [00:26<00:00, 36.08it/s]\n",
            "test Epoch 60:   0%|          | 0/1199 [00:00<?, ?it/s]c:\\Users\\swath\\anaconda3\\envs\\ml_env\\Lib\\site-packages\\torch_geometric\\data\\storage.py:452: UserWarning: Unable to accurately infer 'num_nodes' from the attribute set '{'i_indices', 'j_indices', 'edge_index'}'. Please explicitly set 'num_nodes' as an attribute of 'data' to suppress this warning\n",
            "  warnings.warn(\n",
            "test Epoch 60: 100%|██████████| 1199/1199 [00:34<00:00, 34.89it/s]\n"
          ]
        },
        {
          "name": "stdout",
          "output_type": "stream",
          "text": [
            "\n",
            "#### Epoch time 193.5015s\n",
            "loss: 0.3472, acc: 0.8532, roc: 0.9256, f1: 0.8568, p: 0.8365, r: 0.8780, int-ap: 0.9141, ap: 0.9141\n",
            "#### Validation\n",
            "loss: 0.3357, acc: 0.8693, roc: 0.9402, f1: 0.8789, p: 0.8186, r: 0.9489, int-ap: 0.9269, ap: 0.9268\n",
            "#### Test\n",
            "loss: 0.3266, acc: 0.8706, roc: 0.9430, f1: 0.8798, p: 0.8213, r: 0.9474, int-ap: 0.9315, ap: 0.9314\n"
          ]
        },
        {
          "name": "stderr",
          "output_type": "stream",
          "text": [
            "train Epoch 61:   0%|          | 0/3836 [00:00<?, ?it/s]c:\\Users\\swath\\anaconda3\\envs\\ml_env\\Lib\\site-packages\\torch_geometric\\data\\storage.py:452: UserWarning: Unable to accurately infer 'num_nodes' from the attribute set '{'i_indices', 'j_indices', 'edge_index'}'. Please explicitly set 'num_nodes' as an attribute of 'data' to suppress this warning\n",
            "  warnings.warn(\n",
            "train Epoch 61: 100%|██████████| 3836/3836 [02:18<00:00, 27.68it/s]\n",
            "val Epoch 61:   0%|          | 0/959 [00:00<?, ?it/s]c:\\Users\\swath\\anaconda3\\envs\\ml_env\\Lib\\site-packages\\torch_geometric\\data\\storage.py:452: UserWarning: Unable to accurately infer 'num_nodes' from the attribute set '{'i_indices', 'j_indices', 'edge_index'}'. Please explicitly set 'num_nodes' as an attribute of 'data' to suppress this warning\n",
            "  warnings.warn(\n",
            "val Epoch 61: 100%|██████████| 959/959 [00:25<00:00, 36.93it/s]\n",
            "test Epoch 61:   0%|          | 0/1199 [00:00<?, ?it/s]c:\\Users\\swath\\anaconda3\\envs\\ml_env\\Lib\\site-packages\\torch_geometric\\data\\storage.py:452: UserWarning: Unable to accurately infer 'num_nodes' from the attribute set '{'i_indices', 'j_indices', 'edge_index'}'. Please explicitly set 'num_nodes' as an attribute of 'data' to suppress this warning\n",
            "  warnings.warn(\n",
            "test Epoch 61: 100%|██████████| 1199/1199 [00:34<00:00, 34.88it/s]\n"
          ]
        },
        {
          "name": "stdout",
          "output_type": "stream",
          "text": [
            "\n",
            "#### Epoch time 199.2293s\n",
            "loss: 0.3464, acc: 0.8528, roc: 0.9256, f1: 0.8562, p: 0.8367, r: 0.8768, int-ap: 0.9142, ap: 0.9142\n",
            "#### Validation\n",
            "loss: 0.3313, acc: 0.8694, roc: 0.9406, f1: 0.8789, p: 0.8196, r: 0.9474, int-ap: 0.9274, ap: 0.9274\n",
            "#### Test\n",
            "loss: 0.3243, acc: 0.8712, roc: 0.9430, f1: 0.8803, p: 0.8226, r: 0.9467, int-ap: 0.9312, ap: 0.9312\n"
          ]
        },
        {
          "name": "stderr",
          "output_type": "stream",
          "text": [
            "train Epoch 62:   0%|          | 0/3836 [00:00<?, ?it/s]c:\\Users\\swath\\anaconda3\\envs\\ml_env\\Lib\\site-packages\\torch_geometric\\data\\storage.py:452: UserWarning: Unable to accurately infer 'num_nodes' from the attribute set '{'i_indices', 'j_indices', 'edge_index'}'. Please explicitly set 'num_nodes' as an attribute of 'data' to suppress this warning\n",
            "  warnings.warn(\n",
            "train Epoch 62: 100%|██████████| 3836/3836 [02:18<00:00, 27.68it/s]\n",
            "val Epoch 62:   0%|          | 0/959 [00:00<?, ?it/s]c:\\Users\\swath\\anaconda3\\envs\\ml_env\\Lib\\site-packages\\torch_geometric\\data\\storage.py:452: UserWarning: Unable to accurately infer 'num_nodes' from the attribute set '{'i_indices', 'j_indices', 'edge_index'}'. Please explicitly set 'num_nodes' as an attribute of 'data' to suppress this warning\n",
            "  warnings.warn(\n",
            "val Epoch 62: 100%|██████████| 959/959 [00:24<00:00, 38.71it/s]\n",
            "test Epoch 62:   0%|          | 0/1199 [00:00<?, ?it/s]c:\\Users\\swath\\anaconda3\\envs\\ml_env\\Lib\\site-packages\\torch_geometric\\data\\storage.py:452: UserWarning: Unable to accurately infer 'num_nodes' from the attribute set '{'i_indices', 'j_indices', 'edge_index'}'. Please explicitly set 'num_nodes' as an attribute of 'data' to suppress this warning\n",
            "  warnings.warn(\n",
            "test Epoch 62: 100%|██████████| 1199/1199 [00:30<00:00, 39.68it/s]\n"
          ]
        },
        {
          "name": "stdout",
          "output_type": "stream",
          "text": [
            "\n",
            "#### Epoch time 193.9365s\n",
            "loss: 0.3455, acc: 0.8534, roc: 0.9262, f1: 0.8568, p: 0.8372, r: 0.8773, int-ap: 0.9146, ap: 0.9146\n",
            "#### Validation\n",
            "loss: 0.3334, acc: 0.8690, roc: 0.9402, f1: 0.8785, p: 0.8195, r: 0.9466, int-ap: 0.9274, ap: 0.9274\n",
            "#### Test\n",
            "loss: 0.3246, acc: 0.8714, roc: 0.9431, f1: 0.8804, p: 0.8225, r: 0.9471, int-ap: 0.9314, ap: 0.9314\n"
          ]
        },
        {
          "name": "stderr",
          "output_type": "stream",
          "text": [
            "train Epoch 63:   0%|          | 0/3836 [00:00<?, ?it/s]c:\\Users\\swath\\anaconda3\\envs\\ml_env\\Lib\\site-packages\\torch_geometric\\data\\storage.py:452: UserWarning: Unable to accurately infer 'num_nodes' from the attribute set '{'i_indices', 'j_indices', 'edge_index'}'. Please explicitly set 'num_nodes' as an attribute of 'data' to suppress this warning\n",
            "  warnings.warn(\n",
            "train Epoch 63: 100%|██████████| 3836/3836 [02:25<00:00, 26.37it/s]\n",
            "val Epoch 63:   0%|          | 0/959 [00:00<?, ?it/s]c:\\Users\\swath\\anaconda3\\envs\\ml_env\\Lib\\site-packages\\torch_geometric\\data\\storage.py:452: UserWarning: Unable to accurately infer 'num_nodes' from the attribute set '{'i_indices', 'j_indices', 'edge_index'}'. Please explicitly set 'num_nodes' as an attribute of 'data' to suppress this warning\n",
            "  warnings.warn(\n",
            "val Epoch 63: 100%|██████████| 959/959 [00:23<00:00, 40.02it/s]\n",
            "test Epoch 63:   0%|          | 0/1199 [00:00<?, ?it/s]c:\\Users\\swath\\anaconda3\\envs\\ml_env\\Lib\\site-packages\\torch_geometric\\data\\storage.py:452: UserWarning: Unable to accurately infer 'num_nodes' from the attribute set '{'i_indices', 'j_indices', 'edge_index'}'. Please explicitly set 'num_nodes' as an attribute of 'data' to suppress this warning\n",
            "  warnings.warn(\n",
            "test Epoch 63: 100%|██████████| 1199/1199 [00:30<00:00, 39.24it/s]\n"
          ]
        },
        {
          "name": "stdout",
          "output_type": "stream",
          "text": [
            "\n",
            "#### Epoch time 200.3358s\n",
            "loss: 0.3438, acc: 0.8545, roc: 0.9270, f1: 0.8580, p: 0.8381, r: 0.8789, int-ap: 0.9154, ap: 0.9154\n",
            "#### Validation\n",
            "loss: 0.3402, acc: 0.8670, roc: 0.9400, f1: 0.8772, p: 0.8144, r: 0.9505, int-ap: 0.9274, ap: 0.9274\n",
            "#### Test\n",
            "loss: 0.3325, acc: 0.8684, roc: 0.9426, f1: 0.8784, p: 0.8166, r: 0.9503, int-ap: 0.9311, ap: 0.9311\n"
          ]
        },
        {
          "name": "stderr",
          "output_type": "stream",
          "text": [
            "train Epoch 64:   0%|          | 0/3836 [00:00<?, ?it/s]c:\\Users\\swath\\anaconda3\\envs\\ml_env\\Lib\\site-packages\\torch_geometric\\data\\storage.py:452: UserWarning: Unable to accurately infer 'num_nodes' from the attribute set '{'i_indices', 'j_indices', 'edge_index'}'. Please explicitly set 'num_nodes' as an attribute of 'data' to suppress this warning\n",
            "  warnings.warn(\n",
            "train Epoch 64: 100%|██████████| 3836/3836 [02:22<00:00, 26.94it/s]\n",
            "val Epoch 64:   0%|          | 0/959 [00:00<?, ?it/s]c:\\Users\\swath\\anaconda3\\envs\\ml_env\\Lib\\site-packages\\torch_geometric\\data\\storage.py:452: UserWarning: Unable to accurately infer 'num_nodes' from the attribute set '{'i_indices', 'j_indices', 'edge_index'}'. Please explicitly set 'num_nodes' as an attribute of 'data' to suppress this warning\n",
            "  warnings.warn(\n",
            "val Epoch 64: 100%|██████████| 959/959 [00:26<00:00, 36.73it/s]\n",
            "test Epoch 64:   0%|          | 0/1199 [00:00<?, ?it/s]c:\\Users\\swath\\anaconda3\\envs\\ml_env\\Lib\\site-packages\\torch_geometric\\data\\storage.py:452: UserWarning: Unable to accurately infer 'num_nodes' from the attribute set '{'i_indices', 'j_indices', 'edge_index'}'. Please explicitly set 'num_nodes' as an attribute of 'data' to suppress this warning\n",
            "  warnings.warn(\n",
            "test Epoch 64: 100%|██████████| 1199/1199 [00:34<00:00, 34.70it/s]\n"
          ]
        },
        {
          "name": "stdout",
          "output_type": "stream",
          "text": [
            "\n",
            "#### Epoch time 203.4504s\n",
            "loss: 0.3444, acc: 0.8538, roc: 0.9267, f1: 0.8572, p: 0.8378, r: 0.8775, int-ap: 0.9152, ap: 0.9152\n",
            "#### Validation\n",
            "loss: 0.3284, acc: 0.8717, roc: 0.9417, f1: 0.8809, p: 0.8222, r: 0.9484, int-ap: 0.9287, ap: 0.9287\n",
            "#### Test\n",
            "loss: 0.3207, acc: 0.8727, roc: 0.9443, f1: 0.8817, p: 0.8240, r: 0.9480, int-ap: 0.9328, ap: 0.9328\n"
          ]
        },
        {
          "name": "stderr",
          "output_type": "stream",
          "text": [
            "train Epoch 65:   0%|          | 0/3836 [00:00<?, ?it/s]c:\\Users\\swath\\anaconda3\\envs\\ml_env\\Lib\\site-packages\\torch_geometric\\data\\storage.py:452: UserWarning: Unable to accurately infer 'num_nodes' from the attribute set '{'i_indices', 'j_indices', 'edge_index'}'. Please explicitly set 'num_nodes' as an attribute of 'data' to suppress this warning\n",
            "  warnings.warn(\n",
            "train Epoch 65: 100%|██████████| 3836/3836 [02:22<00:00, 26.90it/s]\n",
            "val Epoch 65:   0%|          | 0/959 [00:00<?, ?it/s]c:\\Users\\swath\\anaconda3\\envs\\ml_env\\Lib\\site-packages\\torch_geometric\\data\\storage.py:452: UserWarning: Unable to accurately infer 'num_nodes' from the attribute set '{'i_indices', 'j_indices', 'edge_index'}'. Please explicitly set 'num_nodes' as an attribute of 'data' to suppress this warning\n",
            "  warnings.warn(\n",
            "val Epoch 65: 100%|██████████| 959/959 [00:24<00:00, 39.59it/s]\n",
            "test Epoch 65:   0%|          | 0/1199 [00:00<?, ?it/s]c:\\Users\\swath\\anaconda3\\envs\\ml_env\\Lib\\site-packages\\torch_geometric\\data\\storage.py:452: UserWarning: Unable to accurately infer 'num_nodes' from the attribute set '{'i_indices', 'j_indices', 'edge_index'}'. Please explicitly set 'num_nodes' as an attribute of 'data' to suppress this warning\n",
            "  warnings.warn(\n",
            "test Epoch 65: 100%|██████████| 1199/1199 [00:31<00:00, 38.39it/s]\n"
          ]
        },
        {
          "name": "stdout",
          "output_type": "stream",
          "text": [
            "\n",
            "#### Epoch time 198.4341s\n",
            "loss: 0.3432, acc: 0.8550, roc: 0.9272, f1: 0.8583, p: 0.8389, r: 0.8786, int-ap: 0.9159, ap: 0.9159\n",
            "#### Validation\n",
            "loss: 0.3256, acc: 0.8731, roc: 0.9420, f1: 0.8817, p: 0.8256, r: 0.9459, int-ap: 0.9295, ap: 0.9295\n",
            "#### Test\n",
            "loss: 0.3196, acc: 0.8730, roc: 0.9442, f1: 0.8815, p: 0.8261, r: 0.9449, int-ap: 0.9325, ap: 0.9325\n"
          ]
        },
        {
          "name": "stderr",
          "output_type": "stream",
          "text": [
            "train Epoch 66:   0%|          | 0/3836 [00:00<?, ?it/s]c:\\Users\\swath\\anaconda3\\envs\\ml_env\\Lib\\site-packages\\torch_geometric\\data\\storage.py:452: UserWarning: Unable to accurately infer 'num_nodes' from the attribute set '{'i_indices', 'j_indices', 'edge_index'}'. Please explicitly set 'num_nodes' as an attribute of 'data' to suppress this warning\n",
            "  warnings.warn(\n",
            "train Epoch 66: 100%|██████████| 3836/3836 [02:18<00:00, 27.64it/s]\n",
            "val Epoch 66:   0%|          | 0/959 [00:00<?, ?it/s]c:\\Users\\swath\\anaconda3\\envs\\ml_env\\Lib\\site-packages\\torch_geometric\\data\\storage.py:452: UserWarning: Unable to accurately infer 'num_nodes' from the attribute set '{'i_indices', 'j_indices', 'edge_index'}'. Please explicitly set 'num_nodes' as an attribute of 'data' to suppress this warning\n",
            "  warnings.warn(\n",
            "val Epoch 66: 100%|██████████| 959/959 [00:25<00:00, 37.13it/s]\n",
            "test Epoch 66:   0%|          | 0/1199 [00:00<?, ?it/s]c:\\Users\\swath\\anaconda3\\envs\\ml_env\\Lib\\site-packages\\torch_geometric\\data\\storage.py:452: UserWarning: Unable to accurately infer 'num_nodes' from the attribute set '{'i_indices', 'j_indices', 'edge_index'}'. Please explicitly set 'num_nodes' as an attribute of 'data' to suppress this warning\n",
            "  warnings.warn(\n",
            "test Epoch 66: 100%|██████████| 1199/1199 [00:32<00:00, 37.11it/s]\n"
          ]
        },
        {
          "name": "stdout",
          "output_type": "stream",
          "text": [
            "\n",
            "#### Epoch time 197.3337s\n",
            "loss: 0.3434, acc: 0.8544, roc: 0.9272, f1: 0.8579, p: 0.8379, r: 0.8787, int-ap: 0.9162, ap: 0.9162\n",
            "#### Validation\n",
            "loss: 0.3255, acc: 0.8742, roc: 0.9418, f1: 0.8823, p: 0.8286, r: 0.9435, int-ap: 0.9292, ap: 0.9292\n",
            "#### Test\n",
            "loss: 0.3186, acc: 0.8747, roc: 0.9441, f1: 0.8827, p: 0.8297, r: 0.9429, int-ap: 0.9326, ap: 0.9326\n"
          ]
        },
        {
          "name": "stderr",
          "output_type": "stream",
          "text": [
            "train Epoch 67:   0%|          | 0/3836 [00:00<?, ?it/s]c:\\Users\\swath\\anaconda3\\envs\\ml_env\\Lib\\site-packages\\torch_geometric\\data\\storage.py:452: UserWarning: Unable to accurately infer 'num_nodes' from the attribute set '{'i_indices', 'j_indices', 'edge_index'}'. Please explicitly set 'num_nodes' as an attribute of 'data' to suppress this warning\n",
            "  warnings.warn(\n",
            "train Epoch 67: 100%|██████████| 3836/3836 [02:18<00:00, 27.65it/s]\n",
            "val Epoch 67:   0%|          | 0/959 [00:00<?, ?it/s]c:\\Users\\swath\\anaconda3\\envs\\ml_env\\Lib\\site-packages\\torch_geometric\\data\\storage.py:452: UserWarning: Unable to accurately infer 'num_nodes' from the attribute set '{'i_indices', 'j_indices', 'edge_index'}'. Please explicitly set 'num_nodes' as an attribute of 'data' to suppress this warning\n",
            "  warnings.warn(\n",
            "val Epoch 67: 100%|██████████| 959/959 [00:23<00:00, 41.34it/s]\n",
            "test Epoch 67:   0%|          | 0/1199 [00:00<?, ?it/s]c:\\Users\\swath\\anaconda3\\envs\\ml_env\\Lib\\site-packages\\torch_geometric\\data\\storage.py:452: UserWarning: Unable to accurately infer 'num_nodes' from the attribute set '{'i_indices', 'j_indices', 'edge_index'}'. Please explicitly set 'num_nodes' as an attribute of 'data' to suppress this warning\n",
            "  warnings.warn(\n",
            "test Epoch 67: 100%|██████████| 1199/1199 [00:32<00:00, 37.21it/s]\n"
          ]
        },
        {
          "name": "stdout",
          "output_type": "stream",
          "text": [
            "\n",
            "#### Epoch time 194.5221s\n",
            "loss: 0.3426, acc: 0.8552, roc: 0.9275, f1: 0.8586, p: 0.8389, r: 0.8793, int-ap: 0.9162, ap: 0.9162\n",
            "#### Validation\n",
            "loss: 0.3312, acc: 0.8716, roc: 0.9414, f1: 0.8808, p: 0.8219, r: 0.9487, int-ap: 0.9288, ap: 0.9288\n",
            "#### Test\n",
            "loss: 0.3225, acc: 0.8720, roc: 0.9443, f1: 0.8809, p: 0.8239, r: 0.9463, int-ap: 0.9329, ap: 0.9328\n"
          ]
        },
        {
          "name": "stderr",
          "output_type": "stream",
          "text": [
            "train Epoch 68:   0%|          | 0/3836 [00:00<?, ?it/s]c:\\Users\\swath\\anaconda3\\envs\\ml_env\\Lib\\site-packages\\torch_geometric\\data\\storage.py:452: UserWarning: Unable to accurately infer 'num_nodes' from the attribute set '{'i_indices', 'j_indices', 'edge_index'}'. Please explicitly set 'num_nodes' as an attribute of 'data' to suppress this warning\n",
            "  warnings.warn(\n",
            "train Epoch 68: 100%|██████████| 3836/3836 [02:21<00:00, 27.06it/s]\n",
            "val Epoch 68:   0%|          | 0/959 [00:00<?, ?it/s]c:\\Users\\swath\\anaconda3\\envs\\ml_env\\Lib\\site-packages\\torch_geometric\\data\\storage.py:452: UserWarning: Unable to accurately infer 'num_nodes' from the attribute set '{'i_indices', 'j_indices', 'edge_index'}'. Please explicitly set 'num_nodes' as an attribute of 'data' to suppress this warning\n",
            "  warnings.warn(\n",
            "val Epoch 68: 100%|██████████| 959/959 [00:25<00:00, 37.36it/s]\n",
            "test Epoch 68:   0%|          | 0/1199 [00:00<?, ?it/s]c:\\Users\\swath\\anaconda3\\envs\\ml_env\\Lib\\site-packages\\torch_geometric\\data\\storage.py:452: UserWarning: Unable to accurately infer 'num_nodes' from the attribute set '{'i_indices', 'j_indices', 'edge_index'}'. Please explicitly set 'num_nodes' as an attribute of 'data' to suppress this warning\n",
            "  warnings.warn(\n",
            "test Epoch 68: 100%|██████████| 1199/1199 [00:33<00:00, 35.62it/s]\n"
          ]
        },
        {
          "name": "stdout",
          "output_type": "stream",
          "text": [
            "\n",
            "#### Epoch time 201.4726s\n",
            "loss: 0.3415, acc: 0.8554, roc: 0.9280, f1: 0.8588, p: 0.8393, r: 0.8792, int-ap: 0.9164, ap: 0.9164\n",
            "#### Validation\n",
            "loss: 0.3323, acc: 0.8709, roc: 0.9421, f1: 0.8804, p: 0.8203, r: 0.9500, int-ap: 0.9293, ap: 0.9292\n",
            "#### Test\n",
            "loss: 0.3244, acc: 0.8715, roc: 0.9445, f1: 0.8808, p: 0.8217, r: 0.9489, int-ap: 0.9329, ap: 0.9329\n"
          ]
        },
        {
          "name": "stderr",
          "output_type": "stream",
          "text": [
            "train Epoch 69:   0%|          | 0/3836 [00:00<?, ?it/s]c:\\Users\\swath\\anaconda3\\envs\\ml_env\\Lib\\site-packages\\torch_geometric\\data\\storage.py:452: UserWarning: Unable to accurately infer 'num_nodes' from the attribute set '{'i_indices', 'j_indices', 'edge_index'}'. Please explicitly set 'num_nodes' as an attribute of 'data' to suppress this warning\n",
            "  warnings.warn(\n",
            "train Epoch 69: 100%|██████████| 3836/3836 [02:21<00:00, 27.02it/s]\n",
            "val Epoch 69:   0%|          | 0/959 [00:00<?, ?it/s]c:\\Users\\swath\\anaconda3\\envs\\ml_env\\Lib\\site-packages\\torch_geometric\\data\\storage.py:452: UserWarning: Unable to accurately infer 'num_nodes' from the attribute set '{'i_indices', 'j_indices', 'edge_index'}'. Please explicitly set 'num_nodes' as an attribute of 'data' to suppress this warning\n",
            "  warnings.warn(\n",
            "val Epoch 69: 100%|██████████| 959/959 [00:25<00:00, 37.90it/s]\n",
            "test Epoch 69:   0%|          | 0/1199 [00:00<?, ?it/s]c:\\Users\\swath\\anaconda3\\envs\\ml_env\\Lib\\site-packages\\torch_geometric\\data\\storage.py:452: UserWarning: Unable to accurately infer 'num_nodes' from the attribute set '{'i_indices', 'j_indices', 'edge_index'}'. Please explicitly set 'num_nodes' as an attribute of 'data' to suppress this warning\n",
            "  warnings.warn(\n",
            "test Epoch 69: 100%|██████████| 1199/1199 [00:33<00:00, 36.32it/s]\n"
          ]
        },
        {
          "name": "stdout",
          "output_type": "stream",
          "text": [
            "\n",
            "#### Epoch time 200.7266s\n",
            "loss: 0.3420, acc: 0.8555, roc: 0.9277, f1: 0.8589, p: 0.8392, r: 0.8795, int-ap: 0.9167, ap: 0.9167\n",
            "#### Validation\n",
            "loss: 0.3338, acc: 0.8703, roc: 0.9421, f1: 0.8800, p: 0.8187, r: 0.9513, int-ap: 0.9293, ap: 0.9292\n",
            "#### Test\n",
            "loss: 0.3261, acc: 0.8707, roc: 0.9444, f1: 0.8803, p: 0.8196, r: 0.9507, int-ap: 0.9329, ap: 0.9329\n"
          ]
        },
        {
          "name": "stderr",
          "output_type": "stream",
          "text": [
            "train Epoch 70:   0%|          | 0/3836 [00:00<?, ?it/s]c:\\Users\\swath\\anaconda3\\envs\\ml_env\\Lib\\site-packages\\torch_geometric\\data\\storage.py:452: UserWarning: Unable to accurately infer 'num_nodes' from the attribute set '{'i_indices', 'j_indices', 'edge_index'}'. Please explicitly set 'num_nodes' as an attribute of 'data' to suppress this warning\n",
            "  warnings.warn(\n",
            "train Epoch 70: 100%|██████████| 3836/3836 [02:20<00:00, 27.26it/s]\n",
            "val Epoch 70:   0%|          | 0/959 [00:00<?, ?it/s]c:\\Users\\swath\\anaconda3\\envs\\ml_env\\Lib\\site-packages\\torch_geometric\\data\\storage.py:452: UserWarning: Unable to accurately infer 'num_nodes' from the attribute set '{'i_indices', 'j_indices', 'edge_index'}'. Please explicitly set 'num_nodes' as an attribute of 'data' to suppress this warning\n",
            "  warnings.warn(\n",
            "val Epoch 70: 100%|██████████| 959/959 [00:25<00:00, 37.19it/s]\n",
            "test Epoch 70:   0%|          | 0/1199 [00:00<?, ?it/s]c:\\Users\\swath\\anaconda3\\envs\\ml_env\\Lib\\site-packages\\torch_geometric\\data\\storage.py:452: UserWarning: Unable to accurately infer 'num_nodes' from the attribute set '{'i_indices', 'j_indices', 'edge_index'}'. Please explicitly set 'num_nodes' as an attribute of 'data' to suppress this warning\n",
            "  warnings.warn(\n",
            "test Epoch 70: 100%|██████████| 1199/1199 [00:33<00:00, 36.04it/s]\n"
          ]
        },
        {
          "name": "stdout",
          "output_type": "stream",
          "text": [
            "\n",
            "#### Epoch time 200.1087s\n",
            "loss: 0.3415, acc: 0.8559, roc: 0.9279, f1: 0.8593, p: 0.8397, r: 0.8798, int-ap: 0.9168, ap: 0.9168\n",
            "#### Validation\n",
            "loss: 0.3312, acc: 0.8715, roc: 0.9422, f1: 0.8810, p: 0.8202, r: 0.9516, int-ap: 0.9295, ap: 0.9295\n",
            "#### Test\n",
            "loss: 0.3229, acc: 0.8725, roc: 0.9449, f1: 0.8818, p: 0.8221, r: 0.9507, int-ap: 0.9336, ap: 0.9336\n"
          ]
        },
        {
          "name": "stderr",
          "output_type": "stream",
          "text": [
            "train Epoch 71:   0%|          | 0/3836 [00:00<?, ?it/s]c:\\Users\\swath\\anaconda3\\envs\\ml_env\\Lib\\site-packages\\torch_geometric\\data\\storage.py:452: UserWarning: Unable to accurately infer 'num_nodes' from the attribute set '{'i_indices', 'j_indices', 'edge_index'}'. Please explicitly set 'num_nodes' as an attribute of 'data' to suppress this warning\n",
            "  warnings.warn(\n",
            "train Epoch 71: 100%|██████████| 3836/3836 [02:19<00:00, 27.53it/s]\n",
            "val Epoch 71:   0%|          | 0/959 [00:00<?, ?it/s]c:\\Users\\swath\\anaconda3\\envs\\ml_env\\Lib\\site-packages\\torch_geometric\\data\\storage.py:452: UserWarning: Unable to accurately infer 'num_nodes' from the attribute set '{'i_indices', 'j_indices', 'edge_index'}'. Please explicitly set 'num_nodes' as an attribute of 'data' to suppress this warning\n",
            "  warnings.warn(\n",
            "val Epoch 71: 100%|██████████| 959/959 [00:24<00:00, 39.05it/s]\n",
            "test Epoch 71:   0%|          | 0/1199 [00:00<?, ?it/s]c:\\Users\\swath\\anaconda3\\envs\\ml_env\\Lib\\site-packages\\torch_geometric\\data\\storage.py:452: UserWarning: Unable to accurately infer 'num_nodes' from the attribute set '{'i_indices', 'j_indices', 'edge_index'}'. Please explicitly set 'num_nodes' as an attribute of 'data' to suppress this warning\n",
            "  warnings.warn(\n",
            "test Epoch 71: 100%|██████████| 1199/1199 [00:31<00:00, 38.01it/s]\n"
          ]
        },
        {
          "name": "stdout",
          "output_type": "stream",
          "text": [
            "\n",
            "#### Epoch time 195.8502s\n",
            "loss: 0.3391, acc: 0.8566, roc: 0.9289, f1: 0.8599, p: 0.8406, r: 0.8802, int-ap: 0.9180, ap: 0.9180\n",
            "#### Validation\n",
            "loss: 0.3239, acc: 0.8741, roc: 0.9430, f1: 0.8828, p: 0.8260, r: 0.9479, int-ap: 0.9308, ap: 0.9308\n",
            "#### Test\n",
            "loss: 0.3167, acc: 0.8750, roc: 0.9455, f1: 0.8834, p: 0.8276, r: 0.9473, int-ap: 0.9345, ap: 0.9345\n"
          ]
        },
        {
          "name": "stderr",
          "output_type": "stream",
          "text": [
            "train Epoch 72:   0%|          | 0/3836 [00:00<?, ?it/s]c:\\Users\\swath\\anaconda3\\envs\\ml_env\\Lib\\site-packages\\torch_geometric\\data\\storage.py:452: UserWarning: Unable to accurately infer 'num_nodes' from the attribute set '{'i_indices', 'j_indices', 'edge_index'}'. Please explicitly set 'num_nodes' as an attribute of 'data' to suppress this warning\n",
            "  warnings.warn(\n",
            "train Epoch 72: 100%|██████████| 3836/3836 [02:17<00:00, 27.80it/s]\n",
            "val Epoch 72:   0%|          | 0/959 [00:00<?, ?it/s]c:\\Users\\swath\\anaconda3\\envs\\ml_env\\Lib\\site-packages\\torch_geometric\\data\\storage.py:452: UserWarning: Unable to accurately infer 'num_nodes' from the attribute set '{'i_indices', 'j_indices', 'edge_index'}'. Please explicitly set 'num_nodes' as an attribute of 'data' to suppress this warning\n",
            "  warnings.warn(\n",
            "val Epoch 72: 100%|██████████| 959/959 [00:25<00:00, 36.99it/s]\n",
            "test Epoch 72:   0%|          | 0/1199 [00:00<?, ?it/s]c:\\Users\\swath\\anaconda3\\envs\\ml_env\\Lib\\site-packages\\torch_geometric\\data\\storage.py:452: UserWarning: Unable to accurately infer 'num_nodes' from the attribute set '{'i_indices', 'j_indices', 'edge_index'}'. Please explicitly set 'num_nodes' as an attribute of 'data' to suppress this warning\n",
            "  warnings.warn(\n",
            "test Epoch 72: 100%|██████████| 1199/1199 [00:32<00:00, 36.80it/s]\n"
          ]
        },
        {
          "name": "stdout",
          "output_type": "stream",
          "text": [
            "\n",
            "#### Epoch time 196.8434s\n",
            "loss: 0.3410, acc: 0.8565, roc: 0.9282, f1: 0.8598, p: 0.8401, r: 0.8805, int-ap: 0.9170, ap: 0.9170\n",
            "#### Validation\n",
            "loss: 0.3343, acc: 0.8701, roc: 0.9417, f1: 0.8798, p: 0.8188, r: 0.9506, int-ap: 0.9289, ap: 0.9289\n",
            "#### Test\n",
            "loss: 0.3265, acc: 0.8709, roc: 0.9444, f1: 0.8804, p: 0.8203, r: 0.9499, int-ap: 0.9327, ap: 0.9326\n"
          ]
        },
        {
          "name": "stderr",
          "output_type": "stream",
          "text": [
            "train Epoch 73:   0%|          | 0/3836 [00:00<?, ?it/s]c:\\Users\\swath\\anaconda3\\envs\\ml_env\\Lib\\site-packages\\torch_geometric\\data\\storage.py:452: UserWarning: Unable to accurately infer 'num_nodes' from the attribute set '{'i_indices', 'j_indices', 'edge_index'}'. Please explicitly set 'num_nodes' as an attribute of 'data' to suppress this warning\n",
            "  warnings.warn(\n",
            "train Epoch 73: 100%|██████████| 3836/3836 [02:13<00:00, 28.71it/s]\n",
            "val Epoch 73:   0%|          | 0/959 [00:00<?, ?it/s]c:\\Users\\swath\\anaconda3\\envs\\ml_env\\Lib\\site-packages\\torch_geometric\\data\\storage.py:452: UserWarning: Unable to accurately infer 'num_nodes' from the attribute set '{'i_indices', 'j_indices', 'edge_index'}'. Please explicitly set 'num_nodes' as an attribute of 'data' to suppress this warning\n",
            "  warnings.warn(\n",
            "val Epoch 73: 100%|██████████| 959/959 [00:24<00:00, 38.86it/s]\n",
            "test Epoch 73:   0%|          | 0/1199 [00:00<?, ?it/s]c:\\Users\\swath\\anaconda3\\envs\\ml_env\\Lib\\site-packages\\torch_geometric\\data\\storage.py:452: UserWarning: Unable to accurately infer 'num_nodes' from the attribute set '{'i_indices', 'j_indices', 'edge_index'}'. Please explicitly set 'num_nodes' as an attribute of 'data' to suppress this warning\n",
            "  warnings.warn(\n",
            "test Epoch 73: 100%|██████████| 1199/1199 [00:31<00:00, 38.39it/s]\n"
          ]
        },
        {
          "name": "stdout",
          "output_type": "stream",
          "text": [
            "\n",
            "#### Epoch time 189.8586s\n",
            "loss: 0.3384, acc: 0.8571, roc: 0.9292, f1: 0.8604, p: 0.8409, r: 0.8809, int-ap: 0.9184, ap: 0.9184\n",
            "#### Validation\n",
            "loss: 0.3229, acc: 0.8751, roc: 0.9429, f1: 0.8835, p: 0.8278, r: 0.9472, int-ap: 0.9301, ap: 0.9301\n",
            "#### Test\n",
            "loss: 0.3156, acc: 0.8758, roc: 0.9454, f1: 0.8839, p: 0.8298, r: 0.9455, int-ap: 0.9337, ap: 0.9337\n"
          ]
        },
        {
          "name": "stderr",
          "output_type": "stream",
          "text": [
            "train Epoch 74:   0%|          | 0/3836 [00:00<?, ?it/s]c:\\Users\\swath\\anaconda3\\envs\\ml_env\\Lib\\site-packages\\torch_geometric\\data\\storage.py:452: UserWarning: Unable to accurately infer 'num_nodes' from the attribute set '{'i_indices', 'j_indices', 'edge_index'}'. Please explicitly set 'num_nodes' as an attribute of 'data' to suppress this warning\n",
            "  warnings.warn(\n",
            "train Epoch 74: 100%|██████████| 3836/3836 [02:19<00:00, 27.58it/s]\n",
            "val Epoch 74:   0%|          | 0/959 [00:00<?, ?it/s]c:\\Users\\swath\\anaconda3\\envs\\ml_env\\Lib\\site-packages\\torch_geometric\\data\\storage.py:452: UserWarning: Unable to accurately infer 'num_nodes' from the attribute set '{'i_indices', 'j_indices', 'edge_index'}'. Please explicitly set 'num_nodes' as an attribute of 'data' to suppress this warning\n",
            "  warnings.warn(\n",
            "val Epoch 74: 100%|██████████| 959/959 [00:26<00:00, 36.67it/s]\n",
            "test Epoch 74:   0%|          | 0/1199 [00:00<?, ?it/s]c:\\Users\\swath\\anaconda3\\envs\\ml_env\\Lib\\site-packages\\torch_geometric\\data\\storage.py:452: UserWarning: Unable to accurately infer 'num_nodes' from the attribute set '{'i_indices', 'j_indices', 'edge_index'}'. Please explicitly set 'num_nodes' as an attribute of 'data' to suppress this warning\n",
            "  warnings.warn(\n",
            "test Epoch 74: 100%|██████████| 1199/1199 [00:32<00:00, 37.29it/s]\n"
          ]
        },
        {
          "name": "stdout",
          "output_type": "stream",
          "text": [
            "\n",
            "#### Epoch time 197.7449s\n",
            "loss: 0.3395, acc: 0.8562, roc: 0.9288, f1: 0.8595, p: 0.8403, r: 0.8796, int-ap: 0.9179, ap: 0.9179\n",
            "#### Validation\n",
            "loss: 0.3275, acc: 0.8725, roc: 0.9431, f1: 0.8819, p: 0.8217, r: 0.9516, int-ap: 0.9306, ap: 0.9305\n",
            "#### Test\n",
            "loss: 0.3202, acc: 0.8728, roc: 0.9455, f1: 0.8821, p: 0.8220, r: 0.9516, int-ap: 0.9340, ap: 0.9339\n"
          ]
        },
        {
          "name": "stderr",
          "output_type": "stream",
          "text": [
            "train Epoch 75:   0%|          | 0/3836 [00:00<?, ?it/s]c:\\Users\\swath\\anaconda3\\envs\\ml_env\\Lib\\site-packages\\torch_geometric\\data\\storage.py:452: UserWarning: Unable to accurately infer 'num_nodes' from the attribute set '{'i_indices', 'j_indices', 'edge_index'}'. Please explicitly set 'num_nodes' as an attribute of 'data' to suppress this warning\n",
            "  warnings.warn(\n",
            "train Epoch 75: 100%|██████████| 3836/3836 [02:16<00:00, 28.17it/s]\n",
            "val Epoch 75:   0%|          | 0/959 [00:00<?, ?it/s]c:\\Users\\swath\\anaconda3\\envs\\ml_env\\Lib\\site-packages\\torch_geometric\\data\\storage.py:452: UserWarning: Unable to accurately infer 'num_nodes' from the attribute set '{'i_indices', 'j_indices', 'edge_index'}'. Please explicitly set 'num_nodes' as an attribute of 'data' to suppress this warning\n",
            "  warnings.warn(\n",
            "val Epoch 75: 100%|██████████| 959/959 [00:24<00:00, 38.83it/s]\n",
            "test Epoch 75:   0%|          | 0/1199 [00:00<?, ?it/s]c:\\Users\\swath\\anaconda3\\envs\\ml_env\\Lib\\site-packages\\torch_geometric\\data\\storage.py:452: UserWarning: Unable to accurately infer 'num_nodes' from the attribute set '{'i_indices', 'j_indices', 'edge_index'}'. Please explicitly set 'num_nodes' as an attribute of 'data' to suppress this warning\n",
            "  warnings.warn(\n",
            "test Epoch 75: 100%|██████████| 1199/1199 [00:32<00:00, 37.07it/s]\n"
          ]
        },
        {
          "name": "stdout",
          "output_type": "stream",
          "text": [
            "\n",
            "#### Epoch time 193.5758s\n",
            "loss: 0.3380, acc: 0.8572, roc: 0.9294, f1: 0.8606, p: 0.8405, r: 0.8816, int-ap: 0.9184, ap: 0.9184\n",
            "#### Validation\n",
            "loss: 0.3250, acc: 0.8736, roc: 0.9429, f1: 0.8824, p: 0.8253, r: 0.9480, int-ap: 0.9303, ap: 0.9302\n",
            "#### Test\n",
            "loss: 0.3175, acc: 0.8742, roc: 0.9456, f1: 0.8828, p: 0.8263, r: 0.9477, int-ap: 0.9339, ap: 0.9339\n"
          ]
        },
        {
          "name": "stderr",
          "output_type": "stream",
          "text": [
            "train Epoch 76:   0%|          | 0/3836 [00:00<?, ?it/s]c:\\Users\\swath\\anaconda3\\envs\\ml_env\\Lib\\site-packages\\torch_geometric\\data\\storage.py:452: UserWarning: Unable to accurately infer 'num_nodes' from the attribute set '{'i_indices', 'j_indices', 'edge_index'}'. Please explicitly set 'num_nodes' as an attribute of 'data' to suppress this warning\n",
            "  warnings.warn(\n",
            "train Epoch 76: 100%|██████████| 3836/3836 [02:18<00:00, 27.60it/s]\n",
            "val Epoch 76:   0%|          | 0/959 [00:00<?, ?it/s]c:\\Users\\swath\\anaconda3\\envs\\ml_env\\Lib\\site-packages\\torch_geometric\\data\\storage.py:452: UserWarning: Unable to accurately infer 'num_nodes' from the attribute set '{'i_indices', 'j_indices', 'edge_index'}'. Please explicitly set 'num_nodes' as an attribute of 'data' to suppress this warning\n",
            "  warnings.warn(\n",
            "val Epoch 76: 100%|██████████| 959/959 [00:24<00:00, 38.65it/s]\n",
            "test Epoch 76:   0%|          | 0/1199 [00:00<?, ?it/s]c:\\Users\\swath\\anaconda3\\envs\\ml_env\\Lib\\site-packages\\torch_geometric\\data\\storage.py:452: UserWarning: Unable to accurately infer 'num_nodes' from the attribute set '{'i_indices', 'j_indices', 'edge_index'}'. Please explicitly set 'num_nodes' as an attribute of 'data' to suppress this warning\n",
            "  warnings.warn(\n",
            "test Epoch 76: 100%|██████████| 1199/1199 [00:31<00:00, 37.78it/s]\n"
          ]
        },
        {
          "name": "stdout",
          "output_type": "stream",
          "text": [
            "\n",
            "#### Epoch time 195.8821s\n",
            "loss: 0.3373, acc: 0.8581, roc: 0.9297, f1: 0.8614, p: 0.8417, r: 0.8819, int-ap: 0.9188, ap: 0.9188\n",
            "#### Validation\n",
            "loss: 0.3219, acc: 0.8749, roc: 0.9433, f1: 0.8833, p: 0.8277, r: 0.9469, int-ap: 0.9310, ap: 0.9310\n",
            "#### Test\n",
            "loss: 0.3150, acc: 0.8751, roc: 0.9457, f1: 0.8834, p: 0.8282, r: 0.9466, int-ap: 0.9346, ap: 0.9345\n"
          ]
        },
        {
          "name": "stderr",
          "output_type": "stream",
          "text": [
            "train Epoch 77:   0%|          | 0/3836 [00:00<?, ?it/s]c:\\Users\\swath\\anaconda3\\envs\\ml_env\\Lib\\site-packages\\torch_geometric\\data\\storage.py:452: UserWarning: Unable to accurately infer 'num_nodes' from the attribute set '{'i_indices', 'j_indices', 'edge_index'}'. Please explicitly set 'num_nodes' as an attribute of 'data' to suppress this warning\n",
            "  warnings.warn(\n",
            "train Epoch 77: 100%|██████████| 3836/3836 [02:13<00:00, 28.73it/s]\n",
            "val Epoch 77:   0%|          | 0/959 [00:00<?, ?it/s]c:\\Users\\swath\\anaconda3\\envs\\ml_env\\Lib\\site-packages\\torch_geometric\\data\\storage.py:452: UserWarning: Unable to accurately infer 'num_nodes' from the attribute set '{'i_indices', 'j_indices', 'edge_index'}'. Please explicitly set 'num_nodes' as an attribute of 'data' to suppress this warning\n",
            "  warnings.warn(\n",
            "val Epoch 77: 100%|██████████| 959/959 [00:25<00:00, 37.05it/s]\n",
            "test Epoch 77:   0%|          | 0/1199 [00:00<?, ?it/s]c:\\Users\\swath\\anaconda3\\envs\\ml_env\\Lib\\site-packages\\torch_geometric\\data\\storage.py:452: UserWarning: Unable to accurately infer 'num_nodes' from the attribute set '{'i_indices', 'j_indices', 'edge_index'}'. Please explicitly set 'num_nodes' as an attribute of 'data' to suppress this warning\n",
            "  warnings.warn(\n",
            "test Epoch 77: 100%|██████████| 1199/1199 [00:31<00:00, 38.00it/s]\n"
          ]
        },
        {
          "name": "stdout",
          "output_type": "stream",
          "text": [
            "\n",
            "#### Epoch time 191.3733s\n",
            "loss: 0.3385, acc: 0.8569, roc: 0.9292, f1: 0.8602, p: 0.8407, r: 0.8806, int-ap: 0.9183, ap: 0.9183\n",
            "#### Validation\n",
            "loss: 0.3242, acc: 0.8739, roc: 0.9435, f1: 0.8828, p: 0.8244, r: 0.9502, int-ap: 0.9307, ap: 0.9307\n",
            "#### Test\n",
            "loss: 0.3172, acc: 0.8734, roc: 0.9458, f1: 0.8823, p: 0.8244, r: 0.9489, int-ap: 0.9344, ap: 0.9344\n"
          ]
        },
        {
          "name": "stderr",
          "output_type": "stream",
          "text": [
            "train Epoch 78:   0%|          | 0/3836 [00:00<?, ?it/s]c:\\Users\\swath\\anaconda3\\envs\\ml_env\\Lib\\site-packages\\torch_geometric\\data\\storage.py:452: UserWarning: Unable to accurately infer 'num_nodes' from the attribute set '{'i_indices', 'j_indices', 'edge_index'}'. Please explicitly set 'num_nodes' as an attribute of 'data' to suppress this warning\n",
            "  warnings.warn(\n",
            "train Epoch 78: 100%|██████████| 3836/3836 [02:17<00:00, 27.92it/s]\n",
            "val Epoch 78:   0%|          | 0/959 [00:00<?, ?it/s]c:\\Users\\swath\\anaconda3\\envs\\ml_env\\Lib\\site-packages\\torch_geometric\\data\\storage.py:452: UserWarning: Unable to accurately infer 'num_nodes' from the attribute set '{'i_indices', 'j_indices', 'edge_index'}'. Please explicitly set 'num_nodes' as an attribute of 'data' to suppress this warning\n",
            "  warnings.warn(\n",
            "val Epoch 78: 100%|██████████| 959/959 [00:24<00:00, 39.25it/s]\n",
            "test Epoch 78:   0%|          | 0/1199 [00:00<?, ?it/s]c:\\Users\\swath\\anaconda3\\envs\\ml_env\\Lib\\site-packages\\torch_geometric\\data\\storage.py:452: UserWarning: Unable to accurately infer 'num_nodes' from the attribute set '{'i_indices', 'j_indices', 'edge_index'}'. Please explicitly set 'num_nodes' as an attribute of 'data' to suppress this warning\n",
            "  warnings.warn(\n",
            "test Epoch 78: 100%|██████████| 1199/1199 [00:30<00:00, 38.89it/s]\n"
          ]
        },
        {
          "name": "stdout",
          "output_type": "stream",
          "text": [
            "\n",
            "#### Epoch time 193.0741s\n",
            "loss: 0.3369, acc: 0.8578, roc: 0.9299, f1: 0.8612, p: 0.8415, r: 0.8818, int-ap: 0.9188, ap: 0.9188\n",
            "#### Validation\n",
            "loss: 0.3253, acc: 0.8740, roc: 0.9433, f1: 0.8829, p: 0.8247, r: 0.9499, int-ap: 0.9306, ap: 0.9306\n",
            "#### Test\n",
            "loss: 0.3182, acc: 0.8738, roc: 0.9457, f1: 0.8825, p: 0.8254, r: 0.9482, int-ap: 0.9344, ap: 0.9343\n"
          ]
        },
        {
          "name": "stderr",
          "output_type": "stream",
          "text": [
            "train Epoch 79:   0%|          | 0/3836 [00:00<?, ?it/s]c:\\Users\\swath\\anaconda3\\envs\\ml_env\\Lib\\site-packages\\torch_geometric\\data\\storage.py:452: UserWarning: Unable to accurately infer 'num_nodes' from the attribute set '{'i_indices', 'j_indices', 'edge_index'}'. Please explicitly set 'num_nodes' as an attribute of 'data' to suppress this warning\n",
            "  warnings.warn(\n",
            "train Epoch 79: 100%|██████████| 3836/3836 [02:16<00:00, 28.14it/s]\n",
            "val Epoch 79:   0%|          | 0/959 [00:00<?, ?it/s]c:\\Users\\swath\\anaconda3\\envs\\ml_env\\Lib\\site-packages\\torch_geometric\\data\\storage.py:452: UserWarning: Unable to accurately infer 'num_nodes' from the attribute set '{'i_indices', 'j_indices', 'edge_index'}'. Please explicitly set 'num_nodes' as an attribute of 'data' to suppress this warning\n",
            "  warnings.warn(\n",
            "val Epoch 79: 100%|██████████| 959/959 [00:24<00:00, 38.93it/s]\n",
            "test Epoch 79:   0%|          | 0/1199 [00:00<?, ?it/s]c:\\Users\\swath\\anaconda3\\envs\\ml_env\\Lib\\site-packages\\torch_geometric\\data\\storage.py:452: UserWarning: Unable to accurately infer 'num_nodes' from the attribute set '{'i_indices', 'j_indices', 'edge_index'}'. Please explicitly set 'num_nodes' as an attribute of 'data' to suppress this warning\n",
            "  warnings.warn(\n",
            "test Epoch 79: 100%|██████████| 1199/1199 [00:31<00:00, 37.54it/s]\n"
          ]
        },
        {
          "name": "stdout",
          "output_type": "stream",
          "text": [
            "\n",
            "#### Epoch time 193.2257s\n",
            "loss: 0.3369, acc: 0.8581, roc: 0.9299, f1: 0.8614, p: 0.8420, r: 0.8817, int-ap: 0.9190, ap: 0.9190\n",
            "#### Validation\n",
            "loss: 0.3177, acc: 0.8763, roc: 0.9443, f1: 0.8843, p: 0.8304, r: 0.9457, int-ap: 0.9319, ap: 0.9319\n",
            "#### Test\n",
            "loss: 0.3109, acc: 0.8767, roc: 0.9466, f1: 0.8846, p: 0.8317, r: 0.9447, int-ap: 0.9354, ap: 0.9354\n"
          ]
        },
        {
          "name": "stderr",
          "output_type": "stream",
          "text": [
            "train Epoch 80:   0%|          | 0/3836 [00:00<?, ?it/s]c:\\Users\\swath\\anaconda3\\envs\\ml_env\\Lib\\site-packages\\torch_geometric\\data\\storage.py:452: UserWarning: Unable to accurately infer 'num_nodes' from the attribute set '{'i_indices', 'j_indices', 'edge_index'}'. Please explicitly set 'num_nodes' as an attribute of 'data' to suppress this warning\n",
            "  warnings.warn(\n",
            "train Epoch 80: 100%|██████████| 3836/3836 [02:18<00:00, 27.75it/s]\n",
            "val Epoch 80:   0%|          | 0/959 [00:00<?, ?it/s]c:\\Users\\swath\\anaconda3\\envs\\ml_env\\Lib\\site-packages\\torch_geometric\\data\\storage.py:452: UserWarning: Unable to accurately infer 'num_nodes' from the attribute set '{'i_indices', 'j_indices', 'edge_index'}'. Please explicitly set 'num_nodes' as an attribute of 'data' to suppress this warning\n",
            "  warnings.warn(\n",
            "val Epoch 80: 100%|██████████| 959/959 [00:25<00:00, 37.29it/s]\n",
            "test Epoch 80:   0%|          | 0/1199 [00:00<?, ?it/s]c:\\Users\\swath\\anaconda3\\envs\\ml_env\\Lib\\site-packages\\torch_geometric\\data\\storage.py:452: UserWarning: Unable to accurately infer 'num_nodes' from the attribute set '{'i_indices', 'j_indices', 'edge_index'}'. Please explicitly set 'num_nodes' as an attribute of 'data' to suppress this warning\n",
            "  warnings.warn(\n",
            "test Epoch 80: 100%|██████████| 1199/1199 [00:31<00:00, 37.50it/s]\n"
          ]
        },
        {
          "name": "stdout",
          "output_type": "stream",
          "text": [
            "\n",
            "#### Epoch time 196.2765s\n",
            "loss: 0.3356, acc: 0.8583, roc: 0.9304, f1: 0.8616, p: 0.8420, r: 0.8822, int-ap: 0.9198, ap: 0.9198\n",
            "#### Validation\n",
            "loss: 0.3271, acc: 0.8731, roc: 0.9436, f1: 0.8825, p: 0.8216, r: 0.9532, int-ap: 0.9310, ap: 0.9309\n",
            "#### Test\n",
            "loss: 0.3204, acc: 0.8735, roc: 0.9458, f1: 0.8827, p: 0.8230, r: 0.9517, int-ap: 0.9341, ap: 0.9340\n"
          ]
        },
        {
          "name": "stderr",
          "output_type": "stream",
          "text": [
            "train Epoch 81:   0%|          | 0/3836 [00:00<?, ?it/s]c:\\Users\\swath\\anaconda3\\envs\\ml_env\\Lib\\site-packages\\torch_geometric\\data\\storage.py:452: UserWarning: Unable to accurately infer 'num_nodes' from the attribute set '{'i_indices', 'j_indices', 'edge_index'}'. Please explicitly set 'num_nodes' as an attribute of 'data' to suppress this warning\n",
            "  warnings.warn(\n",
            "train Epoch 81: 100%|██████████| 3836/3836 [02:19<00:00, 27.42it/s]\n",
            "val Epoch 81:   0%|          | 0/959 [00:00<?, ?it/s]c:\\Users\\swath\\anaconda3\\envs\\ml_env\\Lib\\site-packages\\torch_geometric\\data\\storage.py:452: UserWarning: Unable to accurately infer 'num_nodes' from the attribute set '{'i_indices', 'j_indices', 'edge_index'}'. Please explicitly set 'num_nodes' as an attribute of 'data' to suppress this warning\n",
            "  warnings.warn(\n",
            "val Epoch 81: 100%|██████████| 959/959 [00:25<00:00, 37.74it/s]\n",
            "test Epoch 81:   0%|          | 0/1199 [00:00<?, ?it/s]c:\\Users\\swath\\anaconda3\\envs\\ml_env\\Lib\\site-packages\\torch_geometric\\data\\storage.py:452: UserWarning: Unable to accurately infer 'num_nodes' from the attribute set '{'i_indices', 'j_indices', 'edge_index'}'. Please explicitly set 'num_nodes' as an attribute of 'data' to suppress this warning\n",
            "  warnings.warn(\n",
            "test Epoch 81: 100%|██████████| 1199/1199 [00:32<00:00, 36.73it/s]\n"
          ]
        },
        {
          "name": "stdout",
          "output_type": "stream",
          "text": [
            "\n",
            "#### Epoch time 198.2939s\n",
            "loss: 0.3374, acc: 0.8577, roc: 0.9296, f1: 0.8611, p: 0.8412, r: 0.8819, int-ap: 0.9188, ap: 0.9188\n",
            "#### Validation\n",
            "loss: 0.3242, acc: 0.8749, roc: 0.9437, f1: 0.8837, p: 0.8260, r: 0.9500, int-ap: 0.9313, ap: 0.9312\n",
            "#### Test\n",
            "loss: 0.3167, acc: 0.8748, roc: 0.9462, f1: 0.8834, p: 0.8265, r: 0.9489, int-ap: 0.9348, ap: 0.9347\n"
          ]
        },
        {
          "name": "stderr",
          "output_type": "stream",
          "text": [
            "train Epoch 82:   0%|          | 0/3836 [00:00<?, ?it/s]c:\\Users\\swath\\anaconda3\\envs\\ml_env\\Lib\\site-packages\\torch_geometric\\data\\storage.py:452: UserWarning: Unable to accurately infer 'num_nodes' from the attribute set '{'i_indices', 'j_indices', 'edge_index'}'. Please explicitly set 'num_nodes' as an attribute of 'data' to suppress this warning\n",
            "  warnings.warn(\n",
            "train Epoch 82: 100%|██████████| 3836/3836 [02:19<00:00, 27.59it/s]\n",
            "val Epoch 82:   0%|          | 0/959 [00:00<?, ?it/s]c:\\Users\\swath\\anaconda3\\envs\\ml_env\\Lib\\site-packages\\torch_geometric\\data\\storage.py:452: UserWarning: Unable to accurately infer 'num_nodes' from the attribute set '{'i_indices', 'j_indices', 'edge_index'}'. Please explicitly set 'num_nodes' as an attribute of 'data' to suppress this warning\n",
            "  warnings.warn(\n",
            "val Epoch 82: 100%|██████████| 959/959 [00:25<00:00, 37.60it/s]\n",
            "test Epoch 82:   0%|          | 0/1199 [00:00<?, ?it/s]c:\\Users\\swath\\anaconda3\\envs\\ml_env\\Lib\\site-packages\\torch_geometric\\data\\storage.py:452: UserWarning: Unable to accurately infer 'num_nodes' from the attribute set '{'i_indices', 'j_indices', 'edge_index'}'. Please explicitly set 'num_nodes' as an attribute of 'data' to suppress this warning\n",
            "  warnings.warn(\n",
            "test Epoch 82: 100%|██████████| 1199/1199 [00:31<00:00, 37.66it/s]\n"
          ]
        },
        {
          "name": "stdout",
          "output_type": "stream",
          "text": [
            "\n",
            "#### Epoch time 196.7209s\n",
            "loss: 0.3367, acc: 0.8580, roc: 0.9298, f1: 0.8614, p: 0.8414, r: 0.8825, int-ap: 0.9188, ap: 0.9188\n",
            "#### Validation\n",
            "loss: 0.3255, acc: 0.8725, roc: 0.9438, f1: 0.8818, p: 0.8221, r: 0.9508, int-ap: 0.9314, ap: 0.9313\n",
            "#### Test\n",
            "loss: 0.3187, acc: 0.8735, roc: 0.9460, f1: 0.8825, p: 0.8239, r: 0.9501, int-ap: 0.9347, ap: 0.9347\n"
          ]
        },
        {
          "name": "stderr",
          "output_type": "stream",
          "text": [
            "train Epoch 83:   0%|          | 0/3836 [00:00<?, ?it/s]c:\\Users\\swath\\anaconda3\\envs\\ml_env\\Lib\\site-packages\\torch_geometric\\data\\storage.py:452: UserWarning: Unable to accurately infer 'num_nodes' from the attribute set '{'i_indices', 'j_indices', 'edge_index'}'. Please explicitly set 'num_nodes' as an attribute of 'data' to suppress this warning\n",
            "  warnings.warn(\n",
            "train Epoch 83: 100%|██████████| 3836/3836 [02:22<00:00, 26.98it/s]\n",
            "val Epoch 83:   0%|          | 0/959 [00:00<?, ?it/s]c:\\Users\\swath\\anaconda3\\envs\\ml_env\\Lib\\site-packages\\torch_geometric\\data\\storage.py:452: UserWarning: Unable to accurately infer 'num_nodes' from the attribute set '{'i_indices', 'j_indices', 'edge_index'}'. Please explicitly set 'num_nodes' as an attribute of 'data' to suppress this warning\n",
            "  warnings.warn(\n",
            "val Epoch 83: 100%|██████████| 959/959 [00:27<00:00, 35.52it/s]\n",
            "test Epoch 83:   0%|          | 0/1199 [00:00<?, ?it/s]c:\\Users\\swath\\anaconda3\\envs\\ml_env\\Lib\\site-packages\\torch_geometric\\data\\storage.py:452: UserWarning: Unable to accurately infer 'num_nodes' from the attribute set '{'i_indices', 'j_indices', 'edge_index'}'. Please explicitly set 'num_nodes' as an attribute of 'data' to suppress this warning\n",
            "  warnings.warn(\n",
            "test Epoch 83: 100%|██████████| 1199/1199 [00:33<00:00, 36.23it/s]\n"
          ]
        },
        {
          "name": "stdout",
          "output_type": "stream",
          "text": [
            "\n",
            "#### Epoch time 202.6836s\n",
            "loss: 0.3360, acc: 0.8582, roc: 0.9303, f1: 0.8614, p: 0.8419, r: 0.8819, int-ap: 0.9198, ap: 0.9198\n",
            "#### Validation\n",
            "loss: 0.3226, acc: 0.8742, roc: 0.9443, f1: 0.8831, p: 0.8251, r: 0.9499, int-ap: 0.9317, ap: 0.9316\n",
            "#### Test\n",
            "loss: 0.3158, acc: 0.8748, roc: 0.9464, f1: 0.8834, p: 0.8266, r: 0.9486, int-ap: 0.9350, ap: 0.9350\n"
          ]
        },
        {
          "name": "stderr",
          "output_type": "stream",
          "text": [
            "train Epoch 84:   0%|          | 0/3836 [00:00<?, ?it/s]c:\\Users\\swath\\anaconda3\\envs\\ml_env\\Lib\\site-packages\\torch_geometric\\data\\storage.py:452: UserWarning: Unable to accurately infer 'num_nodes' from the attribute set '{'i_indices', 'j_indices', 'edge_index'}'. Please explicitly set 'num_nodes' as an attribute of 'data' to suppress this warning\n",
            "  warnings.warn(\n",
            "train Epoch 84: 100%|██████████| 3836/3836 [02:14<00:00, 28.46it/s]\n",
            "val Epoch 84:   0%|          | 0/959 [00:00<?, ?it/s]c:\\Users\\swath\\anaconda3\\envs\\ml_env\\Lib\\site-packages\\torch_geometric\\data\\storage.py:452: UserWarning: Unable to accurately infer 'num_nodes' from the attribute set '{'i_indices', 'j_indices', 'edge_index'}'. Please explicitly set 'num_nodes' as an attribute of 'data' to suppress this warning\n",
            "  warnings.warn(\n",
            "val Epoch 84: 100%|██████████| 959/959 [00:24<00:00, 38.54it/s]\n",
            "test Epoch 84:   0%|          | 0/1199 [00:00<?, ?it/s]c:\\Users\\swath\\anaconda3\\envs\\ml_env\\Lib\\site-packages\\torch_geometric\\data\\storage.py:452: UserWarning: Unable to accurately infer 'num_nodes' from the attribute set '{'i_indices', 'j_indices', 'edge_index'}'. Please explicitly set 'num_nodes' as an attribute of 'data' to suppress this warning\n",
            "  warnings.warn(\n",
            "test Epoch 84: 100%|██████████| 1199/1199 [00:31<00:00, 37.56it/s]\n"
          ]
        },
        {
          "name": "stdout",
          "output_type": "stream",
          "text": [
            "\n",
            "#### Epoch time 191.9575s\n",
            "loss: 0.3339, acc: 0.8590, roc: 0.9310, f1: 0.8623, p: 0.8430, r: 0.8825, int-ap: 0.9204, ap: 0.9204\n",
            "#### Validation\n",
            "loss: 0.3194, acc: 0.8752, roc: 0.9442, f1: 0.8837, p: 0.8275, r: 0.9481, int-ap: 0.9319, ap: 0.9319\n",
            "#### Test\n",
            "loss: 0.3123, acc: 0.8760, roc: 0.9466, f1: 0.8843, p: 0.8290, r: 0.9474, int-ap: 0.9356, ap: 0.9355\n"
          ]
        },
        {
          "name": "stderr",
          "output_type": "stream",
          "text": [
            "train Epoch 85:   0%|          | 0/3836 [00:00<?, ?it/s]c:\\Users\\swath\\anaconda3\\envs\\ml_env\\Lib\\site-packages\\torch_geometric\\data\\storage.py:452: UserWarning: Unable to accurately infer 'num_nodes' from the attribute set '{'i_indices', 'j_indices', 'edge_index'}'. Please explicitly set 'num_nodes' as an attribute of 'data' to suppress this warning\n",
            "  warnings.warn(\n",
            "train Epoch 85: 100%|██████████| 3836/3836 [02:19<00:00, 27.57it/s]\n",
            "val Epoch 85:   0%|          | 0/959 [00:00<?, ?it/s]c:\\Users\\swath\\anaconda3\\envs\\ml_env\\Lib\\site-packages\\torch_geometric\\data\\storage.py:452: UserWarning: Unable to accurately infer 'num_nodes' from the attribute set '{'i_indices', 'j_indices', 'edge_index'}'. Please explicitly set 'num_nodes' as an attribute of 'data' to suppress this warning\n",
            "  warnings.warn(\n",
            "val Epoch 85: 100%|██████████| 959/959 [00:26<00:00, 36.27it/s]\n",
            "test Epoch 85:   0%|          | 0/1199 [00:00<?, ?it/s]c:\\Users\\swath\\anaconda3\\envs\\ml_env\\Lib\\site-packages\\torch_geometric\\data\\storage.py:452: UserWarning: Unable to accurately infer 'num_nodes' from the attribute set '{'i_indices', 'j_indices', 'edge_index'}'. Please explicitly set 'num_nodes' as an attribute of 'data' to suppress this warning\n",
            "  warnings.warn(\n",
            "test Epoch 85: 100%|██████████| 1199/1199 [00:33<00:00, 36.31it/s]\n"
          ]
        },
        {
          "name": "stdout",
          "output_type": "stream",
          "text": [
            "\n",
            "#### Epoch time 198.9627s\n",
            "loss: 0.3356, acc: 0.8590, roc: 0.9305, f1: 0.8622, p: 0.8427, r: 0.8827, int-ap: 0.9195, ap: 0.9195\n",
            "#### Validation\n",
            "loss: 0.3293, acc: 0.8716, roc: 0.9434, f1: 0.8812, p: 0.8198, r: 0.9525, int-ap: 0.9311, ap: 0.9310\n",
            "#### Test\n",
            "loss: 0.3217, acc: 0.8731, roc: 0.9459, f1: 0.8825, p: 0.8218, r: 0.9528, int-ap: 0.9345, ap: 0.9345\n"
          ]
        },
        {
          "name": "stderr",
          "output_type": "stream",
          "text": [
            "train Epoch 86:   0%|          | 0/3836 [00:00<?, ?it/s]c:\\Users\\swath\\anaconda3\\envs\\ml_env\\Lib\\site-packages\\torch_geometric\\data\\storage.py:452: UserWarning: Unable to accurately infer 'num_nodes' from the attribute set '{'i_indices', 'j_indices', 'edge_index'}'. Please explicitly set 'num_nodes' as an attribute of 'data' to suppress this warning\n",
            "  warnings.warn(\n",
            "train Epoch 86: 100%|██████████| 3836/3836 [02:16<00:00, 28.18it/s]\n",
            "val Epoch 86:   0%|          | 0/959 [00:00<?, ?it/s]c:\\Users\\swath\\anaconda3\\envs\\ml_env\\Lib\\site-packages\\torch_geometric\\data\\storage.py:452: UserWarning: Unable to accurately infer 'num_nodes' from the attribute set '{'i_indices', 'j_indices', 'edge_index'}'. Please explicitly set 'num_nodes' as an attribute of 'data' to suppress this warning\n",
            "  warnings.warn(\n",
            "val Epoch 86: 100%|██████████| 959/959 [00:25<00:00, 37.63it/s]\n",
            "test Epoch 86:   0%|          | 0/1199 [00:00<?, ?it/s]c:\\Users\\swath\\anaconda3\\envs\\ml_env\\Lib\\site-packages\\torch_geometric\\data\\storage.py:452: UserWarning: Unable to accurately infer 'num_nodes' from the attribute set '{'i_indices', 'j_indices', 'edge_index'}'. Please explicitly set 'num_nodes' as an attribute of 'data' to suppress this warning\n",
            "  warnings.warn(\n",
            "test Epoch 86: 100%|██████████| 1199/1199 [00:32<00:00, 36.44it/s]\n"
          ]
        },
        {
          "name": "stdout",
          "output_type": "stream",
          "text": [
            "\n",
            "#### Epoch time 194.8568s\n",
            "loss: 0.3350, acc: 0.8590, roc: 0.9307, f1: 0.8622, p: 0.8426, r: 0.8829, int-ap: 0.9198, ap: 0.9198\n",
            "#### Validation\n",
            "loss: 0.3211, acc: 0.8754, roc: 0.9442, f1: 0.8839, p: 0.8274, r: 0.9486, int-ap: 0.9319, ap: 0.9319\n",
            "#### Test\n",
            "loss: 0.3137, acc: 0.8764, roc: 0.9468, f1: 0.8847, p: 0.8290, r: 0.9485, int-ap: 0.9356, ap: 0.9355\n"
          ]
        },
        {
          "name": "stderr",
          "output_type": "stream",
          "text": [
            "train Epoch 87:   0%|          | 0/3836 [00:00<?, ?it/s]c:\\Users\\swath\\anaconda3\\envs\\ml_env\\Lib\\site-packages\\torch_geometric\\data\\storage.py:452: UserWarning: Unable to accurately infer 'num_nodes' from the attribute set '{'i_indices', 'j_indices', 'edge_index'}'. Please explicitly set 'num_nodes' as an attribute of 'data' to suppress this warning\n",
            "  warnings.warn(\n",
            "train Epoch 87: 100%|██████████| 3836/3836 [02:18<00:00, 27.72it/s]\n",
            "val Epoch 87:   0%|          | 0/959 [00:00<?, ?it/s]c:\\Users\\swath\\anaconda3\\envs\\ml_env\\Lib\\site-packages\\torch_geometric\\data\\storage.py:452: UserWarning: Unable to accurately infer 'num_nodes' from the attribute set '{'i_indices', 'j_indices', 'edge_index'}'. Please explicitly set 'num_nodes' as an attribute of 'data' to suppress this warning\n",
            "  warnings.warn(\n",
            "val Epoch 87: 100%|██████████| 959/959 [00:25<00:00, 37.57it/s]\n",
            "test Epoch 87:   0%|          | 0/1199 [00:00<?, ?it/s]c:\\Users\\swath\\anaconda3\\envs\\ml_env\\Lib\\site-packages\\torch_geometric\\data\\storage.py:452: UserWarning: Unable to accurately infer 'num_nodes' from the attribute set '{'i_indices', 'j_indices', 'edge_index'}'. Please explicitly set 'num_nodes' as an attribute of 'data' to suppress this warning\n",
            "  warnings.warn(\n",
            "test Epoch 87: 100%|██████████| 1199/1199 [00:31<00:00, 37.66it/s]\n"
          ]
        },
        {
          "name": "stdout",
          "output_type": "stream",
          "text": [
            "\n",
            "#### Epoch time 196.1054s\n",
            "loss: 0.3344, acc: 0.8591, roc: 0.9309, f1: 0.8624, p: 0.8429, r: 0.8828, int-ap: 0.9204, ap: 0.9204\n",
            "#### Validation\n",
            "loss: 0.3236, acc: 0.8743, roc: 0.9444, f1: 0.8832, p: 0.8248, r: 0.9506, int-ap: 0.9320, ap: 0.9320\n",
            "#### Test\n",
            "loss: 0.3164, acc: 0.8749, roc: 0.9467, f1: 0.8837, p: 0.8260, r: 0.9500, int-ap: 0.9354, ap: 0.9353\n"
          ]
        },
        {
          "name": "stderr",
          "output_type": "stream",
          "text": [
            "train Epoch 88:   0%|          | 0/3836 [00:00<?, ?it/s]c:\\Users\\swath\\anaconda3\\envs\\ml_env\\Lib\\site-packages\\torch_geometric\\data\\storage.py:452: UserWarning: Unable to accurately infer 'num_nodes' from the attribute set '{'i_indices', 'j_indices', 'edge_index'}'. Please explicitly set 'num_nodes' as an attribute of 'data' to suppress this warning\n",
            "  warnings.warn(\n",
            "train Epoch 88: 100%|██████████| 3836/3836 [02:16<00:00, 28.02it/s]\n",
            "val Epoch 88:   0%|          | 0/959 [00:00<?, ?it/s]c:\\Users\\swath\\anaconda3\\envs\\ml_env\\Lib\\site-packages\\torch_geometric\\data\\storage.py:452: UserWarning: Unable to accurately infer 'num_nodes' from the attribute set '{'i_indices', 'j_indices', 'edge_index'}'. Please explicitly set 'num_nodes' as an attribute of 'data' to suppress this warning\n",
            "  warnings.warn(\n",
            "val Epoch 88: 100%|██████████| 959/959 [00:25<00:00, 38.28it/s]\n",
            "test Epoch 88:   0%|          | 0/1199 [00:00<?, ?it/s]c:\\Users\\swath\\anaconda3\\envs\\ml_env\\Lib\\site-packages\\torch_geometric\\data\\storage.py:452: UserWarning: Unable to accurately infer 'num_nodes' from the attribute set '{'i_indices', 'j_indices', 'edge_index'}'. Please explicitly set 'num_nodes' as an attribute of 'data' to suppress this warning\n",
            "  warnings.warn(\n",
            "test Epoch 88: 100%|██████████| 1199/1199 [00:33<00:00, 36.21it/s]\n"
          ]
        },
        {
          "name": "stdout",
          "output_type": "stream",
          "text": [
            "\n",
            "#### Epoch time 195.4698s\n",
            "loss: 0.3345, acc: 0.8582, roc: 0.9307, f1: 0.8613, p: 0.8425, r: 0.8811, int-ap: 0.9204, ap: 0.9204\n",
            "#### Validation\n",
            "loss: 0.3229, acc: 0.8750, roc: 0.9445, f1: 0.8838, p: 0.8255, r: 0.9510, int-ap: 0.9322, ap: 0.9322\n",
            "#### Test\n",
            "loss: 0.3158, acc: 0.8751, roc: 0.9468, f1: 0.8839, p: 0.8261, r: 0.9503, int-ap: 0.9355, ap: 0.9355\n"
          ]
        },
        {
          "name": "stderr",
          "output_type": "stream",
          "text": [
            "train Epoch 89:   0%|          | 0/3836 [00:00<?, ?it/s]c:\\Users\\swath\\anaconda3\\envs\\ml_env\\Lib\\site-packages\\torch_geometric\\data\\storage.py:452: UserWarning: Unable to accurately infer 'num_nodes' from the attribute set '{'i_indices', 'j_indices', 'edge_index'}'. Please explicitly set 'num_nodes' as an attribute of 'data' to suppress this warning\n",
            "  warnings.warn(\n",
            "train Epoch 89: 100%|██████████| 3836/3836 [02:17<00:00, 27.95it/s]\n",
            "val Epoch 89:   0%|          | 0/959 [00:00<?, ?it/s]c:\\Users\\swath\\anaconda3\\envs\\ml_env\\Lib\\site-packages\\torch_geometric\\data\\storage.py:452: UserWarning: Unable to accurately infer 'num_nodes' from the attribute set '{'i_indices', 'j_indices', 'edge_index'}'. Please explicitly set 'num_nodes' as an attribute of 'data' to suppress this warning\n",
            "  warnings.warn(\n",
            "val Epoch 89: 100%|██████████| 959/959 [00:25<00:00, 37.60it/s]\n",
            "test Epoch 89:   0%|          | 0/1199 [00:00<?, ?it/s]c:\\Users\\swath\\anaconda3\\envs\\ml_env\\Lib\\site-packages\\torch_geometric\\data\\storage.py:452: UserWarning: Unable to accurately infer 'num_nodes' from the attribute set '{'i_indices', 'j_indices', 'edge_index'}'. Please explicitly set 'num_nodes' as an attribute of 'data' to suppress this warning\n",
            "  warnings.warn(\n",
            "test Epoch 89: 100%|██████████| 1199/1199 [00:33<00:00, 35.85it/s]\n"
          ]
        },
        {
          "name": "stdout",
          "output_type": "stream",
          "text": [
            "\n",
            "#### Epoch time 196.5427s\n",
            "loss: 0.3366, acc: 0.8576, roc: 0.9299, f1: 0.8609, p: 0.8413, r: 0.8814, int-ap: 0.9191, ap: 0.9191\n",
            "#### Validation\n",
            "loss: 0.3221, acc: 0.8749, roc: 0.9445, f1: 0.8839, p: 0.8250, r: 0.9517, int-ap: 0.9321, ap: 0.9321\n",
            "#### Test\n",
            "loss: 0.3142, acc: 0.8757, roc: 0.9471, f1: 0.8843, p: 0.8267, r: 0.9506, int-ap: 0.9359, ap: 0.9358\n"
          ]
        },
        {
          "name": "stderr",
          "output_type": "stream",
          "text": [
            "train Epoch 90:   0%|          | 0/3836 [00:00<?, ?it/s]c:\\Users\\swath\\anaconda3\\envs\\ml_env\\Lib\\site-packages\\torch_geometric\\data\\storage.py:452: UserWarning: Unable to accurately infer 'num_nodes' from the attribute set '{'i_indices', 'j_indices', 'edge_index'}'. Please explicitly set 'num_nodes' as an attribute of 'data' to suppress this warning\n",
            "  warnings.warn(\n",
            "train Epoch 90: 100%|██████████| 3836/3836 [02:14<00:00, 28.44it/s]\n",
            "val Epoch 90:   0%|          | 0/959 [00:00<?, ?it/s]c:\\Users\\swath\\anaconda3\\envs\\ml_env\\Lib\\site-packages\\torch_geometric\\data\\storage.py:452: UserWarning: Unable to accurately infer 'num_nodes' from the attribute set '{'i_indices', 'j_indices', 'edge_index'}'. Please explicitly set 'num_nodes' as an attribute of 'data' to suppress this warning\n",
            "  warnings.warn(\n",
            "val Epoch 90: 100%|██████████| 959/959 [00:25<00:00, 37.95it/s]\n",
            "test Epoch 90:   0%|          | 0/1199 [00:00<?, ?it/s]c:\\Users\\swath\\anaconda3\\envs\\ml_env\\Lib\\site-packages\\torch_geometric\\data\\storage.py:452: UserWarning: Unable to accurately infer 'num_nodes' from the attribute set '{'i_indices', 'j_indices', 'edge_index'}'. Please explicitly set 'num_nodes' as an attribute of 'data' to suppress this warning\n",
            "  warnings.warn(\n",
            "test Epoch 90: 100%|██████████| 1199/1199 [00:32<00:00, 36.75it/s]\n"
          ]
        },
        {
          "name": "stdout",
          "output_type": "stream",
          "text": [
            "\n",
            "#### Epoch time 193.1185s\n",
            "loss: 0.3331, acc: 0.8598, roc: 0.9316, f1: 0.8631, p: 0.8433, r: 0.8839, int-ap: 0.9210, ap: 0.9210\n",
            "#### Validation\n",
            "loss: 0.3241, acc: 0.8744, roc: 0.9444, f1: 0.8834, p: 0.8242, r: 0.9519, int-ap: 0.9319, ap: 0.9318\n",
            "#### Test\n",
            "loss: 0.3166, acc: 0.8752, roc: 0.9468, f1: 0.8841, p: 0.8256, r: 0.9515, int-ap: 0.9354, ap: 0.9354\n"
          ]
        },
        {
          "name": "stderr",
          "output_type": "stream",
          "text": [
            "train Epoch 91:   0%|          | 0/3836 [00:00<?, ?it/s]c:\\Users\\swath\\anaconda3\\envs\\ml_env\\Lib\\site-packages\\torch_geometric\\data\\storage.py:452: UserWarning: Unable to accurately infer 'num_nodes' from the attribute set '{'i_indices', 'j_indices', 'edge_index'}'. Please explicitly set 'num_nodes' as an attribute of 'data' to suppress this warning\n",
            "  warnings.warn(\n",
            "train Epoch 91: 100%|██████████| 3836/3836 [02:16<00:00, 28.07it/s]\n",
            "val Epoch 91:   0%|          | 0/959 [00:00<?, ?it/s]c:\\Users\\swath\\anaconda3\\envs\\ml_env\\Lib\\site-packages\\torch_geometric\\data\\storage.py:452: UserWarning: Unable to accurately infer 'num_nodes' from the attribute set '{'i_indices', 'j_indices', 'edge_index'}'. Please explicitly set 'num_nodes' as an attribute of 'data' to suppress this warning\n",
            "  warnings.warn(\n",
            "val Epoch 91: 100%|██████████| 959/959 [00:24<00:00, 38.61it/s]\n",
            "test Epoch 91:   0%|          | 0/1199 [00:00<?, ?it/s]c:\\Users\\swath\\anaconda3\\envs\\ml_env\\Lib\\site-packages\\torch_geometric\\data\\storage.py:452: UserWarning: Unable to accurately infer 'num_nodes' from the attribute set '{'i_indices', 'j_indices', 'edge_index'}'. Please explicitly set 'num_nodes' as an attribute of 'data' to suppress this warning\n",
            "  warnings.warn(\n",
            "test Epoch 91: 100%|██████████| 1199/1199 [00:31<00:00, 38.36it/s]\n"
          ]
        },
        {
          "name": "stdout",
          "output_type": "stream",
          "text": [
            "\n",
            "#### Epoch time 193.1288s\n",
            "loss: 0.3344, acc: 0.8586, roc: 0.9307, f1: 0.8619, p: 0.8423, r: 0.8823, int-ap: 0.9200, ap: 0.9200\n",
            "#### Validation\n",
            "loss: 0.3210, acc: 0.8757, roc: 0.9446, f1: 0.8843, p: 0.8274, r: 0.9496, int-ap: 0.9321, ap: 0.9321\n",
            "#### Test\n",
            "loss: 0.3138, acc: 0.8755, roc: 0.9469, f1: 0.8840, p: 0.8279, r: 0.9482, int-ap: 0.9356, ap: 0.9355\n"
          ]
        },
        {
          "name": "stderr",
          "output_type": "stream",
          "text": [
            "train Epoch 92:   0%|          | 0/3836 [00:00<?, ?it/s]c:\\Users\\swath\\anaconda3\\envs\\ml_env\\Lib\\site-packages\\torch_geometric\\data\\storage.py:452: UserWarning: Unable to accurately infer 'num_nodes' from the attribute set '{'i_indices', 'j_indices', 'edge_index'}'. Please explicitly set 'num_nodes' as an attribute of 'data' to suppress this warning\n",
            "  warnings.warn(\n",
            "train Epoch 92: 100%|██████████| 3836/3836 [02:15<00:00, 28.23it/s]\n",
            "val Epoch 92:   0%|          | 0/959 [00:00<?, ?it/s]c:\\Users\\swath\\anaconda3\\envs\\ml_env\\Lib\\site-packages\\torch_geometric\\data\\storage.py:452: UserWarning: Unable to accurately infer 'num_nodes' from the attribute set '{'i_indices', 'j_indices', 'edge_index'}'. Please explicitly set 'num_nodes' as an attribute of 'data' to suppress this warning\n",
            "  warnings.warn(\n",
            "val Epoch 92: 100%|██████████| 959/959 [00:25<00:00, 37.42it/s]\n",
            "test Epoch 92:   0%|          | 0/1199 [00:00<?, ?it/s]c:\\Users\\swath\\anaconda3\\envs\\ml_env\\Lib\\site-packages\\torch_geometric\\data\\storage.py:452: UserWarning: Unable to accurately infer 'num_nodes' from the attribute set '{'i_indices', 'j_indices', 'edge_index'}'. Please explicitly set 'num_nodes' as an attribute of 'data' to suppress this warning\n",
            "  warnings.warn(\n",
            "test Epoch 92: 100%|██████████| 1199/1199 [00:32<00:00, 36.78it/s]\n"
          ]
        },
        {
          "name": "stdout",
          "output_type": "stream",
          "text": [
            "\n",
            "#### Epoch time 194.4719s\n",
            "loss: 0.3328, acc: 0.8600, roc: 0.9314, f1: 0.8633, p: 0.8437, r: 0.8839, int-ap: 0.9207, ap: 0.9207\n",
            "#### Validation\n",
            "loss: 0.3228, acc: 0.8754, roc: 0.9448, f1: 0.8842, p: 0.8256, r: 0.9518, int-ap: 0.9324, ap: 0.9323\n",
            "#### Test\n",
            "loss: 0.3153, acc: 0.8756, roc: 0.9472, f1: 0.8843, p: 0.8264, r: 0.9509, int-ap: 0.9359, ap: 0.9358\n"
          ]
        },
        {
          "name": "stderr",
          "output_type": "stream",
          "text": [
            "train Epoch 93:   0%|          | 0/3836 [00:00<?, ?it/s]c:\\Users\\swath\\anaconda3\\envs\\ml_env\\Lib\\site-packages\\torch_geometric\\data\\storage.py:452: UserWarning: Unable to accurately infer 'num_nodes' from the attribute set '{'i_indices', 'j_indices', 'edge_index'}'. Please explicitly set 'num_nodes' as an attribute of 'data' to suppress this warning\n",
            "  warnings.warn(\n",
            "train Epoch 93: 100%|██████████| 3836/3836 [02:18<00:00, 27.68it/s]\n",
            "val Epoch 93:   0%|          | 0/959 [00:00<?, ?it/s]c:\\Users\\swath\\anaconda3\\envs\\ml_env\\Lib\\site-packages\\torch_geometric\\data\\storage.py:452: UserWarning: Unable to accurately infer 'num_nodes' from the attribute set '{'i_indices', 'j_indices', 'edge_index'}'. Please explicitly set 'num_nodes' as an attribute of 'data' to suppress this warning\n",
            "  warnings.warn(\n",
            "val Epoch 93: 100%|██████████| 959/959 [00:24<00:00, 39.01it/s]\n",
            "test Epoch 93:   0%|          | 0/1199 [00:00<?, ?it/s]c:\\Users\\swath\\anaconda3\\envs\\ml_env\\Lib\\site-packages\\torch_geometric\\data\\storage.py:452: UserWarning: Unable to accurately infer 'num_nodes' from the attribute set '{'i_indices', 'j_indices', 'edge_index'}'. Please explicitly set 'num_nodes' as an attribute of 'data' to suppress this warning\n",
            "  warnings.warn(\n",
            "test Epoch 93: 100%|██████████| 1199/1199 [00:31<00:00, 38.20it/s]\n"
          ]
        },
        {
          "name": "stdout",
          "output_type": "stream",
          "text": [
            "\n",
            "#### Epoch time 194.9133s\n",
            "loss: 0.3312, acc: 0.8602, roc: 0.9321, f1: 0.8634, p: 0.8440, r: 0.8837, int-ap: 0.9214, ap: 0.9214\n",
            "#### Validation\n",
            "loss: 0.3223, acc: 0.8755, roc: 0.9446, f1: 0.8842, p: 0.8264, r: 0.9507, int-ap: 0.9321, ap: 0.9321\n",
            "#### Test\n",
            "loss: 0.3144, acc: 0.8762, roc: 0.9472, f1: 0.8847, p: 0.8279, r: 0.9499, int-ap: 0.9360, ap: 0.9359\n"
          ]
        },
        {
          "name": "stderr",
          "output_type": "stream",
          "text": [
            "train Epoch 94:   0%|          | 0/3836 [00:00<?, ?it/s]c:\\Users\\swath\\anaconda3\\envs\\ml_env\\Lib\\site-packages\\torch_geometric\\data\\storage.py:452: UserWarning: Unable to accurately infer 'num_nodes' from the attribute set '{'i_indices', 'j_indices', 'edge_index'}'. Please explicitly set 'num_nodes' as an attribute of 'data' to suppress this warning\n",
            "  warnings.warn(\n",
            "train Epoch 94: 100%|██████████| 3836/3836 [02:18<00:00, 27.76it/s]\n",
            "val Epoch 94:   0%|          | 0/959 [00:00<?, ?it/s]c:\\Users\\swath\\anaconda3\\envs\\ml_env\\Lib\\site-packages\\torch_geometric\\data\\storage.py:452: UserWarning: Unable to accurately infer 'num_nodes' from the attribute set '{'i_indices', 'j_indices', 'edge_index'}'. Please explicitly set 'num_nodes' as an attribute of 'data' to suppress this warning\n",
            "  warnings.warn(\n",
            "val Epoch 94: 100%|██████████| 959/959 [00:25<00:00, 37.50it/s]\n",
            "test Epoch 94:   0%|          | 0/1199 [00:00<?, ?it/s]c:\\Users\\swath\\anaconda3\\envs\\ml_env\\Lib\\site-packages\\torch_geometric\\data\\storage.py:452: UserWarning: Unable to accurately infer 'num_nodes' from the attribute set '{'i_indices', 'j_indices', 'edge_index'}'. Please explicitly set 'num_nodes' as an attribute of 'data' to suppress this warning\n",
            "  warnings.warn(\n",
            "test Epoch 94: 100%|██████████| 1199/1199 [00:32<00:00, 36.56it/s]\n"
          ]
        },
        {
          "name": "stdout",
          "output_type": "stream",
          "text": [
            "\n",
            "#### Epoch time 196.9201s\n",
            "loss: 0.3333, acc: 0.8603, roc: 0.9314, f1: 0.8636, p: 0.8437, r: 0.8844, int-ap: 0.9207, ap: 0.9207\n",
            "#### Validation\n",
            "loss: 0.3212, acc: 0.8753, roc: 0.9448, f1: 0.8841, p: 0.8260, r: 0.9510, int-ap: 0.9324, ap: 0.9323\n",
            "#### Test\n",
            "loss: 0.3140, acc: 0.8760, roc: 0.9472, f1: 0.8845, p: 0.8274, r: 0.9501, int-ap: 0.9358, ap: 0.9357\n"
          ]
        },
        {
          "name": "stderr",
          "output_type": "stream",
          "text": [
            "train Epoch 95:   0%|          | 0/3836 [00:00<?, ?it/s]c:\\Users\\swath\\anaconda3\\envs\\ml_env\\Lib\\site-packages\\torch_geometric\\data\\storage.py:452: UserWarning: Unable to accurately infer 'num_nodes' from the attribute set '{'i_indices', 'j_indices', 'edge_index'}'. Please explicitly set 'num_nodes' as an attribute of 'data' to suppress this warning\n",
            "  warnings.warn(\n",
            "train Epoch 95: 100%|██████████| 3836/3836 [02:16<00:00, 28.19it/s]\n",
            "val Epoch 95:   0%|          | 0/959 [00:00<?, ?it/s]c:\\Users\\swath\\anaconda3\\envs\\ml_env\\Lib\\site-packages\\torch_geometric\\data\\storage.py:452: UserWarning: Unable to accurately infer 'num_nodes' from the attribute set '{'i_indices', 'j_indices', 'edge_index'}'. Please explicitly set 'num_nodes' as an attribute of 'data' to suppress this warning\n",
            "  warnings.warn(\n",
            "val Epoch 95: 100%|██████████| 959/959 [00:25<00:00, 38.22it/s]\n",
            "test Epoch 95:   0%|          | 0/1199 [00:00<?, ?it/s]c:\\Users\\swath\\anaconda3\\envs\\ml_env\\Lib\\site-packages\\torch_geometric\\data\\storage.py:452: UserWarning: Unable to accurately infer 'num_nodes' from the attribute set '{'i_indices', 'j_indices', 'edge_index'}'. Please explicitly set 'num_nodes' as an attribute of 'data' to suppress this warning\n",
            "  warnings.warn(\n",
            "test Epoch 95: 100%|██████████| 1199/1199 [00:31<00:00, 37.74it/s]\n"
          ]
        },
        {
          "name": "stdout",
          "output_type": "stream",
          "text": [
            "\n",
            "#### Epoch time 193.3130s\n",
            "loss: 0.3324, acc: 0.8606, roc: 0.9318, f1: 0.8638, p: 0.8443, r: 0.8842, int-ap: 0.9213, ap: 0.9213\n",
            "#### Validation\n",
            "loss: 0.3175, acc: 0.8767, roc: 0.9452, f1: 0.8851, p: 0.8287, r: 0.9499, int-ap: 0.9331, ap: 0.9331\n",
            "#### Test\n",
            "loss: 0.3104, acc: 0.8773, roc: 0.9477, f1: 0.8855, p: 0.8305, r: 0.9482, int-ap: 0.9366, ap: 0.9366\n"
          ]
        },
        {
          "name": "stderr",
          "output_type": "stream",
          "text": [
            "train Epoch 96:   0%|          | 0/3836 [00:00<?, ?it/s]c:\\Users\\swath\\anaconda3\\envs\\ml_env\\Lib\\site-packages\\torch_geometric\\data\\storage.py:452: UserWarning: Unable to accurately infer 'num_nodes' from the attribute set '{'i_indices', 'j_indices', 'edge_index'}'. Please explicitly set 'num_nodes' as an attribute of 'data' to suppress this warning\n",
            "  warnings.warn(\n",
            "train Epoch 96: 100%|██████████| 3836/3836 [02:20<00:00, 27.33it/s]\n",
            "val Epoch 96:   0%|          | 0/959 [00:00<?, ?it/s]c:\\Users\\swath\\anaconda3\\envs\\ml_env\\Lib\\site-packages\\torch_geometric\\data\\storage.py:452: UserWarning: Unable to accurately infer 'num_nodes' from the attribute set '{'i_indices', 'j_indices', 'edge_index'}'. Please explicitly set 'num_nodes' as an attribute of 'data' to suppress this warning\n",
            "  warnings.warn(\n",
            "val Epoch 96: 100%|██████████| 959/959 [00:26<00:00, 36.22it/s]\n",
            "test Epoch 96:   0%|          | 0/1199 [00:00<?, ?it/s]c:\\Users\\swath\\anaconda3\\envs\\ml_env\\Lib\\site-packages\\torch_geometric\\data\\storage.py:452: UserWarning: Unable to accurately infer 'num_nodes' from the attribute set '{'i_indices', 'j_indices', 'edge_index'}'. Please explicitly set 'num_nodes' as an attribute of 'data' to suppress this warning\n",
            "  warnings.warn(\n",
            "test Epoch 96: 100%|██████████| 1199/1199 [00:33<00:00, 36.18it/s]\n"
          ]
        },
        {
          "name": "stdout",
          "output_type": "stream",
          "text": [
            "\n",
            "#### Epoch time 200.3197s\n",
            "loss: 0.3322, acc: 0.8608, roc: 0.9319, f1: 0.8641, p: 0.8442, r: 0.8849, int-ap: 0.9213, ap: 0.9213\n",
            "#### Validation\n",
            "loss: 0.3231, acc: 0.8748, roc: 0.9450, f1: 0.8838, p: 0.8242, r: 0.9528, int-ap: 0.9324, ap: 0.9324\n",
            "#### Test\n",
            "loss: 0.3153, acc: 0.8754, roc: 0.9475, f1: 0.8842, p: 0.8258, r: 0.9516, int-ap: 0.9362, ap: 0.9361\n"
          ]
        },
        {
          "name": "stderr",
          "output_type": "stream",
          "text": [
            "train Epoch 97:   0%|          | 0/3836 [00:00<?, ?it/s]c:\\Users\\swath\\anaconda3\\envs\\ml_env\\Lib\\site-packages\\torch_geometric\\data\\storage.py:452: UserWarning: Unable to accurately infer 'num_nodes' from the attribute set '{'i_indices', 'j_indices', 'edge_index'}'. Please explicitly set 'num_nodes' as an attribute of 'data' to suppress this warning\n",
            "  warnings.warn(\n",
            "train Epoch 97: 100%|██████████| 3836/3836 [02:20<00:00, 27.36it/s]\n",
            "val Epoch 97:   0%|          | 0/959 [00:00<?, ?it/s]c:\\Users\\swath\\anaconda3\\envs\\ml_env\\Lib\\site-packages\\torch_geometric\\data\\storage.py:452: UserWarning: Unable to accurately infer 'num_nodes' from the attribute set '{'i_indices', 'j_indices', 'edge_index'}'. Please explicitly set 'num_nodes' as an attribute of 'data' to suppress this warning\n",
            "  warnings.warn(\n",
            "val Epoch 97: 100%|██████████| 959/959 [00:24<00:00, 38.71it/s]\n",
            "test Epoch 97:   0%|          | 0/1199 [00:00<?, ?it/s]c:\\Users\\swath\\anaconda3\\envs\\ml_env\\Lib\\site-packages\\torch_geometric\\data\\storage.py:452: UserWarning: Unable to accurately infer 'num_nodes' from the attribute set '{'i_indices', 'j_indices', 'edge_index'}'. Please explicitly set 'num_nodes' as an attribute of 'data' to suppress this warning\n",
            "  warnings.warn(\n",
            "test Epoch 97: 100%|██████████| 1199/1199 [00:31<00:00, 37.63it/s]\n"
          ]
        },
        {
          "name": "stdout",
          "output_type": "stream",
          "text": [
            "\n",
            "#### Epoch time 197.1963s\n",
            "loss: 0.3330, acc: 0.8605, roc: 0.9316, f1: 0.8638, p: 0.8439, r: 0.8845, int-ap: 0.9208, ap: 0.9208\n",
            "#### Validation\n",
            "loss: 0.3225, acc: 0.8750, roc: 0.9446, f1: 0.8838, p: 0.8260, r: 0.9502, int-ap: 0.9323, ap: 0.9323\n",
            "#### Test\n",
            "loss: 0.3146, acc: 0.8758, roc: 0.9472, f1: 0.8843, p: 0.8278, r: 0.9490, int-ap: 0.9361, ap: 0.9360\n"
          ]
        },
        {
          "name": "stderr",
          "output_type": "stream",
          "text": [
            "train Epoch 98:   0%|          | 0/3836 [00:00<?, ?it/s]c:\\Users\\swath\\anaconda3\\envs\\ml_env\\Lib\\site-packages\\torch_geometric\\data\\storage.py:452: UserWarning: Unable to accurately infer 'num_nodes' from the attribute set '{'i_indices', 'j_indices', 'edge_index'}'. Please explicitly set 'num_nodes' as an attribute of 'data' to suppress this warning\n",
            "  warnings.warn(\n",
            "train Epoch 98: 100%|██████████| 3836/3836 [02:17<00:00, 28.00it/s]\n",
            "val Epoch 98:   0%|          | 0/959 [00:00<?, ?it/s]c:\\Users\\swath\\anaconda3\\envs\\ml_env\\Lib\\site-packages\\torch_geometric\\data\\storage.py:452: UserWarning: Unable to accurately infer 'num_nodes' from the attribute set '{'i_indices', 'j_indices', 'edge_index'}'. Please explicitly set 'num_nodes' as an attribute of 'data' to suppress this warning\n",
            "  warnings.warn(\n",
            "val Epoch 98: 100%|██████████| 959/959 [00:26<00:00, 36.77it/s]\n",
            "test Epoch 98:   0%|          | 0/1199 [00:00<?, ?it/s]c:\\Users\\swath\\anaconda3\\envs\\ml_env\\Lib\\site-packages\\torch_geometric\\data\\storage.py:452: UserWarning: Unable to accurately infer 'num_nodes' from the attribute set '{'i_indices', 'j_indices', 'edge_index'}'. Please explicitly set 'num_nodes' as an attribute of 'data' to suppress this warning\n",
            "  warnings.warn(\n",
            "test Epoch 98: 100%|██████████| 1199/1199 [00:34<00:00, 35.12it/s]\n"
          ]
        },
        {
          "name": "stdout",
          "output_type": "stream",
          "text": [
            "\n",
            "#### Epoch time 197.5962s\n",
            "loss: 0.3329, acc: 0.8601, roc: 0.9315, f1: 0.8633, p: 0.8440, r: 0.8836, int-ap: 0.9209, ap: 0.9209\n",
            "#### Validation\n",
            "loss: 0.3240, acc: 0.8739, roc: 0.9448, f1: 0.8831, p: 0.8232, r: 0.9524, int-ap: 0.9324, ap: 0.9323\n",
            "#### Test\n",
            "loss: 0.3163, acc: 0.8744, roc: 0.9473, f1: 0.8834, p: 0.8244, r: 0.9515, int-ap: 0.9361, ap: 0.9361\n"
          ]
        },
        {
          "name": "stderr",
          "output_type": "stream",
          "text": [
            "train Epoch 99:   0%|          | 0/3836 [00:00<?, ?it/s]c:\\Users\\swath\\anaconda3\\envs\\ml_env\\Lib\\site-packages\\torch_geometric\\data\\storage.py:452: UserWarning: Unable to accurately infer 'num_nodes' from the attribute set '{'i_indices', 'j_indices', 'edge_index'}'. Please explicitly set 'num_nodes' as an attribute of 'data' to suppress this warning\n",
            "  warnings.warn(\n",
            "train Epoch 99: 100%|██████████| 3836/3836 [02:18<00:00, 27.68it/s]\n",
            "val Epoch 99:   0%|          | 0/959 [00:00<?, ?it/s]c:\\Users\\swath\\anaconda3\\envs\\ml_env\\Lib\\site-packages\\torch_geometric\\data\\storage.py:452: UserWarning: Unable to accurately infer 'num_nodes' from the attribute set '{'i_indices', 'j_indices', 'edge_index'}'. Please explicitly set 'num_nodes' as an attribute of 'data' to suppress this warning\n",
            "  warnings.warn(\n",
            "val Epoch 99: 100%|██████████| 959/959 [00:25<00:00, 38.30it/s]\n",
            "test Epoch 99:   0%|          | 0/1199 [00:00<?, ?it/s]c:\\Users\\swath\\anaconda3\\envs\\ml_env\\Lib\\site-packages\\torch_geometric\\data\\storage.py:452: UserWarning: Unable to accurately infer 'num_nodes' from the attribute set '{'i_indices', 'j_indices', 'edge_index'}'. Please explicitly set 'num_nodes' as an attribute of 'data' to suppress this warning\n",
            "  warnings.warn(\n",
            "test Epoch 99: 100%|██████████| 1199/1199 [00:31<00:00, 37.82it/s]\n"
          ]
        },
        {
          "name": "stdout",
          "output_type": "stream",
          "text": [
            "\n",
            "#### Epoch time 195.6433s\n",
            "loss: 0.3319, acc: 0.8597, roc: 0.9318, f1: 0.8629, p: 0.8434, r: 0.8834, int-ap: 0.9216, ap: 0.9216\n",
            "#### Validation\n",
            "loss: 0.3230, acc: 0.8754, roc: 0.9448, f1: 0.8842, p: 0.8256, r: 0.9518, int-ap: 0.9321, ap: 0.9321\n",
            "#### Test\n",
            "loss: 0.3146, acc: 0.8763, roc: 0.9474, f1: 0.8849, p: 0.8273, r: 0.9510, int-ap: 0.9361, ap: 0.9360\n"
          ]
        },
        {
          "name": "stderr",
          "output_type": "stream",
          "text": [
            "train Epoch 100:   0%|          | 0/3836 [00:00<?, ?it/s]c:\\Users\\swath\\anaconda3\\envs\\ml_env\\Lib\\site-packages\\torch_geometric\\data\\storage.py:452: UserWarning: Unable to accurately infer 'num_nodes' from the attribute set '{'i_indices', 'j_indices', 'edge_index'}'. Please explicitly set 'num_nodes' as an attribute of 'data' to suppress this warning\n",
            "  warnings.warn(\n",
            "train Epoch 100: 100%|██████████| 3836/3836 [02:16<00:00, 28.15it/s]\n",
            "val Epoch 100:   0%|          | 0/959 [00:00<?, ?it/s]c:\\Users\\swath\\anaconda3\\envs\\ml_env\\Lib\\site-packages\\torch_geometric\\data\\storage.py:452: UserWarning: Unable to accurately infer 'num_nodes' from the attribute set '{'i_indices', 'j_indices', 'edge_index'}'. Please explicitly set 'num_nodes' as an attribute of 'data' to suppress this warning\n",
            "  warnings.warn(\n",
            "val Epoch 100: 100%|██████████| 959/959 [00:25<00:00, 37.18it/s]\n",
            "test Epoch 100:   0%|          | 0/1199 [00:00<?, ?it/s]c:\\Users\\swath\\anaconda3\\envs\\ml_env\\Lib\\site-packages\\torch_geometric\\data\\storage.py:452: UserWarning: Unable to accurately infer 'num_nodes' from the attribute set '{'i_indices', 'j_indices', 'edge_index'}'. Please explicitly set 'num_nodes' as an attribute of 'data' to suppress this warning\n",
            "  warnings.warn(\n",
            "test Epoch 100: 100%|██████████| 1199/1199 [00:31<00:00, 37.74it/s]"
          ]
        },
        {
          "name": "stdout",
          "output_type": "stream",
          "text": [
            "\n",
            "#### Epoch time 194.1745s\n",
            "loss: 0.3316, acc: 0.8599, roc: 0.9319, f1: 0.8631, p: 0.8439, r: 0.8832, int-ap: 0.9215, ap: 0.9215\n",
            "#### Validation\n",
            "loss: 0.3227, acc: 0.8741, roc: 0.9450, f1: 0.8832, p: 0.8236, r: 0.9521, int-ap: 0.9328, ap: 0.9328\n",
            "#### Test\n",
            "loss: 0.3153, acc: 0.8751, roc: 0.9475, f1: 0.8839, p: 0.8254, r: 0.9515, int-ap: 0.9363, ap: 0.9362\n"
          ]
        },
        {
          "name": "stderr",
          "output_type": "stream",
          "text": [
            "\n"
          ]
        }
      ],
      "source": [
        "from datetime import datetime\n",
        "import numpy as np\n",
        "import torch\n",
        "from torch import optim\n",
        "import time\n",
        "from tqdm import tqdm\n",
        "\n",
        "\n",
        "\n",
        "dataset_name = 'drugbank'\n",
        "fold_i = 0\n",
        "dropout = 0.2\n",
        "n_iter = 3\n",
        "TOTAL_NUM_RELS = total_num_rel()\n",
        "batch_size = 512\n",
        "data_size_ratio = 1\n",
        "device = 'cuda' if torch.cuda.is_available() else 'cpu'\n",
        "hid_feats = 64\n",
        "rel_total = TOTAL_NUM_RELS\n",
        "lr = 1e-3\n",
        "weight_decay = 5e-4\n",
        "n_epochs = 100\n",
        "kge_feats = 64\n",
        "\n",
        "def do_compute(model, batch, device):\n",
        "\n",
        "        batch = [t.to(device) for t in batch]\n",
        "        p_score, n_score = model(batch)\n",
        "        assert p_score.ndim == 2\n",
        "        assert n_score.ndim == 3\n",
        "        probas_pred = np.concatenate([torch.sigmoid(p_score.detach()).cpu().mean(dim=-1), torch.sigmoid(n_score.detach()).mean(dim=-1).view(-1).cpu()])\n",
        "        ground_truth = np.concatenate([np.ones(p_score.shape[0]), np.zeros(n_score.shape[:2]).reshape(-1)])\n",
        "\n",
        "        return p_score, n_score, probas_pred, ground_truth\n",
        "\n",
        "\n",
        "def run_batch(model, optimizer, data_loader, epoch_i, desc, loss_fn, device):\n",
        "        total_loss = 0\n",
        "        loss_pos = 0\n",
        "        loss_neg = 0\n",
        "        probas_pred = []\n",
        "        ground_truth = []\n",
        "\n",
        "        for batch in tqdm(data_loader, desc= f'{desc} Epoch {epoch_i}'):\n",
        "            p_score, n_score, batch_probas_pred, batch_ground_truth = do_compute(model, batch, device)\n",
        "\n",
        "            probas_pred.append(batch_probas_pred)\n",
        "            ground_truth.append(batch_ground_truth)\n",
        "\n",
        "            loss, loss_p, loss_n = loss_fn(p_score, n_score)\n",
        "            if model.training:\n",
        "                optimizer.zero_grad()\n",
        "                loss.backward()\n",
        "                optimizer.step()\n",
        "\n",
        "            total_loss += loss.item()\n",
        "            loss_pos += loss_p.item()\n",
        "            loss_neg += loss_n.item()\n",
        "        total_loss /= len(data_loader)\n",
        "        loss_pos /= len(data_loader)\n",
        "        loss_neg /= len(data_loader)\n",
        "\n",
        "        probas_pred = np.concatenate(probas_pred)\n",
        "        ground_truth = np.concatenate(ground_truth)\n",
        "\n",
        "        return total_loss, do_compute_metrics(probas_pred, ground_truth)\n",
        "\n",
        "\n",
        "def print_metrics(loss, acc, auroc, f1_score, precision, recall, int_ap, ap):\n",
        "    print(f'loss: {loss:.4f}, acc: {acc:.4f}, roc: {auroc:.4f}, f1: {f1_score:.4f}, ', end='')\n",
        "    print(f'p: {precision:.4f}, r: {recall:.4f}, int-ap: {int_ap:.4f}, ap: {ap:.4f}')\n",
        "\n",
        "    return f1_score\n",
        "\n",
        "\n",
        "def train(model, train_data_loader, val_data_loader, test_data_loader, loss_fn, optimizer, n_epochs, device, scheduler):\n",
        "    for epoch_i in range(1, n_epochs+1):\n",
        "        start = time.time()\n",
        "        model.train()\n",
        "        \n",
        "        ## Training\n",
        "        train_loss, train_metrics = run_batch(model, optimizer, train_data_loader, epoch_i, 'train', loss_fn, device)\n",
        "        if scheduler:\n",
        "            scheduler.step()\n",
        "\n",
        "        model.eval()\n",
        "        with torch.no_grad():\n",
        "            ## Validation\n",
        "            if val_data_loader:\n",
        "                val_loss, val_metrics = run_batch(model, optimizer, val_data_loader, epoch_i, 'val', loss_fn, device)\n",
        "            \n",
        "            ## Test Set Evaluation\n",
        "            if test_data_loader:\n",
        "                test_loss, test_metrics = run_batch(model, optimizer, test_data_loader, epoch_i, 'test', loss_fn, device)\n",
        "\n",
        "        print(f'\\n#### Epoch time {time.time() - start:.4f}s')\n",
        "        print_metrics(train_loss, *train_metrics)\n",
        "\n",
        "        if val_data_loader:\n",
        "            print('#### Validation')\n",
        "            print_metrics(val_loss, *val_metrics)\n",
        "\n",
        "        if test_data_loader:\n",
        "            print('#### Test')\n",
        "            print_metrics(test_loss, *test_metrics)\n",
        "\n",
        "\n",
        "\n",
        "train_data_loader, val_data_loader, test_data_loader, NUM_FEATURES, NUM_EDGE_FEATURES = \\\n",
        "    load_ddi_data_fold(\n",
        "    fold=0, batch_size=32, data_size_ratio=1.0)\n",
        "\n",
        "GmpnnNet = GmpnnCSNetDrugBank if dataset_name == 'drugbank' else GmpnnCSNetDrugBank\n",
        "\n",
        "model = GmpnnNet(NUM_FEATURES, NUM_EDGE_FEATURES, hid_feats, rel_total, n_iter, dropout)\n",
        "loss_fn = SigmoidLoss()\n",
        "optimizer = optim.Adam(model.parameters(), lr=lr, weight_decay=weight_decay)\n",
        "scheduler = optim.lr_scheduler.LambdaLR(optimizer, lambda epoch: 0.96 ** (epoch))\n",
        "\n",
        "time_stamp = f'{datetime.now()}'.replace(':', '_')\n",
        "\n",
        "\n",
        "model.to(device=device)\n",
        "print(f'Training on {device}.')\n",
        "print(f'Starting fold_{fold_i} at', datetime.now())\n",
        "train(model, train_data_loader, val_data_loader, test_data_loader, loss_fn, optimizer, n_epochs, device, scheduler)"
      ]
    },
    {
      "cell_type": "code",
      "execution_count": 39,
      "metadata": {},
      "outputs": [],
      "source": [
        "torch.save(model.state_dict(), 'gmpnn_model_recovered.pt')\n"
      ]
    },
    {
      "cell_type": "code",
      "execution_count": null,
      "metadata": {},
      "outputs": [],
      "source": []
    }
  ],
  "metadata": {
    "colab": {
      "provenance": []
    },
    "kernelspec": {
      "display_name": "ml_env",
      "language": "python",
      "name": "python3"
    },
    "language_info": {
      "codemirror_mode": {
        "name": "ipython",
        "version": 3
      },
      "file_extension": ".py",
      "mimetype": "text/x-python",
      "name": "python",
      "nbconvert_exporter": "python",
      "pygments_lexer": "ipython3",
      "version": "3.12.9"
    }
  },
  "nbformat": 4,
  "nbformat_minor": 0
}
